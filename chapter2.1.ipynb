{
 "cells": [
  {
   "cell_type": "markdown",
   "metadata": {
    "slideshow": {
     "slide_type": "slide"
    }
   },
   "source": [
    "## 2.1 几何方法用于建立机器人运动学模型"
   ]
  },
  {
   "cell_type": "markdown",
   "metadata": {
    "slideshow": {
     "slide_type": "slide"
    }
   },
   "source": [
    "- **正运动学**(Forward Kinecmatics)是从已知的关节变量（例如角度或位移）推导出机械臂末端执行器的位置。它的目标是确定当我们给定每个关节的位置（角度）时，末端执行器的位置和姿态。"
   ]
  },
  {
   "cell_type": "markdown",
   "metadata": {
    "slideshow": {
     "slide_type": "subslide"
    }
   },
   "source": [
    "#### 正运动学示例\n"
   ]
  },
  {
   "cell_type": "code",
   "execution_count": 1,
   "metadata": {
    "slideshow": {
     "slide_type": "subslide"
    }
   },
   "outputs": [
    {
     "data": {
      "application/vnd.jupyter.widget-view+json": {
<<<<<<< HEAD
       "model_id": "d7dcf3aa2e494d35bb489881c33eedcb",
=======
       "model_id": "ccbc1b189f87480f9a39f305c0147187",
>>>>>>> f5b35505f7f62ea04a4e4bf36051e974307ba855
       "version_major": 2,
       "version_minor": 0
      },
      "text/plain": [
       "interactive(children=(FloatSlider(value=35.0, description='Theta1', max=180.0, min=-180.0, step=1.0), FloatSli…"
      ]
     },
     "metadata": {},
     "output_type": "display_data"
    }
   ],
   "source": [
    "from robot_kinematics import *\n",
    "create_interactive_forward() "
   ]
  },
  {
   "cell_type": "markdown",
   "metadata": {
    "slideshow": {
     "slide_type": "slide"
    }
   },
   "source": [
    "- **逆运动学**(Inverse Kinecmatics)是与正运动学相反的过程，它的目标是通过给定末端执行器的位置，求解出关节变量（角度）。"
   ]
  },
  {
   "cell_type": "markdown",
   "metadata": {
    "slideshow": {
     "slide_type": "subslide"
    }
   },
   "source": [
    "#### 逆运动学示例"
   ]
  },
  {
   "cell_type": "code",
   "execution_count": 2,
   "metadata": {
    "slideshow": {
     "slide_type": "subslide"
    }
   },
   "outputs": [
    {
     "data": {
      "application/vnd.jupyter.widget-view+json": {
<<<<<<< HEAD
       "model_id": "4ed6b8b97af7441ab1920840a90147aa",
=======
       "model_id": "0aa699427657468dbfddd7f709c38242",
>>>>>>> f5b35505f7f62ea04a4e4bf36051e974307ba855
       "version_major": 2,
       "version_minor": 0
      },
      "text/plain": [
       "interactive(children=(FloatSlider(value=2.0, description='x', max=3.0, min=-3.0, step=0.01), FloatSlider(value…"
      ]
     },
     "metadata": {},
     "output_type": "display_data"
    }
   ],
   "source": [
    "from robot_kinematics import *\n",
    "create_interactive_inverse()"
   ]
  },
  {
   "cell_type": "markdown",
   "metadata": {
    "slideshow": {
     "slide_type": "slide"
    }
   },
   "source": [
    "### 2.1.1 正运动学分析（Forward Kinecmatics Anlysis)"
   ]
  },
  {
   "cell_type": "markdown",
   "metadata": {
    "slideshow": {
     "slide_type": "subslide"
    }
   },
   "source": [
    "\n",
    "几何方法是分析机器人运动学的一个基本工具，特别适用于连杆机器人系统。通过几何关系，可以从关节的角度（$θ$）推导出机器人末端执行器的位置，称为正运动学问题；或者从末端执行器的位置推导出关节的角度，称为逆运动学问题。"
   ]
  },
  {
   "cell_type": "markdown",
   "metadata": {
    "slideshow": {
     "slide_type": "slide"
    }
   },
   "source": [
    "#### 几何图解法\n",
    "几何图解法是一种基于几何形状和三角函数关系的分析方法。在机械臂的运动学模型中，每一个连杆和关节都可以用简单的几何图形来表示。通过几何图解，我们可以直观地看到各个关节和连杆的位置关系，并通过基本的三角函数计算得到所需的运动学参数。\n",
    "\n",
    "对于一个两连杆机械臂（如双连杆机械臂），其几何图解分析如下：\n",
    "\n",
    "- 设 $l_1$ 和 $l_2$ 分别为两根连杆的长度，$θ_1$ 和 $θ_2$ 为个关节的旋转角度。"
   ]
  },
  {
   "cell_type": "code",
   "execution_count": 3,
   "metadata": {
    "slideshow": {
     "slide_type": "subslide"
    }
   },
   "outputs": [
    {
     "data": {
      "application/vnd.jupyter.widget-view+json": {
<<<<<<< HEAD
       "model_id": "bb406eab1c5e4f9cac42a5a1a63f7fbf",
=======
       "model_id": "d6976ea7830547faa9aa1640f0cb7cf4",
>>>>>>> f5b35505f7f62ea04a4e4bf36051e974307ba855
       "version_major": 2,
       "version_minor": 0
      },
      "text/plain": [
       "interactive(children=(FloatSlider(value=35.0, description='Theta1', max=180.0, min=-180.0, step=1.0), FloatSli…"
      ]
     },
     "metadata": {},
     "output_type": "display_data"
    }
   ],
   "source": [
    "from robot_kinematics import *\n",
    "create_interactive_forward()"
   ]
  },
  {
   "cell_type": "markdown",
   "metadata": {
    "slideshow": {
     "slide_type": "subslide"
    }
   },
   "source": [
    "  \n",
    "正运动学公式可以通过几何关系直接推导出来：\n",
    "- 第一个关节位置 $P_1$:\n",
    "  $$\n",
    "  P_1 = (x_1, y_1) = (l_1 \\cos(θ_1), l_1 \\sin(θ_1)) \\tag{2.1}\n",
    " $$\n",
    "- 第二个关节位置 $P_2$ （末端执行器）:\n",
    "  $$\n",
    "  P_2 = (x_2, y_2) = (x_1 + l_2 \\cos(θ_1 + θ_2), y_1 + l_2 \\sin(θ_1 + θ_2)) \\tag{2.2}\n",
    " $$"
   ]
  },
  {
   "cell_type": "markdown",
   "metadata": {
    "slideshow": {
     "slide_type": "slide"
    }
   },
   "source": [
    "#### 向量图解法"
   ]
  },
  {
   "cell_type": "markdown",
   "metadata": {
    "slideshow": {
     "slide_type": "subslide"
    }
   },
   "source": [
    "向量图解法是几何方法的一个扩展，通过使用向量来表示连杆和关节之间的关系。向量图解法的优势在于它不仅能直观地表示机器人系统的结构，还能方便地进行代数计算，尤其适合复杂的多连杆系统。"
   ]
  },
  {
   "cell_type": "markdown",
   "metadata": {
    "slideshow": {
     "slide_type": "slide"
    }
   },
   "source": [
    "##### 手动推导"
   ]
  },
  {
   "cell_type": "markdown",
   "metadata": {
    "slideshow": {
     "slide_type": "subslide"
    }
   },
   "source": [
    "在向量图解法中，机械臂的每个连杆可以看作一个向量，关节之间的旋转则是向量的旋转变换。以下是两连杆机械臂的向量表示：\n",
    "\n",
    "- 定义第一个连杆的向量 $\\overrightarrow{P_0P_1}$：\n",
    "  $$\n",
    "  \\overrightarrow{P_0P_1} = \\left[ l_1 \\cos(θ_1), l_1 \\sin(θ_1) \\right] \\tag{2.3}\n",
    "  $$\n",
    "  \n",
    "- 定义第二个连杆的向量 $\\overrightarrow{P_1P_2}$：\n",
    "  $$\n",
    "  \\overrightarrow{P_1P_2} = \\left[ l_2 \\cos(θ_1 + θ_2), l_2 \\sin(θ_1 + θ_2) \\right] \\tag{2.4}\n",
    "  $$\n",
    "  "
   ]
  },
  {
   "cell_type": "code",
   "execution_count": 4,
   "metadata": {
    "slideshow": {
     "slide_type": "subslide"
    }
   },
   "outputs": [
    {
     "data": {
      "application/vnd.jupyter.widget-view+json": {
<<<<<<< HEAD
       "model_id": "e31d166f140a4bc7b8c9bc4cf84067a6",
=======
       "model_id": "febad73f4daf4a66b1d9911b6a508d07",
>>>>>>> f5b35505f7f62ea04a4e4bf36051e974307ba855
       "version_major": 2,
       "version_minor": 0
      },
      "text/plain": [
       "interactive(children=(FloatSlider(value=35.0, description='Theta1', max=180.0, min=-180.0, step=1.0), FloatSli…"
      ]
     },
     "metadata": {},
     "output_type": "display_data"
    }
   ],
   "source": [
    "from robot_kinematics import *\n",
    "create_interactive_forward()"
   ]
  },
  {
   "cell_type": "markdown",
   "metadata": {
    "slideshow": {
     "slide_type": "subslide"
    }
   },
   "source": [
    "通过向量加法，可以得到末端执行器的位置 $\\overrightarrow{P_0P_2}$：\n",
    "$$\n",
    "\\overrightarrow{P_0P_2} = \\overrightarrow{P_0P_1} + \\overrightarrow{P_1P_2} \\tag{2.5}\n",
    "$$\n",
    "代入公式：\n",
    "$$\n",
    "\\overrightarrow{P_0P_2}=[x,y] = \\left[ l_1 \\cos(θ_1) + l_2 \\cos(θ_1 + θ_2), l_1 \\sin(θ_1) + l_2 \\sin(θ_1 + θ_2) \\right] \\tag{2.6}\n",
    "$$\n",
    "\n",
    "这种方法允许我们以向量的形式分析机器人末端的位置，结合代数运算进行复杂系统的运动学分析。"
   ]
  },
  {
   "cell_type": "markdown",
   "metadata": {
    "slideshow": {
     "slide_type": "slide"
    }
   },
   "source": [
    "##### Python公式推导与验证"
   ]
  },
  {
   "cell_type": "markdown",
   "metadata": {
    "slideshow": {
     "slide_type": "subslide"
    }
   },
   "source": [
    "首先初始化书写已知变量"
   ]
  },
  {
   "cell_type": "code",
<<<<<<< HEAD
   "execution_count": 5,
=======
   "execution_count": 11,
>>>>>>> f5b35505f7f62ea04a4e4bf36051e974307ba855
   "metadata": {
    "slideshow": {
     "slide_type": "fragment"
    }
   },
   "outputs": [],
   "source": [
    "import sympy as sp\n",
    "# 启用 LaTeX 渲染\n",
    "sp.init_printing() \n",
    "# 定义符号变量\n",
    "theta_1, theta_2 = sp.symbols('theta_1 theta_2')\n",
    "l1, l2 = sp.symbols('l_1 l_2')"
   ]
  },
  {
   "cell_type": "markdown",
   "metadata": {
    "slideshow": {
     "slide_type": "slide"
    }
   },
   "source": [
    "然后开始构建$\\overrightarrow{P_0P_1}$向量"
   ]
  },
  {
   "cell_type": "code",
   "execution_count": 6,
   "metadata": {
    "slideshow": {
     "slide_type": "fragment"
    }
   },
   "outputs": [
    {
     "data": {
      "application/vnd.jupyter.widget-view+json": {
       "model_id": "91ad6b76fc3845cc87d826e74bce9fa3",
       "version_major": 2,
       "version_minor": 0
      },
      "text/plain": [
       "interactive(children=(FloatSlider(value=35.0, description='Theta1', max=180.0, min=-180.0, step=1.0), FloatSli…"
      ]
     },
     "metadata": {},
     "output_type": "display_data"
    }
   ],
   "source": [
    "from robot_kinematics import *\n",
    "create_interactive_forward()"
   ]
  },
  {
   "cell_type": "code",
   "execution_count": 16,
   "metadata": {
    "slideshow": {
     "slide_type": "subslide"
    }
   },
   "outputs": [
    {
     "data": {
      "text/latex": [
       "$\\displaystyle \\left[\\begin{matrix}l_{1} \\cos{\\left(\\theta_{1} \\right)}\\\\l_{1} \\sin{\\left(\\theta_{1} \\right)}\\end{matrix}\\right]$"
      ],
      "text/plain": [
       "⎡l₁⋅cos(θ₁)⎤\n",
       "⎢          ⎥\n",
       "⎣l₁⋅sin(θ₁)⎦"
      ]
     },
<<<<<<< HEAD
     "execution_count": 6,
=======
     "execution_count": 16,
>>>>>>> f5b35505f7f62ea04a4e4bf36051e974307ba855
     "metadata": {},
     "output_type": "execute_result"
    }
   ],
   "source": [
    "# 向量POP1\n",
    "P0P1 = sp.Matrix([l1 * sp.cos(theta_1), l1 * sp.sin(theta_1)])\n",
    "P0P1"
   ]
  },
  {
   "cell_type": "markdown",
   "metadata": {
    "slideshow": {
     "slide_type": "subslide"
    }
   },
   "source": [
    "然后开始构建$\\overrightarrow{P_1P_2}$向量，我们这里要注意，此时相对于绝对坐标系来说，在$X$轴和$Y$轴的投影是$\\theta_{ii}$,所以我们要先定义$\\theta_{ii}$然后计算"
   ]
  },
  {
   "cell_type": "code",
   "execution_count": 7,
   "metadata": {
    "slideshow": {
     "slide_type": "fragment"
    }
   },
   "outputs": [
    {
     "data": {
      "application/vnd.jupyter.widget-view+json": {
       "model_id": "89b9f86ef14e404ba3a1e5bf0a91f138",
       "version_major": 2,
       "version_minor": 0
      },
      "text/plain": [
       "interactive(children=(FloatSlider(value=35.0, description='Theta1', max=180.0, min=-180.0, step=1.0), FloatSli…"
      ]
     },
     "metadata": {},
     "output_type": "display_data"
    }
   ],
   "source": [
    "from robot_kinematics import *\n",
    "create_interactive_forward()"
   ]
  },
  {
   "cell_type": "code",
   "execution_count": 14,
   "metadata": {
    "slideshow": {
     "slide_type": "subslide"
    }
   },
   "outputs": [
    {
     "data": {
      "text/latex": [
       "$\\displaystyle \\left[\\begin{matrix}l_{2} \\cos{\\left(theta_{ii} \\right)}\\\\l_{2} \\sin{\\left(theta_{ii} \\right)}\\end{matrix}\\right]$"
      ],
      "text/plain": [
       "⎡l₂⋅cos(θ_{ii})⎤\n",
       "⎢              ⎥\n",
       "⎣l₂⋅sin(θ_{ii})⎦"
      ]
     },
<<<<<<< HEAD
     "execution_count": 7,
=======
     "execution_count": 14,
>>>>>>> f5b35505f7f62ea04a4e4bf36051e974307ba855
     "metadata": {},
     "output_type": "execute_result"
    }
   ],
   "source": [
    "# 向量POP1\n",
    "theta_ii=sp.symbols('theta_{ii}')\n",
    "P1P2 = sp.Matrix([l2 * sp.cos(theta_ii), l2 * sp.sin(theta_ii)])\n",
    "P1P2 "
   ]
  },
  {
   "cell_type": "markdown",
   "metadata": {
    "slideshow": {
     "slide_type": "subslide"
    }
   },
   "source": [
    "最终的$\\overrightarrow{P_0P_2}$向量满足公式$\\overrightarrow{P_0P_2} = \\overrightarrow{P_0P_1} + \\overrightarrow{P_1P_2}$"
   ]
  },
  {
   "cell_type": "code",
<<<<<<< HEAD
   "execution_count": 8,
=======
   "execution_count": 17,
>>>>>>> f5b35505f7f62ea04a4e4bf36051e974307ba855
   "metadata": {
    "slideshow": {
     "slide_type": "fragment"
    }
   },
   "outputs": [
    {
     "data": {
      "text/latex": [
       "$\\displaystyle \\left[\\begin{matrix}l_{1} \\cos{\\left(\\theta_{1} \\right)} + l_{2} \\cos{\\left(theta_{ii} \\right)}\\\\l_{1} \\sin{\\left(\\theta_{1} \\right)} + l_{2} \\sin{\\left(theta_{ii} \\right)}\\end{matrix}\\right]$"
      ],
      "text/plain": [
       "⎡l₁⋅cos(θ₁) + l₂⋅cos(θ_{ii})⎤\n",
       "⎢                           ⎥\n",
       "⎣l₁⋅sin(θ₁) + l₂⋅sin(θ_{ii})⎦"
      ]
     },
<<<<<<< HEAD
     "execution_count": 8,
=======
     "execution_count": 17,
>>>>>>> f5b35505f7f62ea04a4e4bf36051e974307ba855
     "metadata": {},
     "output_type": "execute_result"
    }
   ],
   "source": [
    "P0P2=P0P1+P1P2\n",
    "P0P2"
   ]
  },
  {
   "cell_type": "markdown",
   "metadata": {
    "slideshow": {
     "slide_type": "fragment"
    }
   },
   "source": [
    "其中，$\\theta_{ii}=\\theta_1+\\theta_2$,所以我们需要替换$\\theta_{ii}$"
   ]
  },
  {
   "cell_type": "code",
<<<<<<< HEAD
   "execution_count": 9,
=======
   "execution_count": 18,
>>>>>>> f5b35505f7f62ea04a4e4bf36051e974307ba855
   "metadata": {
    "slideshow": {
     "slide_type": "fragment"
    }
   },
   "outputs": [
    {
     "data": {
      "text/latex": [
       "$\\displaystyle \\left[\\begin{matrix}l_{1} \\cos{\\left(\\theta_{1} \\right)} + l_{2} \\cos{\\left(\\theta_{1} + \\theta_{2} \\right)}\\\\l_{1} \\sin{\\left(\\theta_{1} \\right)} + l_{2} \\sin{\\left(\\theta_{1} + \\theta_{2} \\right)}\\end{matrix}\\right]$"
      ],
      "text/plain": [
       "⎡l₁⋅cos(θ₁) + l₂⋅cos(θ₁ + θ₂)⎤\n",
       "⎢                            ⎥\n",
       "⎣l₁⋅sin(θ₁) + l₂⋅sin(θ₁ + θ₂)⎦"
      ]
     },
<<<<<<< HEAD
     "execution_count": 9,
=======
     "execution_count": 18,
>>>>>>> f5b35505f7f62ea04a4e4bf36051e974307ba855
     "metadata": {},
     "output_type": "execute_result"
    }
   ],
   "source": [
    "P0P2=P0P2.subs(theta_ii,(theta_1+theta_2))\n",
    "P0P2"
   ]
  },
  {
   "cell_type": "markdown",
   "metadata": {
    "slideshow": {
     "slide_type": "subslide"
    }
   },
   "source": [
    "最后我们代入数据验证和图像中是否一致"
   ]
  },
  {
   "cell_type": "code",
   "execution_count": 10,
<<<<<<< HEAD
   "metadata": {},
   "outputs": [
    {
     "data": {
      "image/png": "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",
=======
   "metadata": {
    "slideshow": {
     "slide_type": "fragment"
    }
   },
   "outputs": [
    {
     "data": {
      "image/png": "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\n",
>>>>>>> f5b35505f7f62ea04a4e4bf36051e974307ba855
      "text/latex": [
       "$\\displaystyle \\left[ 1.92612836400989, \\  1.82764357702089\\right]$"
      ],
      "text/plain": [
       "[1.92612836400989, 1.82764357702089]"
      ]
     },
     "execution_count": 10,
     "metadata": {},
     "output_type": "execute_result"
    }
   ],
   "source": [
    "# 使用字典进行变量替换\n",
    "# 使用批量替换，定义要替换的符号和它们的值\n",
    "theta_1_val=53\n",
    "theta_2_val=-26\n",
    "subs_values = {theta_1: sp.rad(theta_1_val), theta_2: sp.rad(theta_2_val), l1: 1.72, l2: 1.0}\n",
    "# 对 P0P2 批量替换并数值化\n",
    "P0P2_evaluated = [coord.subs(subs_values).evalf() for coord in P0P2]\n",
    "P0P2_evaluated"
   ]
  },
  {
   "cell_type": "markdown",
   "metadata": {
    "slideshow": {
     "slide_type": "slide"
    }
   },
   "source": [
    "\n",
    "### 2.1.2 逆运动学分析(Inverse Kinematics Anlysis)"
   ]
  },
  {
   "cell_type": "markdown",
   "metadata": {
    "slideshow": {
     "slide_type": "fragment"
    }
   },
   "source": [
    "\n",
    "逆运动学是通过已知末端执行器的位置来计算机器人的关节角度。对于一个两连杆机械臂，逆运动学问题相对于正运动学较为复杂，因为我们从给定的终端位置 $(x, y)$ 推导出关节角 $\\theta_1$ 和 $\\theta_2$。\n",
    "\n",
    "设定两个连杆的长度为 $l_1$ 和 $l_2$，末端执行器的位置为 $(x, y)$。我们需要推导出如下的方程来求解关节角度 $\\theta_1$ 和 $\\theta_2$。"
   ]
  },
  {
   "cell_type": "markdown",
   "metadata": {
    "slideshow": {
     "slide_type": "slide"
    }
   },
   "source": [
    "#### 几何分析"
   ]
  },
  {
   "cell_type": "markdown",
   "metadata": {
    "slideshow": {
     "slide_type": "subslide"
    }
   },
   "source": [
    "\n",
    "通过前面的几何分析正运动学或者下图所示，我们可以将问题分解为多个已知几何关系的三角形。首先，通过关节角 $\\theta_1$ 和 $\\theta_2$，我们知道末端执行器位置 $(x, y)$ 的关系式是：\n",
    "\n",
    "$$\n",
    "\\left\\{\n",
    "\\begin{aligned}\n",
    "x &= l_1 \\cos(\\theta_1) + l_2 \\cos(\\theta_1 + \\theta_2) \\\\\n",
    "y &= l_1 \\sin(\\theta_1) + l_2 \\sin(\\theta_1 + \\theta_2)\n",
    "\\end{aligned}\n",
    "\\right.\n",
    "\\tag{2.7}\n",
    "$$\n",
    "\n",
    "给定 $x$ 和 $y$，我们的目标是通过逆运动学求解出 $\\theta_1$ 和 $\\theta_2$。"
   ]
  },
  {
   "cell_type": "markdown",
   "metadata": {
    "slideshow": {
     "slide_type": "slide"
    }
   },
   "source": [
    "#### 手动推导"
   ]
  },
  {
   "cell_type": "markdown",
   "metadata": {
    "slideshow": {
     "slide_type": "subslide"
    }
   },
   "source": [
    "##### 1. 计算极径 $\\theta_2$：  \n"
   ]
  },
  {
   "cell_type": "code",
<<<<<<< HEAD
   "execution_count": 11,
=======
   "execution_count": 19,
>>>>>>> f5b35505f7f62ea04a4e4bf36051e974307ba855
   "metadata": {
    "slideshow": {
     "slide_type": "subslide"
    }
   },
   "outputs": [
    {
     "data": {
      "application/vnd.jupyter.widget-view+json": {
<<<<<<< HEAD
       "model_id": "d025c7345a3e4a25a66a10b87493445c",
=======
       "model_id": "17f021aad6f4439ba1bc6db4a74e1712",
>>>>>>> f5b35505f7f62ea04a4e4bf36051e974307ba855
       "version_major": 2,
       "version_minor": 0
      },
      "text/plain": [
       "interactive(children=(FloatSlider(value=35.0, description='Theta1', max=180.0, min=-180.0, step=1.0), FloatSli…"
      ]
     },
     "metadata": {},
     "output_type": "display_data"
    }
   ],
   "source": [
    "from robot_kinematics import create_interactive_forward_with_r\n",
    "create_interactive_forward_with_r()"
   ]
  },
  {
   "cell_type": "markdown",
   "metadata": {
    "slideshow": {
     "slide_type": "subslide"
    }
   },
   "source": [
    "\n",
    "$$\n",
    "r = \\sqrt{x^2 + y^2} \\tag{2.8}\n",
    "$$\n"
   ]
  },
  {
   "cell_type": "markdown",
   "metadata": {
    "slideshow": {
     "slide_type": "slide"
    }
   },
   "source": [
    "##### 2. 确保条件成立与边界范围计算"
   ]
  },
  {
   "cell_type": "markdown",
   "metadata": {
    "slideshow": {
     "slide_type": "fragment"
    }
   },
   "source": [
    "\n",
    "这个值表示末端执行器到原点的直线距离。为了确保解的存在性，必须满足下列条件：\n",
    "$$\n",
    "\\left| l_1 - l_2 \\right| \\leq r \\leq l_1 + l_2 \\tag{2.9}\n",
    "$$\n",
    "否则目标点超出了机械臂的可达工作空间，无法找到解。\n",
    "###### 示意图\n"
   ]
  },
  {
   "cell_type": "code",
<<<<<<< HEAD
   "execution_count": 12,
=======
   "execution_count": 20,
>>>>>>> f5b35505f7f62ea04a4e4bf36051e974307ba855
   "metadata": {
    "slideshow": {
     "slide_type": "subslide"
    }
   },
   "outputs": [
    {
     "data": {
      "application/vnd.jupyter.widget-view+json": {
<<<<<<< HEAD
       "model_id": "17959d054b314da188ab5264b494327e",
=======
       "model_id": "55ee570efdb84464852ab28728d08cf0",
>>>>>>> f5b35505f7f62ea04a4e4bf36051e974307ba855
       "version_major": 2,
       "version_minor": 0
      },
      "text/plain": [
       "interactive(children=(FloatSlider(value=35.0, description='Theta1', max=180.0, min=-180.0, step=1.0), FloatSli…"
      ]
     },
     "metadata": {},
     "output_type": "display_data"
    }
   ],
   "source": [
    "from robot_kinematics import create_interactive_forward_with_range\n",
    "create_interactive_forward_with_range()  "
   ]
  },
  {
   "cell_type": "markdown",
   "metadata": {
    "slideshow": {
     "slide_type": "slide"
    }
   },
   "source": [
    "\n",
    "##### 3. **求解角度 $\\theta_2$**"
   ]
  },
  {
   "cell_type": "markdown",
   "metadata": {
    "slideshow": {
     "slide_type": "fragment"
    }
   },
   "source": [
    "利用余弦定理，我们可以求解第二个关节的角度 $\\theta_2$。考虑到末端执行器、关节 1 和关节 2 形成的三角形，我们可以应用[余弦定理(Law of consines)](law_of_cosines.ipynb)。\n",
    "###### 示意图如下"
   ]
  },
  {
   "cell_type": "code",
<<<<<<< HEAD
   "execution_count": 13,
=======
   "execution_count": 21,
>>>>>>> f5b35505f7f62ea04a4e4bf36051e974307ba855
   "metadata": {
    "slideshow": {
     "slide_type": "subslide"
    }
   },
   "outputs": [
    {
     "data": {
      "application/vnd.jupyter.widget-view+json": {
<<<<<<< HEAD
       "model_id": "a402d89583ad4fca8513292c0ab294e5",
=======
       "model_id": "d918f20c408d41108b5bcc6555aca4a5",
>>>>>>> f5b35505f7f62ea04a4e4bf36051e974307ba855
       "version_major": 2,
       "version_minor": 0
      },
      "text/plain": [
       "interactive(children=(FloatSlider(value=2.0, description='x', max=3.0, min=-3.0, step=0.01), FloatSlider(value…"
      ]
     },
     "metadata": {},
     "output_type": "display_data"
    }
   ],
   "source": [
    "from robot_kinematics import create_interactive_inverse_for_theta\n",
    "create_interactive_inverse_for_theta()"
   ]
  },
  {
   "cell_type": "markdown",
   "metadata": {
    "slideshow": {
     "slide_type": "subslide"
    }
   },
   "source": [
    "其中有$\\cos(\\phi)=\\cos(\\pi-\\theta_2)=\\cos(\\theta_2)$\n"
   ]
  },
  {
   "cell_type": "markdown",
   "metadata": {
    "slideshow": {
     "slide_type": "fragment"
    }
   },
   "source": [
    "故有\n",
    "$$\n",
    "\\cos(\\theta_2)=\\cos(\\phi)= \\frac{r^2 - l_1^2 - l_2^2}{2 l_1 l_2} \\tag{2.10}\n",
    "$$"
   ]
  },
  {
   "cell_type": "markdown",
   "metadata": {
    "slideshow": {
     "slide_type": "subslide"
    }
   },
   "source": [
    "#### 最终结果\n"
   ]
  },
  {
   "cell_type": "markdown",
   "metadata": {
    "slideshow": {
     "slide_type": "fragment"
    }
   },
   "source": [
    "\n",
    "由此，角度 $\\theta_2$ 可以表示为：\n",
    "\n",
    "$$\n",
    "\\theta_2 = \\arccos\\left( \\frac{r^2 - l_1^2 - l_2^2}{2 l_1 l_2} \\right) \\tag{2.11}\n",
    "$$\n",
    "\n",
    "**注意**：由于 $\\theta_2$ 可能有两个的正负相反的解（即肘部朝上的解和肘部朝下的解），我们可以通过分别取正角度和负角度来表示这两种情况。\n",
    "- **肘部朝上**(Elbow Up, $\\theta_2 > 0$)\n",
    "- **肘部朝下**(Elbow Up, $\\theta_2 < 0$)"
   ]
  },
  {
   "cell_type": "code",
<<<<<<< HEAD
   "execution_count": 14,
=======
   "execution_count": 22,
>>>>>>> f5b35505f7f62ea04a4e4bf36051e974307ba855
   "metadata": {
    "slideshow": {
     "slide_type": "subslide"
    }
   },
   "outputs": [
    {
     "data": {
      "application/vnd.jupyter.widget-view+json": {
<<<<<<< HEAD
       "model_id": "1ac34e2aa18c4e9fb74c64aebb8218d7",
=======
       "model_id": "e6af4864de894acca965d92c32a49ba2",
>>>>>>> f5b35505f7f62ea04a4e4bf36051e974307ba855
       "version_major": 2,
       "version_minor": 0
      },
      "text/plain": [
       "interactive(children=(FloatSlider(value=2.0, description='x', max=3.0, min=-3.0, step=0.01), FloatSlider(value…"
      ]
     },
     "metadata": {},
     "output_type": "display_data"
    }
   ],
   "source": [
    "from robot_kinematics import create_interactive_inverse\n",
    "create_interactive_inverse()"
   ]
  },
  {
   "cell_type": "markdown",
   "metadata": {
    "slideshow": {
     "slide_type": "slide"
    }
   },
   "source": [
    "3. 求解角度 $\\theta_1$：  \n"
   ]
  },
  {
   "cell_type": "code",
<<<<<<< HEAD
   "execution_count": 15,
=======
   "execution_count": 23,
>>>>>>> f5b35505f7f62ea04a4e4bf36051e974307ba855
   "metadata": {
    "slideshow": {
     "slide_type": "fragment"
    }
   },
   "outputs": [
    {
     "data": {
      "application/vnd.jupyter.widget-view+json": {
<<<<<<< HEAD
       "model_id": "716f9f60c2f54c1e91fc3385be66a206",
=======
       "model_id": "5971073676344ecaab2269a37c10d896",
>>>>>>> f5b35505f7f62ea04a4e4bf36051e974307ba855
       "version_major": 2,
       "version_minor": 0
      },
      "text/plain": [
       "interactive(children=(FloatSlider(value=1.95, description='x', max=3.0, min=-3.0, step=0.01), FloatSlider(valu…"
      ]
     },
     "metadata": {},
     "output_type": "display_data"
    }
   ],
   "source": [
    "from robot_kinematics import create_interactive_inverse_for_psi_theta\n",
    "create_interactive_inverse_for_psi_theta()"
   ]
  },
  {
   "cell_type": "markdown",
   "metadata": {
    "slideshow": {
     "slide_type": "subslide"
    }
   },
   "source": [
    "\n",
    "$$\n",
    "\\psi = \\arctan\\left( \\frac{y}{x} \\right) \\tag{2.12}\n",
    "$$\n",
    "\n",
    "然后使用几何关系，得出：\n",
    "\n",
    "$$\n",
    "\\left\\{\n",
    "\\begin{aligned}\n",
    "\\theta_1&=\\psi-\\epsilon\\\\\n",
    "\\epsilon&=\\arctan\\left( \\frac{l_2 \\sin(\\theta_2)}{l_1 + l_2 \\cos(\\theta_2)} \\right)\n",
    "\\end{aligned}\n",
    "\\right.\n",
    "\\tag{2.13}\n",
    "$$\n",
    "\n",
    "整理得\n",
    "\n",
    "$$\n",
    "\\theta_1=\\psi-\\arctan\\left( \\frac{l_2 \\sin(\\theta_2)}{l_1 + l_2 \\cos(\\theta_2)} \\right) \\tag{2.14}\n",
    "$$\n",
    "\n",
    "同样，由于 $\\theta_2$ 有两个解，因此 $\\theta_1$ 也有两个相应的解。通过这种方式，我们可以获得肘部朝上和肘部朝下的两种解法。"
   ]
  },
  {
   "cell_type": "markdown",
   "metadata": {
    "slideshow": {
     "slide_type": "subslide"
    }
   },
   "source": [
    "#### 最终公式\n"
   ]
  },
  {
   "cell_type": "markdown",
   "metadata": {
    "slideshow": {
     "slide_type": "fragment"
    }
   },
   "source": [
    "\n",
    "根据以上推导，逆运动学的解可以总结如下：\n",
    "\n",
    "$$\n",
    "\\left\\{\n",
    "\\begin{aligned}\n",
    "\\theta_2 &= \\arccos\\left( \\frac{r^2 - l_1^2 - l_2^2}{2 l_1 l_2} \\right) \\\\\n",
    "\\theta_1 &= \\arctan\\left( \\frac{y}{x} \\right) - \\arctan\\left( \\frac{l_2 \\sin(\\theta_2)}{l_1 + l_2 \\cos(\\theta_2)} \\right)\n",
    "\\end{aligned}\n",
    "\\right.\n",
    "\\tag{2.15}\n",
    "$$\n",
    "\n",
    "由于 $\\theta_2$ 有两个可能的解（肘部朝上和肘部朝下），对于每个 $\\theta_2$，我们可以求解相应的 $\\theta_1$。最终的结果是两个解：\n",
    "\n",
    "1. **肘部朝上的解** $(\\theta_1^a, \\theta_2^a)$\n",
    "2. **肘部朝下的解** $(\\theta_1^b, \\theta_2^b)$"
   ]
  },
  {
   "cell_type": "markdown",
   "metadata": {
    "slideshow": {
     "slide_type": "slide"
    }
   },
   "source": [
    "#### Python符号变量推导公式"
   ]
  },
  {
   "cell_type": "markdown",
   "metadata": {
    "slideshow": {
     "slide_type": "subslide"
    }
   },
   "source": [
    "现在通过上面的学习，已经知道其正运动学公式（[详见链接](#211-正运动学分析forward-kinecmatics-anlysis)）其公式如下：\n",
    "$$\n",
    "\\overrightarrow{P_0P_2}=[x,y] = \\left[ l_1 \\cos(θ_1) + l_2 \\cos(θ_1 + θ_2), l_1 \\sin(θ_1) + l_2 \\sin(θ_1 + θ_2) \\right] \n",
    "$$"
   ]
  },
  {
   "cell_type": "markdown",
   "metadata": {
    "slideshow": {
     "slide_type": "fragment"
    }
   },
   "source": [
    "会发现求解非线性方程，非常难解。有时候求解不出来。这主要是由于方程当中存在大量的三角函数计算在此处。"
   ]
  },
  {
   "cell_type": "code",
   "execution_count": 16,
   "metadata": {
    "slideshow": {
     "slide_type": "subslide"
    }
   },
   "outputs": [
    {
     "ename": "KeyboardInterrupt",
     "evalue": "",
     "output_type": "error",
     "traceback": [
      "\u001b[1;31m---------------------------------------------------------------------------\u001b[0m",
      "\u001b[1;31mKeyboardInterrupt\u001b[0m                         Traceback (most recent call last)",
      "Cell \u001b[1;32mIn[16], line 12\u001b[0m\n\u001b[0;32m      9\u001b[0m eq_y \u001b[38;5;241m=\u001b[39m l1 \u001b[38;5;241m*\u001b[39m sp\u001b[38;5;241m.\u001b[39msin(theta1) \u001b[38;5;241m+\u001b[39m l2 \u001b[38;5;241m*\u001b[39m sp\u001b[38;5;241m.\u001b[39msin(theta1 \u001b[38;5;241m+\u001b[39m theta2) \u001b[38;5;241m-\u001b[39m y\n\u001b[0;32m     11\u001b[0m \u001b[38;5;66;03m# 尝试符号解\u001b[39;00m\n\u001b[1;32m---> 12\u001b[0m sp\u001b[38;5;241m.\u001b[39msolve([eq_x, eq_y], [theta1, theta2], \u001b[38;5;28mdict\u001b[39m\u001b[38;5;241m=\u001b[39m\u001b[38;5;28;01mTrue\u001b[39;00m)\n",
      "File \u001b[1;32mc:\\ProgramData\\anaconda3\\Lib\\site-packages\\sympy\\solvers\\solvers.py:1147\u001b[0m, in \u001b[0;36msolve\u001b[1;34m(f, *symbols, **flags)\u001b[0m\n\u001b[0;32m   1145\u001b[0m         solution \u001b[38;5;241m=\u001b[39m _solve(f[\u001b[38;5;241m0\u001b[39m], \u001b[38;5;241m*\u001b[39msymbols, \u001b[38;5;241m*\u001b[39m\u001b[38;5;241m*\u001b[39mflags)\n\u001b[0;32m   1146\u001b[0m \u001b[38;5;28;01melse\u001b[39;00m:\n\u001b[1;32m-> 1147\u001b[0m     linear, solution \u001b[38;5;241m=\u001b[39m _solve_system(f, symbols, \u001b[38;5;241m*\u001b[39m\u001b[38;5;241m*\u001b[39mflags)\n\u001b[0;32m   1148\u001b[0m \u001b[38;5;28;01massert\u001b[39;00m \u001b[38;5;28mtype\u001b[39m(solution) \u001b[38;5;129;01mis\u001b[39;00m \u001b[38;5;28mlist\u001b[39m\n\u001b[0;32m   1149\u001b[0m \u001b[38;5;28;01massert\u001b[39;00m \u001b[38;5;129;01mnot\u001b[39;00m solution \u001b[38;5;129;01mor\u001b[39;00m \u001b[38;5;28mtype\u001b[39m(solution[\u001b[38;5;241m0\u001b[39m]) \u001b[38;5;129;01mis\u001b[39;00m \u001b[38;5;28mdict\u001b[39m, solution\n",
      "File \u001b[1;32mc:\\ProgramData\\anaconda3\\Lib\\site-packages\\sympy\\solvers\\solvers.py:1934\u001b[0m, in \u001b[0;36m_solve_system\u001b[1;34m(exprs, symbols, **flags)\u001b[0m\n\u001b[0;32m   1932\u001b[0m \u001b[38;5;28;01mfor\u001b[39;00m s \u001b[38;5;129;01min\u001b[39;00m ok_syms:\n\u001b[0;32m   1933\u001b[0m     \u001b[38;5;28;01mtry\u001b[39;00m:\n\u001b[1;32m-> 1934\u001b[0m         soln \u001b[38;5;241m=\u001b[39m _vsolve(eq2, s, \u001b[38;5;241m*\u001b[39m\u001b[38;5;241m*\u001b[39mflags)\n\u001b[0;32m   1935\u001b[0m     \u001b[38;5;28;01mexcept\u001b[39;00m \u001b[38;5;167;01mNotImplementedError\u001b[39;00m:\n\u001b[0;32m   1936\u001b[0m         \u001b[38;5;28;01mcontinue\u001b[39;00m\n",
      "File \u001b[1;32mc:\\ProgramData\\anaconda3\\Lib\\site-packages\\sympy\\solvers\\solvers.py:2606\u001b[0m, in \u001b[0;36m_vsolve\u001b[1;34m(e, s, **flags)\u001b[0m\n\u001b[0;32m   2604\u001b[0m \u001b[38;5;28;01mdef\u001b[39;00m \u001b[38;5;21m_vsolve\u001b[39m(e, s, \u001b[38;5;241m*\u001b[39m\u001b[38;5;241m*\u001b[39mflags):\n\u001b[0;32m   2605\u001b[0m \u001b[38;5;250m    \u001b[39m\u001b[38;5;124;03m\"\"\"return list of scalar values for the solution of e for symbol s\"\"\"\u001b[39;00m\n\u001b[1;32m-> 2606\u001b[0m     \u001b[38;5;28;01mreturn\u001b[39;00m [i[s] \u001b[38;5;28;01mfor\u001b[39;00m i \u001b[38;5;129;01min\u001b[39;00m _solve(e, s, \u001b[38;5;241m*\u001b[39m\u001b[38;5;241m*\u001b[39mflags)]\n",
      "File \u001b[1;32mc:\\ProgramData\\anaconda3\\Lib\\site-packages\\sympy\\solvers\\solvers.py:1535\u001b[0m, in \u001b[0;36m_solve\u001b[1;34m(f, *symbols, **flags)\u001b[0m\n\u001b[0;32m   1531\u001b[0m     \u001b[38;5;28;01mif\u001b[39;00m newf \u001b[38;5;241m!=\u001b[39m f_num:\n\u001b[0;32m   1532\u001b[0m         \u001b[38;5;66;03m# don't check the rewritten form --check\u001b[39;00m\n\u001b[0;32m   1533\u001b[0m         \u001b[38;5;66;03m# solutions in the un-rewritten form below\u001b[39;00m\n\u001b[0;32m   1534\u001b[0m         flags[\u001b[38;5;124m'\u001b[39m\u001b[38;5;124mcheck\u001b[39m\u001b[38;5;124m'\u001b[39m] \u001b[38;5;241m=\u001b[39m \u001b[38;5;28;01mFalse\u001b[39;00m\n\u001b[1;32m-> 1535\u001b[0m         result \u001b[38;5;241m=\u001b[39m _solve(newf, symbol, \u001b[38;5;241m*\u001b[39m\u001b[38;5;241m*\u001b[39mflags)\n\u001b[0;32m   1536\u001b[0m         flags[\u001b[38;5;124m'\u001b[39m\u001b[38;5;124mcheck\u001b[39m\u001b[38;5;124m'\u001b[39m] \u001b[38;5;241m=\u001b[39m check\n\u001b[0;32m   1538\u001b[0m \u001b[38;5;66;03m# just a simple case - see if replacement of single function\u001b[39;00m\n\u001b[0;32m   1539\u001b[0m \u001b[38;5;66;03m# clears all symbol-dependent functions, e.g.\u001b[39;00m\n\u001b[0;32m   1540\u001b[0m \u001b[38;5;66;03m# log(x) - log(log(x) - 1) - 3 can be solved even though it has\u001b[39;00m\n\u001b[0;32m   1541\u001b[0m \u001b[38;5;66;03m# two generators.\u001b[39;00m\n",
      "File \u001b[1;32mc:\\ProgramData\\anaconda3\\Lib\\site-packages\\sympy\\solvers\\solvers.py:1685\u001b[0m, in \u001b[0;36m_solve\u001b[1;34m(f, *symbols, **flags)\u001b[0m\n\u001b[0;32m   1683\u001b[0m flags\u001b[38;5;241m.\u001b[39mpop(\u001b[38;5;124m'\u001b[39m\u001b[38;5;124mtsolve\u001b[39m\u001b[38;5;124m'\u001b[39m, \u001b[38;5;28;01mNone\u001b[39;00m)  \u001b[38;5;66;03m# allow tsolve to be used on next pass\u001b[39;00m\n\u001b[0;32m   1684\u001b[0m \u001b[38;5;28;01mtry\u001b[39;00m:\n\u001b[1;32m-> 1685\u001b[0m     soln \u001b[38;5;241m=\u001b[39m _tsolve(f_num, symbol, \u001b[38;5;241m*\u001b[39m\u001b[38;5;241m*\u001b[39mflags)\n\u001b[0;32m   1686\u001b[0m     \u001b[38;5;28;01mif\u001b[39;00m soln \u001b[38;5;129;01mis\u001b[39;00m \u001b[38;5;129;01mnot\u001b[39;00m \u001b[38;5;28;01mNone\u001b[39;00m:\n\u001b[0;32m   1687\u001b[0m         result \u001b[38;5;241m=\u001b[39m [{symbol: v} \u001b[38;5;28;01mfor\u001b[39;00m v \u001b[38;5;129;01min\u001b[39;00m soln]\n",
      "File \u001b[1;32mc:\\ProgramData\\anaconda3\\Lib\\site-packages\\sympy\\solvers\\solvers.py:2774\u001b[0m, in \u001b[0;36m_tsolve\u001b[1;34m(eq, sym, **flags)\u001b[0m\n\u001b[0;32m   2772\u001b[0m     rewrite \u001b[38;5;241m=\u001b[39m lhs\u001b[38;5;241m.\u001b[39mrewrite(exp)\n\u001b[0;32m   2773\u001b[0m     \u001b[38;5;28;01mif\u001b[39;00m rewrite \u001b[38;5;241m!=\u001b[39m lhs:\n\u001b[1;32m-> 2774\u001b[0m         \u001b[38;5;28;01mreturn\u001b[39;00m _vsolve(rewrite \u001b[38;5;241m-\u001b[39m rhs, sym, \u001b[38;5;241m*\u001b[39m\u001b[38;5;241m*\u001b[39mflags)\n\u001b[0;32m   2775\u001b[0m \u001b[38;5;28;01mexcept\u001b[39;00m \u001b[38;5;167;01mNotImplementedError\u001b[39;00m:\n\u001b[0;32m   2776\u001b[0m     \u001b[38;5;28;01mpass\u001b[39;00m\n",
      "File \u001b[1;32mc:\\ProgramData\\anaconda3\\Lib\\site-packages\\sympy\\solvers\\solvers.py:2606\u001b[0m, in \u001b[0;36m_vsolve\u001b[1;34m(e, s, **flags)\u001b[0m\n\u001b[0;32m   2604\u001b[0m \u001b[38;5;28;01mdef\u001b[39;00m \u001b[38;5;21m_vsolve\u001b[39m(e, s, \u001b[38;5;241m*\u001b[39m\u001b[38;5;241m*\u001b[39mflags):\n\u001b[0;32m   2605\u001b[0m \u001b[38;5;250m    \u001b[39m\u001b[38;5;124;03m\"\"\"return list of scalar values for the solution of e for symbol s\"\"\"\u001b[39;00m\n\u001b[1;32m-> 2606\u001b[0m     \u001b[38;5;28;01mreturn\u001b[39;00m [i[s] \u001b[38;5;28;01mfor\u001b[39;00m i \u001b[38;5;129;01min\u001b[39;00m _solve(e, s, \u001b[38;5;241m*\u001b[39m\u001b[38;5;241m*\u001b[39mflags)]\n",
      "File \u001b[1;32mc:\\ProgramData\\anaconda3\\Lib\\site-packages\\sympy\\solvers\\solvers.py:1685\u001b[0m, in \u001b[0;36m_solve\u001b[1;34m(f, *symbols, **flags)\u001b[0m\n\u001b[0;32m   1683\u001b[0m flags\u001b[38;5;241m.\u001b[39mpop(\u001b[38;5;124m'\u001b[39m\u001b[38;5;124mtsolve\u001b[39m\u001b[38;5;124m'\u001b[39m, \u001b[38;5;28;01mNone\u001b[39;00m)  \u001b[38;5;66;03m# allow tsolve to be used on next pass\u001b[39;00m\n\u001b[0;32m   1684\u001b[0m \u001b[38;5;28;01mtry\u001b[39;00m:\n\u001b[1;32m-> 1685\u001b[0m     soln \u001b[38;5;241m=\u001b[39m _tsolve(f_num, symbol, \u001b[38;5;241m*\u001b[39m\u001b[38;5;241m*\u001b[39mflags)\n\u001b[0;32m   1686\u001b[0m     \u001b[38;5;28;01mif\u001b[39;00m soln \u001b[38;5;129;01mis\u001b[39;00m \u001b[38;5;129;01mnot\u001b[39;00m \u001b[38;5;28;01mNone\u001b[39;00m:\n\u001b[0;32m   1687\u001b[0m         result \u001b[38;5;241m=\u001b[39m [{symbol: v} \u001b[38;5;28;01mfor\u001b[39;00m v \u001b[38;5;129;01min\u001b[39;00m soln]\n",
      "File \u001b[1;32mc:\\ProgramData\\anaconda3\\Lib\\site-packages\\sympy\\solvers\\solvers.py:2652\u001b[0m, in \u001b[0;36m_tsolve\u001b[1;34m(eq, sym, **flags)\u001b[0m\n\u001b[0;32m   2648\u001b[0m \u001b[38;5;28;01mtry\u001b[39;00m:\n\u001b[0;32m   2649\u001b[0m     \u001b[38;5;28;01mif\u001b[39;00m lhs\u001b[38;5;241m.\u001b[39mis_Add:\n\u001b[0;32m   2650\u001b[0m         \u001b[38;5;66;03m# it's time to try factoring; powdenest is used\u001b[39;00m\n\u001b[0;32m   2651\u001b[0m         \u001b[38;5;66;03m# to try get powers in standard form for better factoring\u001b[39;00m\n\u001b[1;32m-> 2652\u001b[0m         f \u001b[38;5;241m=\u001b[39m factor(powdenest(lhs \u001b[38;5;241m-\u001b[39m rhs))\n\u001b[0;32m   2653\u001b[0m         \u001b[38;5;28;01mif\u001b[39;00m f\u001b[38;5;241m.\u001b[39mis_Mul:\n\u001b[0;32m   2654\u001b[0m             \u001b[38;5;28;01mreturn\u001b[39;00m _vsolve(f, sym, \u001b[38;5;241m*\u001b[39m\u001b[38;5;241m*\u001b[39mflags)\n",
      "File \u001b[1;32mc:\\ProgramData\\anaconda3\\Lib\\site-packages\\sympy\\polys\\polytools.py:6542\u001b[0m, in \u001b[0;36mfactor\u001b[1;34m(f, deep, *gens, **args)\u001b[0m\n\u001b[0;32m   6539\u001b[0m     \u001b[38;5;28;01mreturn\u001b[39;00m f\u001b[38;5;241m.\u001b[39mxreplace(partials)\n\u001b[0;32m   6541\u001b[0m \u001b[38;5;28;01mtry\u001b[39;00m:\n\u001b[1;32m-> 6542\u001b[0m     \u001b[38;5;28;01mreturn\u001b[39;00m _generic_factor(f, gens, args, method\u001b[38;5;241m=\u001b[39m\u001b[38;5;124m'\u001b[39m\u001b[38;5;124mfactor\u001b[39m\u001b[38;5;124m'\u001b[39m)\n\u001b[0;32m   6543\u001b[0m \u001b[38;5;28;01mexcept\u001b[39;00m PolynomialError \u001b[38;5;28;01mas\u001b[39;00m msg:\n\u001b[0;32m   6544\u001b[0m     \u001b[38;5;28;01mif\u001b[39;00m \u001b[38;5;129;01mnot\u001b[39;00m f\u001b[38;5;241m.\u001b[39mis_commutative:\n",
      "File \u001b[1;32mc:\\ProgramData\\anaconda3\\Lib\\site-packages\\sympy\\polys\\polytools.py:6223\u001b[0m, in \u001b[0;36m_generic_factor\u001b[1;34m(expr, gens, args, method)\u001b[0m\n\u001b[0;32m   6221\u001b[0m opt \u001b[38;5;241m=\u001b[39m options\u001b[38;5;241m.\u001b[39mbuild_options(gens, args)\n\u001b[0;32m   6222\u001b[0m opt[\u001b[38;5;124m'\u001b[39m\u001b[38;5;124mfraction\u001b[39m\u001b[38;5;124m'\u001b[39m] \u001b[38;5;241m=\u001b[39m fraction\n\u001b[1;32m-> 6223\u001b[0m \u001b[38;5;28;01mreturn\u001b[39;00m _symbolic_factor(sympify(expr), opt, method)\n",
      "File \u001b[1;32mc:\\ProgramData\\anaconda3\\Lib\\site-packages\\sympy\\polys\\polytools.py:6163\u001b[0m, in \u001b[0;36m_symbolic_factor\u001b[1;34m(expr, opt, method)\u001b[0m\n\u001b[0;32m   6161\u001b[0m     \u001b[38;5;28;01mif\u001b[39;00m \u001b[38;5;28mhasattr\u001b[39m(expr,\u001b[38;5;124m'\u001b[39m\u001b[38;5;124m_eval_factor\u001b[39m\u001b[38;5;124m'\u001b[39m):\n\u001b[0;32m   6162\u001b[0m         \u001b[38;5;28;01mreturn\u001b[39;00m expr\u001b[38;5;241m.\u001b[39m_eval_factor()\n\u001b[1;32m-> 6163\u001b[0m     coeff, factors \u001b[38;5;241m=\u001b[39m _symbolic_factor_list(together(expr, fraction\u001b[38;5;241m=\u001b[39mopt[\u001b[38;5;124m'\u001b[39m\u001b[38;5;124mfraction\u001b[39m\u001b[38;5;124m'\u001b[39m]), opt, method)\n\u001b[0;32m   6164\u001b[0m     \u001b[38;5;28;01mreturn\u001b[39;00m _keep_coeff(coeff, _factors_product(factors))\n\u001b[0;32m   6165\u001b[0m \u001b[38;5;28;01melif\u001b[39;00m \u001b[38;5;28mhasattr\u001b[39m(expr, \u001b[38;5;124m'\u001b[39m\u001b[38;5;124margs\u001b[39m\u001b[38;5;124m'\u001b[39m):\n",
      "File \u001b[1;32mc:\\ProgramData\\anaconda3\\Lib\\site-packages\\sympy\\polys\\polytools.py:6128\u001b[0m, in \u001b[0;36m_symbolic_factor_list\u001b[1;34m(expr, opt, method)\u001b[0m\n\u001b[0;32m   6125\u001b[0m \u001b[38;5;28;01melse\u001b[39;00m:\n\u001b[0;32m   6126\u001b[0m     func \u001b[38;5;241m=\u001b[39m \u001b[38;5;28mgetattr\u001b[39m(poly, method \u001b[38;5;241m+\u001b[39m \u001b[38;5;124m'\u001b[39m\u001b[38;5;124m_list\u001b[39m\u001b[38;5;124m'\u001b[39m)\n\u001b[1;32m-> 6128\u001b[0m     _coeff, _factors \u001b[38;5;241m=\u001b[39m func()\n\u001b[0;32m   6129\u001b[0m     \u001b[38;5;28;01mif\u001b[39;00m _coeff \u001b[38;5;129;01mis\u001b[39;00m \u001b[38;5;129;01mnot\u001b[39;00m S\u001b[38;5;241m.\u001b[39mOne:\n\u001b[0;32m   6130\u001b[0m         \u001b[38;5;28;01mif\u001b[39;00m exp\u001b[38;5;241m.\u001b[39mis_Integer:\n",
      "File \u001b[1;32mc:\\ProgramData\\anaconda3\\Lib\\site-packages\\sympy\\polys\\polytools.py:3350\u001b[0m, in \u001b[0;36mPoly.factor_list\u001b[1;34m(f)\u001b[0m\n\u001b[0;32m   3348\u001b[0m \u001b[38;5;28;01mif\u001b[39;00m \u001b[38;5;28mhasattr\u001b[39m(f\u001b[38;5;241m.\u001b[39mrep, \u001b[38;5;124m'\u001b[39m\u001b[38;5;124mfactor_list\u001b[39m\u001b[38;5;124m'\u001b[39m):\n\u001b[0;32m   3349\u001b[0m     \u001b[38;5;28;01mtry\u001b[39;00m:\n\u001b[1;32m-> 3350\u001b[0m         coeff, factors \u001b[38;5;241m=\u001b[39m f\u001b[38;5;241m.\u001b[39mrep\u001b[38;5;241m.\u001b[39mfactor_list()\n\u001b[0;32m   3351\u001b[0m     \u001b[38;5;28;01mexcept\u001b[39;00m DomainError:\n\u001b[0;32m   3352\u001b[0m         \u001b[38;5;28;01mreturn\u001b[39;00m S\u001b[38;5;241m.\u001b[39mOne, [(f, \u001b[38;5;241m1\u001b[39m)]\n",
      "File \u001b[1;32mc:\\ProgramData\\anaconda3\\Lib\\site-packages\\sympy\\polys\\polyclasses.py:823\u001b[0m, in \u001b[0;36mDMP.factor_list\u001b[1;34m(f)\u001b[0m\n\u001b[0;32m    821\u001b[0m \u001b[38;5;28;01mdef\u001b[39;00m \u001b[38;5;21mfactor_list\u001b[39m(f):\n\u001b[0;32m    822\u001b[0m \u001b[38;5;250m    \u001b[39m\u001b[38;5;124;03m\"\"\"Returns a list of irreducible factors of ``f``. \"\"\"\u001b[39;00m\n\u001b[1;32m--> 823\u001b[0m     coeff, factors \u001b[38;5;241m=\u001b[39m dmp_factor_list(f\u001b[38;5;241m.\u001b[39mrep, f\u001b[38;5;241m.\u001b[39mlev, f\u001b[38;5;241m.\u001b[39mdom)\n\u001b[0;32m    824\u001b[0m     \u001b[38;5;28;01mreturn\u001b[39;00m coeff, [ (f\u001b[38;5;241m.\u001b[39mper(g), k) \u001b[38;5;28;01mfor\u001b[39;00m g, k \u001b[38;5;129;01min\u001b[39;00m factors ]\n",
      "File \u001b[1;32mc:\\ProgramData\\anaconda3\\Lib\\site-packages\\sympy\\polys\\factortools.py:1403\u001b[0m, in \u001b[0;36mdmp_factor_list\u001b[1;34m(f, u, K0)\u001b[0m\n\u001b[0;32m   1401\u001b[0m     coeff, factors \u001b[38;5;241m=\u001b[39m dmp_ext_factor(f, u, K0)\n\u001b[0;32m   1402\u001b[0m \u001b[38;5;28;01melif\u001b[39;00m K0\u001b[38;5;241m.\u001b[39mis_GaussianRing:\n\u001b[1;32m-> 1403\u001b[0m     coeff, factors \u001b[38;5;241m=\u001b[39m dmp_zz_i_factor(f, u, K0)\n\u001b[0;32m   1404\u001b[0m \u001b[38;5;28;01melif\u001b[39;00m K0\u001b[38;5;241m.\u001b[39mis_GaussianField:\n\u001b[0;32m   1405\u001b[0m     coeff, factors \u001b[38;5;241m=\u001b[39m dmp_qq_i_factor(f, u, K0)\n",
      "File \u001b[1;32mc:\\ProgramData\\anaconda3\\Lib\\site-packages\\sympy\\polys\\factortools.py:1218\u001b[0m, in \u001b[0;36mdmp_zz_i_factor\u001b[1;34m(f, u, K0)\u001b[0m\n\u001b[0;32m   1216\u001b[0m K1 \u001b[38;5;241m=\u001b[39m K0\u001b[38;5;241m.\u001b[39mget_field()\n\u001b[0;32m   1217\u001b[0m f \u001b[38;5;241m=\u001b[39m dmp_convert(f, u, K0, K1)\n\u001b[1;32m-> 1218\u001b[0m coeff, factors \u001b[38;5;241m=\u001b[39m dmp_qq_i_factor(f, u, K1)\n\u001b[0;32m   1220\u001b[0m new_factors \u001b[38;5;241m=\u001b[39m []\n\u001b[0;32m   1221\u001b[0m \u001b[38;5;28;01mfor\u001b[39;00m fac, i \u001b[38;5;129;01min\u001b[39;00m factors:\n\u001b[0;32m   1222\u001b[0m     \u001b[38;5;66;03m# Extract content\u001b[39;00m\n",
      "File \u001b[1;32mc:\\ProgramData\\anaconda3\\Lib\\site-packages\\sympy\\polys\\factortools.py:1207\u001b[0m, in \u001b[0;36mdmp_qq_i_factor\u001b[1;34m(f, u, K0)\u001b[0m\n\u001b[0;32m   1205\u001b[0m K1 \u001b[38;5;241m=\u001b[39m K0\u001b[38;5;241m.\u001b[39mas_AlgebraicField()\n\u001b[0;32m   1206\u001b[0m f \u001b[38;5;241m=\u001b[39m dmp_convert(f, u, K0, K1)\n\u001b[1;32m-> 1207\u001b[0m coeff, factors \u001b[38;5;241m=\u001b[39m dmp_factor_list(f, u, K1)\n\u001b[0;32m   1208\u001b[0m factors \u001b[38;5;241m=\u001b[39m [(dmp_convert(fac, u, K1, K0), i) \u001b[38;5;28;01mfor\u001b[39;00m fac, i \u001b[38;5;129;01min\u001b[39;00m factors]\n\u001b[0;32m   1209\u001b[0m coeff \u001b[38;5;241m=\u001b[39m K0\u001b[38;5;241m.\u001b[39mconvert(coeff, K1)\n",
      "File \u001b[1;32mc:\\ProgramData\\anaconda3\\Lib\\site-packages\\sympy\\polys\\factortools.py:1401\u001b[0m, in \u001b[0;36mdmp_factor_list\u001b[1;34m(f, u, K0)\u001b[0m\n\u001b[0;32m   1399\u001b[0m     coeff, factors \u001b[38;5;241m=\u001b[39m dmp_gf_factor(f, u, K0)\n\u001b[0;32m   1400\u001b[0m \u001b[38;5;28;01melif\u001b[39;00m K0\u001b[38;5;241m.\u001b[39mis_Algebraic:\n\u001b[1;32m-> 1401\u001b[0m     coeff, factors \u001b[38;5;241m=\u001b[39m dmp_ext_factor(f, u, K0)\n\u001b[0;32m   1402\u001b[0m \u001b[38;5;28;01melif\u001b[39;00m K0\u001b[38;5;241m.\u001b[39mis_GaussianRing:\n\u001b[0;32m   1403\u001b[0m     coeff, factors \u001b[38;5;241m=\u001b[39m dmp_zz_i_factor(f, u, K0)\n",
      "File \u001b[1;32mc:\\ProgramData\\anaconda3\\Lib\\site-packages\\sympy\\polys\\factortools.py:1277\u001b[0m, in \u001b[0;36mdmp_ext_factor\u001b[1;34m(f, u, K)\u001b[0m\n\u001b[0;32m   1274\u001b[0m \u001b[38;5;28;01mif\u001b[39;00m \u001b[38;5;28mall\u001b[39m(d \u001b[38;5;241m<\u001b[39m\u001b[38;5;241m=\u001b[39m \u001b[38;5;241m0\u001b[39m \u001b[38;5;28;01mfor\u001b[39;00m d \u001b[38;5;129;01min\u001b[39;00m dmp_degree_list(f, u)):\n\u001b[0;32m   1275\u001b[0m     \u001b[38;5;28;01mreturn\u001b[39;00m lc, []\n\u001b[1;32m-> 1277\u001b[0m f, F \u001b[38;5;241m=\u001b[39m dmp_sqf_part(f, u, K), f\n\u001b[0;32m   1278\u001b[0m s, g, r \u001b[38;5;241m=\u001b[39m dmp_sqf_norm(f, u, K)\n\u001b[0;32m   1280\u001b[0m factors \u001b[38;5;241m=\u001b[39m dmp_factor_list_include(r, u, K\u001b[38;5;241m.\u001b[39mdom)\n",
      "File \u001b[1;32mc:\\ProgramData\\anaconda3\\Lib\\site-packages\\sympy\\polys\\sqfreetools.py:256\u001b[0m, in \u001b[0;36mdmp_sqf_part\u001b[1;34m(f, u, K)\u001b[0m\n\u001b[0;32m    254\u001b[0m gcd \u001b[38;5;241m=\u001b[39m f\n\u001b[0;32m    255\u001b[0m \u001b[38;5;28;01mfor\u001b[39;00m i \u001b[38;5;129;01min\u001b[39;00m \u001b[38;5;28mrange\u001b[39m(u\u001b[38;5;241m+\u001b[39m\u001b[38;5;241m1\u001b[39m):\n\u001b[1;32m--> 256\u001b[0m     gcd \u001b[38;5;241m=\u001b[39m dmp_gcd(gcd, dmp_diff_in(f, \u001b[38;5;241m1\u001b[39m, i, u, K), u, K)\n\u001b[0;32m    257\u001b[0m sqf \u001b[38;5;241m=\u001b[39m dmp_quo(f, gcd, u, K)\n\u001b[0;32m    259\u001b[0m \u001b[38;5;28;01mif\u001b[39;00m K\u001b[38;5;241m.\u001b[39mis_Field:\n",
      "File \u001b[1;32mc:\\ProgramData\\anaconda3\\Lib\\site-packages\\sympy\\polys\\euclidtools.py:1625\u001b[0m, in \u001b[0;36mdmp_gcd\u001b[1;34m(f, g, u, K)\u001b[0m\n\u001b[0;32m   1608\u001b[0m \u001b[38;5;28;01mdef\u001b[39;00m \u001b[38;5;21mdmp_gcd\u001b[39m(f, g, u, K):\n\u001b[0;32m   1609\u001b[0m \u001b[38;5;250m    \u001b[39m\u001b[38;5;124;03m\"\"\"\u001b[39;00m\n\u001b[0;32m   1610\u001b[0m \u001b[38;5;124;03m    Computes polynomial GCD of `f` and `g` in `K[X]`.\u001b[39;00m\n\u001b[0;32m   1611\u001b[0m \n\u001b[1;32m   (...)\u001b[0m\n\u001b[0;32m   1623\u001b[0m \n\u001b[0;32m   1624\u001b[0m \u001b[38;5;124;03m    \"\"\"\u001b[39;00m\n\u001b[1;32m-> 1625\u001b[0m     \u001b[38;5;28;01mreturn\u001b[39;00m dmp_inner_gcd(f, g, u, K)[\u001b[38;5;241m0\u001b[39m]\n",
      "File \u001b[1;32mc:\\ProgramData\\anaconda3\\Lib\\site-packages\\sympy\\polys\\euclidtools.py:1584\u001b[0m, in \u001b[0;36mdmp_inner_gcd\u001b[1;34m(f, g, u, K)\u001b[0m\n\u001b[0;32m   1581\u001b[0m     \u001b[38;5;28;01mreturn\u001b[39;00m dup_inner_gcd(f, g, K)\n\u001b[0;32m   1583\u001b[0m J, (f, g) \u001b[38;5;241m=\u001b[39m dmp_multi_deflate((f, g), u, K)\n\u001b[1;32m-> 1584\u001b[0m h, cff, cfg \u001b[38;5;241m=\u001b[39m _dmp_inner_gcd(f, g, u, K)\n\u001b[0;32m   1586\u001b[0m \u001b[38;5;28;01mreturn\u001b[39;00m (dmp_inflate(h, J, u, K),\n\u001b[0;32m   1587\u001b[0m         dmp_inflate(cff, J, u, K),\n\u001b[0;32m   1588\u001b[0m         dmp_inflate(cfg, J, u, K))\n",
      "File \u001b[1;32mc:\\ProgramData\\anaconda3\\Lib\\site-packages\\sympy\\polys\\euclidtools.py:1549\u001b[0m, in \u001b[0;36m_dmp_inner_gcd\u001b[1;34m(f, g, u, K)\u001b[0m\n\u001b[0;32m   1546\u001b[0m         \u001b[38;5;28;01mexcept\u001b[39;00m HeuristicGCDFailed:\n\u001b[0;32m   1547\u001b[0m             \u001b[38;5;28;01mpass\u001b[39;00m\n\u001b[1;32m-> 1549\u001b[0m     \u001b[38;5;28;01mreturn\u001b[39;00m dmp_ff_prs_gcd(f, g, u, K)\n\u001b[0;32m   1550\u001b[0m \u001b[38;5;28;01melse\u001b[39;00m:\n\u001b[0;32m   1551\u001b[0m     \u001b[38;5;28;01mif\u001b[39;00m K\u001b[38;5;241m.\u001b[39mis_ZZ \u001b[38;5;129;01mand\u001b[39;00m query(\u001b[38;5;124m'\u001b[39m\u001b[38;5;124mUSE_HEU_GCD\u001b[39m\u001b[38;5;124m'\u001b[39m):\n",
      "File \u001b[1;32mc:\\ProgramData\\anaconda3\\Lib\\site-packages\\sympy\\polys\\euclidtools.py:1106\u001b[0m, in \u001b[0;36mdmp_ff_prs_gcd\u001b[1;34m(f, g, u, K)\u001b[0m\n\u001b[0;32m   1103\u001b[0m \u001b[38;5;28;01mif\u001b[39;00m \u001b[38;5;129;01mnot\u001b[39;00m u:\n\u001b[0;32m   1104\u001b[0m     \u001b[38;5;28;01mreturn\u001b[39;00m dup_ff_prs_gcd(f, g, K)\n\u001b[1;32m-> 1106\u001b[0m result \u001b[38;5;241m=\u001b[39m _dmp_ff_trivial_gcd(f, g, u, K)\n\u001b[0;32m   1108\u001b[0m \u001b[38;5;28;01mif\u001b[39;00m result \u001b[38;5;129;01mis\u001b[39;00m \u001b[38;5;129;01mnot\u001b[39;00m \u001b[38;5;28;01mNone\u001b[39;00m:\n\u001b[0;32m   1109\u001b[0m     \u001b[38;5;28;01mreturn\u001b[39;00m result\n",
      "File \u001b[1;32mc:\\ProgramData\\anaconda3\\Lib\\site-packages\\sympy\\polys\\euclidtools.py:933\u001b[0m, in \u001b[0;36m_dmp_ff_trivial_gcd\u001b[1;34m(f, g, u, K)\u001b[0m\n\u001b[0;32m    929\u001b[0m     \u001b[38;5;28;01mreturn\u001b[39;00m (dmp_ground_monic(f, u, K),\n\u001b[0;32m    930\u001b[0m             dmp_ground(dmp_ground_LC(f, u, K), u),\n\u001b[0;32m    931\u001b[0m             dmp_zero(u))\n\u001b[0;32m    932\u001b[0m \u001b[38;5;28;01melif\u001b[39;00m query(\u001b[38;5;124m'\u001b[39m\u001b[38;5;124mUSE_SIMPLIFY_GCD\u001b[39m\u001b[38;5;124m'\u001b[39m):\n\u001b[1;32m--> 933\u001b[0m     \u001b[38;5;28;01mreturn\u001b[39;00m _dmp_simplify_gcd(f, g, u, K)\n\u001b[0;32m    934\u001b[0m \u001b[38;5;28;01melse\u001b[39;00m:\n\u001b[0;32m    935\u001b[0m     \u001b[38;5;28;01mreturn\u001b[39;00m \u001b[38;5;28;01mNone\u001b[39;00m\n",
      "File \u001b[1;32mc:\\ProgramData\\anaconda3\\Lib\\site-packages\\sympy\\polys\\euclidtools.py:952\u001b[0m, in \u001b[0;36m_dmp_simplify_gcd\u001b[1;34m(f, g, u, K)\u001b[0m\n\u001b[0;32m    950\u001b[0m \u001b[38;5;28;01mif\u001b[39;00m \u001b[38;5;129;01mnot\u001b[39;00m df:\n\u001b[0;32m    951\u001b[0m     F \u001b[38;5;241m=\u001b[39m dmp_LC(f, K)\n\u001b[1;32m--> 952\u001b[0m     G \u001b[38;5;241m=\u001b[39m dmp_content(g, u, K)\n\u001b[0;32m    953\u001b[0m \u001b[38;5;28;01melse\u001b[39;00m:\n\u001b[0;32m    954\u001b[0m     F \u001b[38;5;241m=\u001b[39m dmp_content(f, u, K)\n",
      "File \u001b[1;32mc:\\ProgramData\\anaconda3\\Lib\\site-packages\\sympy\\polys\\euclidtools.py:1793\u001b[0m, in \u001b[0;36mdmp_content\u001b[1;34m(f, u, K)\u001b[0m\n\u001b[0;32m   1790\u001b[0m     \u001b[38;5;28;01mreturn\u001b[39;00m cont\n\u001b[0;32m   1792\u001b[0m \u001b[38;5;28;01mfor\u001b[39;00m c \u001b[38;5;129;01min\u001b[39;00m f[\u001b[38;5;241m1\u001b[39m:]:\n\u001b[1;32m-> 1793\u001b[0m     cont \u001b[38;5;241m=\u001b[39m dmp_gcd(cont, c, v, K)\n\u001b[0;32m   1795\u001b[0m     \u001b[38;5;28;01mif\u001b[39;00m dmp_one_p(cont, v, K):\n\u001b[0;32m   1796\u001b[0m         \u001b[38;5;28;01mbreak\u001b[39;00m\n",
      "File \u001b[1;32mc:\\ProgramData\\anaconda3\\Lib\\site-packages\\sympy\\polys\\euclidtools.py:1625\u001b[0m, in \u001b[0;36mdmp_gcd\u001b[1;34m(f, g, u, K)\u001b[0m\n\u001b[0;32m   1608\u001b[0m \u001b[38;5;28;01mdef\u001b[39;00m \u001b[38;5;21mdmp_gcd\u001b[39m(f, g, u, K):\n\u001b[0;32m   1609\u001b[0m \u001b[38;5;250m    \u001b[39m\u001b[38;5;124;03m\"\"\"\u001b[39;00m\n\u001b[0;32m   1610\u001b[0m \u001b[38;5;124;03m    Computes polynomial GCD of `f` and `g` in `K[X]`.\u001b[39;00m\n\u001b[0;32m   1611\u001b[0m \n\u001b[1;32m   (...)\u001b[0m\n\u001b[0;32m   1623\u001b[0m \n\u001b[0;32m   1624\u001b[0m \u001b[38;5;124;03m    \"\"\"\u001b[39;00m\n\u001b[1;32m-> 1625\u001b[0m     \u001b[38;5;28;01mreturn\u001b[39;00m dmp_inner_gcd(f, g, u, K)[\u001b[38;5;241m0\u001b[39m]\n",
      "File \u001b[1;32mc:\\ProgramData\\anaconda3\\Lib\\site-packages\\sympy\\polys\\euclidtools.py:1584\u001b[0m, in \u001b[0;36mdmp_inner_gcd\u001b[1;34m(f, g, u, K)\u001b[0m\n\u001b[0;32m   1581\u001b[0m     \u001b[38;5;28;01mreturn\u001b[39;00m dup_inner_gcd(f, g, K)\n\u001b[0;32m   1583\u001b[0m J, (f, g) \u001b[38;5;241m=\u001b[39m dmp_multi_deflate((f, g), u, K)\n\u001b[1;32m-> 1584\u001b[0m h, cff, cfg \u001b[38;5;241m=\u001b[39m _dmp_inner_gcd(f, g, u, K)\n\u001b[0;32m   1586\u001b[0m \u001b[38;5;28;01mreturn\u001b[39;00m (dmp_inflate(h, J, u, K),\n\u001b[0;32m   1587\u001b[0m         dmp_inflate(cff, J, u, K),\n\u001b[0;32m   1588\u001b[0m         dmp_inflate(cfg, J, u, K))\n",
      "File \u001b[1;32mc:\\ProgramData\\anaconda3\\Lib\\site-packages\\sympy\\polys\\euclidtools.py:1549\u001b[0m, in \u001b[0;36m_dmp_inner_gcd\u001b[1;34m(f, g, u, K)\u001b[0m\n\u001b[0;32m   1546\u001b[0m         \u001b[38;5;28;01mexcept\u001b[39;00m HeuristicGCDFailed:\n\u001b[0;32m   1547\u001b[0m             \u001b[38;5;28;01mpass\u001b[39;00m\n\u001b[1;32m-> 1549\u001b[0m     \u001b[38;5;28;01mreturn\u001b[39;00m dmp_ff_prs_gcd(f, g, u, K)\n\u001b[0;32m   1550\u001b[0m \u001b[38;5;28;01melse\u001b[39;00m:\n\u001b[0;32m   1551\u001b[0m     \u001b[38;5;28;01mif\u001b[39;00m K\u001b[38;5;241m.\u001b[39mis_ZZ \u001b[38;5;129;01mand\u001b[39;00m query(\u001b[38;5;124m'\u001b[39m\u001b[38;5;124mUSE_HEU_GCD\u001b[39m\u001b[38;5;124m'\u001b[39m):\n",
      "File \u001b[1;32mc:\\ProgramData\\anaconda3\\Lib\\site-packages\\sympy\\polys\\euclidtools.py:1114\u001b[0m, in \u001b[0;36mdmp_ff_prs_gcd\u001b[1;34m(f, g, u, K)\u001b[0m\n\u001b[0;32m   1111\u001b[0m fc, F \u001b[38;5;241m=\u001b[39m dmp_primitive(f, u, K)\n\u001b[0;32m   1112\u001b[0m gc, G \u001b[38;5;241m=\u001b[39m dmp_primitive(g, u, K)\n\u001b[1;32m-> 1114\u001b[0m h \u001b[38;5;241m=\u001b[39m dmp_subresultants(F, G, u, K)[\u001b[38;5;241m-\u001b[39m\u001b[38;5;241m1\u001b[39m]\n\u001b[0;32m   1115\u001b[0m c, _, _ \u001b[38;5;241m=\u001b[39m dmp_ff_prs_gcd(fc, gc, u \u001b[38;5;241m-\u001b[39m \u001b[38;5;241m1\u001b[39m, K)\n\u001b[0;32m   1117\u001b[0m _, h \u001b[38;5;241m=\u001b[39m dmp_primitive(h, u, K)\n",
      "File \u001b[1;32mc:\\ProgramData\\anaconda3\\Lib\\site-packages\\sympy\\polys\\euclidtools.py:549\u001b[0m, in \u001b[0;36mdmp_subresultants\u001b[1;34m(f, g, u, K)\u001b[0m\n\u001b[0;32m    529\u001b[0m \u001b[38;5;28;01mdef\u001b[39;00m \u001b[38;5;21mdmp_subresultants\u001b[39m(f, g, u, K):\n\u001b[0;32m    530\u001b[0m \u001b[38;5;250m    \u001b[39m\u001b[38;5;124;03m\"\"\"\u001b[39;00m\n\u001b[0;32m    531\u001b[0m \u001b[38;5;124;03m    Computes subresultant PRS of two polynomials in `K[X]`.\u001b[39;00m\n\u001b[0;32m    532\u001b[0m \n\u001b[1;32m   (...)\u001b[0m\n\u001b[0;32m    547\u001b[0m \n\u001b[0;32m    548\u001b[0m \u001b[38;5;124;03m    \"\"\"\u001b[39;00m\n\u001b[1;32m--> 549\u001b[0m     \u001b[38;5;28;01mreturn\u001b[39;00m dmp_inner_subresultants(f, g, u, K)[\u001b[38;5;241m0\u001b[39m]\n",
      "File \u001b[1;32mc:\\ProgramData\\anaconda3\\Lib\\site-packages\\sympy\\polys\\euclidtools.py:512\u001b[0m, in \u001b[0;36mdmp_inner_subresultants\u001b[1;34m(f, g, u, K)\u001b[0m\n\u001b[0;32m    507\u001b[0m f, g, m, d \u001b[38;5;241m=\u001b[39m g, h, k, m \u001b[38;5;241m-\u001b[39m k\n\u001b[0;32m    509\u001b[0m b \u001b[38;5;241m=\u001b[39m dmp_mul(dmp_neg(lc, v, K),\n\u001b[0;32m    510\u001b[0m             dmp_pow(c, d, v, K), v, K)\n\u001b[1;32m--> 512\u001b[0m h \u001b[38;5;241m=\u001b[39m dmp_prem(f, g, u, K)\n\u001b[0;32m    513\u001b[0m h \u001b[38;5;241m=\u001b[39m [ dmp_quo(ch, b, v, K) \u001b[38;5;28;01mfor\u001b[39;00m ch \u001b[38;5;129;01min\u001b[39;00m h ]\n\u001b[0;32m    515\u001b[0m lc \u001b[38;5;241m=\u001b[39m dmp_LC(g, K)\n",
      "File \u001b[1;32mc:\\ProgramData\\anaconda3\\Lib\\site-packages\\sympy\\polys\\densearith.py:1237\u001b[0m, in \u001b[0;36mdmp_prem\u001b[1;34m(f, g, u, K)\u001b[0m\n\u001b[0;32m   1234\u001b[0m lc_r \u001b[38;5;241m=\u001b[39m dmp_LC(r, K)\n\u001b[0;32m   1235\u001b[0m j, N \u001b[38;5;241m=\u001b[39m dr \u001b[38;5;241m-\u001b[39m dg, N \u001b[38;5;241m-\u001b[39m \u001b[38;5;241m1\u001b[39m\n\u001b[1;32m-> 1237\u001b[0m R \u001b[38;5;241m=\u001b[39m dmp_mul_term(r, lc_g, \u001b[38;5;241m0\u001b[39m, u, K)\n\u001b[0;32m   1238\u001b[0m G \u001b[38;5;241m=\u001b[39m dmp_mul_term(g, lc_r, j, u, K)\n\u001b[0;32m   1239\u001b[0m r \u001b[38;5;241m=\u001b[39m dmp_sub(R, G, u, K)\n",
      "File \u001b[1;32mc:\\ProgramData\\anaconda3\\Lib\\site-packages\\sympy\\polys\\densearith.py:184\u001b[0m, in \u001b[0;36mdmp_mul_term\u001b[1;34m(f, c, i, u, K)\u001b[0m\n\u001b[0;32m    182\u001b[0m     \u001b[38;5;28;01mreturn\u001b[39;00m dmp_zero(u)\n\u001b[0;32m    183\u001b[0m \u001b[38;5;28;01melse\u001b[39;00m:\n\u001b[1;32m--> 184\u001b[0m     \u001b[38;5;28;01mreturn\u001b[39;00m [ dmp_mul(cf, c, v, K) \u001b[38;5;28;01mfor\u001b[39;00m cf \u001b[38;5;129;01min\u001b[39;00m f ] \u001b[38;5;241m+\u001b[39m dmp_zeros(i, v, K)\n",
      "File \u001b[1;32mc:\\ProgramData\\anaconda3\\Lib\\site-packages\\sympy\\polys\\densearith.py:828\u001b[0m, in \u001b[0;36mdmp_mul\u001b[1;34m(f, g, u, K)\u001b[0m\n\u001b[0;32m    825\u001b[0m     coeff \u001b[38;5;241m=\u001b[39m dmp_zero(v)\n\u001b[0;32m    827\u001b[0m     \u001b[38;5;28;01mfor\u001b[39;00m j \u001b[38;5;129;01min\u001b[39;00m \u001b[38;5;28mrange\u001b[39m(\u001b[38;5;28mmax\u001b[39m(\u001b[38;5;241m0\u001b[39m, i \u001b[38;5;241m-\u001b[39m dg), \u001b[38;5;28mmin\u001b[39m(df, i) \u001b[38;5;241m+\u001b[39m \u001b[38;5;241m1\u001b[39m):\n\u001b[1;32m--> 828\u001b[0m         coeff \u001b[38;5;241m=\u001b[39m dmp_add(coeff, dmp_mul(f[j], g[i \u001b[38;5;241m-\u001b[39m j], v, K), v, K)\n\u001b[0;32m    830\u001b[0m     h\u001b[38;5;241m.\u001b[39mappend(coeff)\n\u001b[0;32m    832\u001b[0m \u001b[38;5;28;01mreturn\u001b[39;00m dmp_strip(h, u)\n",
      "File \u001b[1;32mc:\\ProgramData\\anaconda3\\Lib\\site-packages\\sympy\\polys\\densearith.py:828\u001b[0m, in \u001b[0;36mdmp_mul\u001b[1;34m(f, g, u, K)\u001b[0m\n\u001b[0;32m    825\u001b[0m     coeff \u001b[38;5;241m=\u001b[39m dmp_zero(v)\n\u001b[0;32m    827\u001b[0m     \u001b[38;5;28;01mfor\u001b[39;00m j \u001b[38;5;129;01min\u001b[39;00m \u001b[38;5;28mrange\u001b[39m(\u001b[38;5;28mmax\u001b[39m(\u001b[38;5;241m0\u001b[39m, i \u001b[38;5;241m-\u001b[39m dg), \u001b[38;5;28mmin\u001b[39m(df, i) \u001b[38;5;241m+\u001b[39m \u001b[38;5;241m1\u001b[39m):\n\u001b[1;32m--> 828\u001b[0m         coeff \u001b[38;5;241m=\u001b[39m dmp_add(coeff, dmp_mul(f[j], g[i \u001b[38;5;241m-\u001b[39m j], v, K), v, K)\n\u001b[0;32m    830\u001b[0m     h\u001b[38;5;241m.\u001b[39mappend(coeff)\n\u001b[0;32m    832\u001b[0m \u001b[38;5;28;01mreturn\u001b[39;00m dmp_strip(h, u)\n",
      "    \u001b[1;31m[... skipping similar frames: dmp_mul at line 828 (2 times)]\u001b[0m\n",
      "File \u001b[1;32mc:\\ProgramData\\anaconda3\\Lib\\site-packages\\sympy\\polys\\densearith.py:828\u001b[0m, in \u001b[0;36mdmp_mul\u001b[1;34m(f, g, u, K)\u001b[0m\n\u001b[0;32m    825\u001b[0m     coeff \u001b[38;5;241m=\u001b[39m dmp_zero(v)\n\u001b[0;32m    827\u001b[0m     \u001b[38;5;28;01mfor\u001b[39;00m j \u001b[38;5;129;01min\u001b[39;00m \u001b[38;5;28mrange\u001b[39m(\u001b[38;5;28mmax\u001b[39m(\u001b[38;5;241m0\u001b[39m, i \u001b[38;5;241m-\u001b[39m dg), \u001b[38;5;28mmin\u001b[39m(df, i) \u001b[38;5;241m+\u001b[39m \u001b[38;5;241m1\u001b[39m):\n\u001b[1;32m--> 828\u001b[0m         coeff \u001b[38;5;241m=\u001b[39m dmp_add(coeff, dmp_mul(f[j], g[i \u001b[38;5;241m-\u001b[39m j], v, K), v, K)\n\u001b[0;32m    830\u001b[0m     h\u001b[38;5;241m.\u001b[39mappend(coeff)\n\u001b[0;32m    832\u001b[0m \u001b[38;5;28;01mreturn\u001b[39;00m dmp_strip(h, u)\n",
      "File \u001b[1;32mc:\\ProgramData\\anaconda3\\Lib\\site-packages\\sympy\\polys\\densearith.py:807\u001b[0m, in \u001b[0;36mdmp_mul\u001b[1;34m(f, g, u, K)\u001b[0m\n\u001b[0;32m    793\u001b[0m \u001b[38;5;250m\u001b[39m\u001b[38;5;124;03m\"\"\"\u001b[39;00m\n\u001b[0;32m    794\u001b[0m \u001b[38;5;124;03mMultiply dense polynomials in ``K[X]``.\u001b[39;00m\n\u001b[0;32m    795\u001b[0m \n\u001b[1;32m   (...)\u001b[0m\n\u001b[0;32m    804\u001b[0m \n\u001b[0;32m    805\u001b[0m \u001b[38;5;124;03m\"\"\"\u001b[39;00m\n\u001b[0;32m    806\u001b[0m \u001b[38;5;28;01mif\u001b[39;00m \u001b[38;5;129;01mnot\u001b[39;00m u:\n\u001b[1;32m--> 807\u001b[0m     \u001b[38;5;28;01mreturn\u001b[39;00m dup_mul(f, g, K)\n\u001b[0;32m    809\u001b[0m \u001b[38;5;28;01mif\u001b[39;00m f \u001b[38;5;241m==\u001b[39m g:\n\u001b[0;32m    810\u001b[0m     \u001b[38;5;28;01mreturn\u001b[39;00m dmp_sqr(f, u, K)\n",
      "File \u001b[1;32mc:\\ProgramData\\anaconda3\\Lib\\site-packages\\sympy\\polys\\densearith.py:767\u001b[0m, in \u001b[0;36mdup_mul\u001b[1;34m(f, g, K)\u001b[0m\n\u001b[0;32m    764\u001b[0m     coeff \u001b[38;5;241m=\u001b[39m K\u001b[38;5;241m.\u001b[39mzero\n\u001b[0;32m    766\u001b[0m     \u001b[38;5;28;01mfor\u001b[39;00m j \u001b[38;5;129;01min\u001b[39;00m \u001b[38;5;28mrange\u001b[39m(\u001b[38;5;28mmax\u001b[39m(\u001b[38;5;241m0\u001b[39m, i \u001b[38;5;241m-\u001b[39m dg), \u001b[38;5;28mmin\u001b[39m(df, i) \u001b[38;5;241m+\u001b[39m \u001b[38;5;241m1\u001b[39m):\n\u001b[1;32m--> 767\u001b[0m         coeff \u001b[38;5;241m+\u001b[39m\u001b[38;5;241m=\u001b[39m f[j]\u001b[38;5;241m*\u001b[39mg[i \u001b[38;5;241m-\u001b[39m j]\n\u001b[0;32m    769\u001b[0m     h\u001b[38;5;241m.\u001b[39mappend(coeff)\n\u001b[0;32m    771\u001b[0m \u001b[38;5;28;01mreturn\u001b[39;00m dup_strip(h)\n",
      "File \u001b[1;32mc:\\ProgramData\\anaconda3\\Lib\\site-packages\\sympy\\polys\\polyclasses.py:1739\u001b[0m, in \u001b[0;36mANP.__mul__\u001b[1;34m(f, g)\u001b[0m\n\u001b[0;32m   1737\u001b[0m \u001b[38;5;28;01mdef\u001b[39;00m \u001b[38;5;21m__mul__\u001b[39m(f, g):\n\u001b[0;32m   1738\u001b[0m     \u001b[38;5;28;01mif\u001b[39;00m \u001b[38;5;28misinstance\u001b[39m(g, ANP):\n\u001b[1;32m-> 1739\u001b[0m         \u001b[38;5;28;01mreturn\u001b[39;00m f\u001b[38;5;241m.\u001b[39mmul(g)\n\u001b[0;32m   1740\u001b[0m     \u001b[38;5;28;01melse\u001b[39;00m:\n\u001b[0;32m   1741\u001b[0m         \u001b[38;5;28;01mtry\u001b[39;00m:\n",
      "File \u001b[1;32mc:\\ProgramData\\anaconda3\\Lib\\site-packages\\sympy\\polys\\polyclasses.py:1650\u001b[0m, in \u001b[0;36mANP.mul\u001b[1;34m(f, g)\u001b[0m\n\u001b[0;32m   1648\u001b[0m \u001b[38;5;28;01mdef\u001b[39;00m \u001b[38;5;21mmul\u001b[39m(f, g):\n\u001b[0;32m   1649\u001b[0m     dom, per, F, G, mod \u001b[38;5;241m=\u001b[39m f\u001b[38;5;241m.\u001b[39munify(g)\n\u001b[1;32m-> 1650\u001b[0m     \u001b[38;5;28;01mreturn\u001b[39;00m per(dup_rem(dup_mul(F, G, dom), mod, dom))\n",
      "File \u001b[1;32mc:\\ProgramData\\anaconda3\\Lib\\site-packages\\sympy\\polys\\densearith.py:1557\u001b[0m, in \u001b[0;36mdup_rem\u001b[1;34m(f, g, K)\u001b[0m\n\u001b[0;32m   1539\u001b[0m \u001b[38;5;28;01mdef\u001b[39;00m \u001b[38;5;21mdup_rem\u001b[39m(f, g, K):\n\u001b[0;32m   1540\u001b[0m \u001b[38;5;250m    \u001b[39m\u001b[38;5;124;03m\"\"\"\u001b[39;00m\n\u001b[0;32m   1541\u001b[0m \u001b[38;5;124;03m    Returns polynomial remainder in ``K[x]``.\u001b[39;00m\n\u001b[0;32m   1542\u001b[0m \n\u001b[1;32m   (...)\u001b[0m\n\u001b[0;32m   1555\u001b[0m \n\u001b[0;32m   1556\u001b[0m \u001b[38;5;124;03m    \"\"\"\u001b[39;00m\n\u001b[1;32m-> 1557\u001b[0m     \u001b[38;5;28;01mreturn\u001b[39;00m dup_div(f, g, K)[\u001b[38;5;241m1\u001b[39m]\n",
      "File \u001b[1;32mc:\\ProgramData\\anaconda3\\Lib\\site-packages\\sympy\\polys\\densearith.py:1534\u001b[0m, in \u001b[0;36mdup_div\u001b[1;34m(f, g, K)\u001b[0m\n\u001b[0;32m   1516\u001b[0m \u001b[38;5;250m\u001b[39m\u001b[38;5;124;03m\"\"\"\u001b[39;00m\n\u001b[0;32m   1517\u001b[0m \u001b[38;5;124;03mPolynomial division with remainder in ``K[x]``.\u001b[39;00m\n\u001b[0;32m   1518\u001b[0m \n\u001b[1;32m   (...)\u001b[0m\n\u001b[0;32m   1531\u001b[0m \n\u001b[0;32m   1532\u001b[0m \u001b[38;5;124;03m\"\"\"\u001b[39;00m\n\u001b[0;32m   1533\u001b[0m \u001b[38;5;28;01mif\u001b[39;00m K\u001b[38;5;241m.\u001b[39mis_Field:\n\u001b[1;32m-> 1534\u001b[0m     \u001b[38;5;28;01mreturn\u001b[39;00m dup_ff_div(f, g, K)\n\u001b[0;32m   1535\u001b[0m \u001b[38;5;28;01melse\u001b[39;00m:\n\u001b[0;32m   1536\u001b[0m     \u001b[38;5;28;01mreturn\u001b[39;00m dup_rr_div(f, g, K)\n",
      "File \u001b[1;32mc:\\ProgramData\\anaconda3\\Lib\\site-packages\\sympy\\polys\\densearith.py:1431\u001b[0m, in \u001b[0;36mdup_ff_div\u001b[1;34m(f, g, K)\u001b[0m\n\u001b[0;32m   1429\u001b[0m \u001b[38;5;28;01mif\u001b[39;00m \u001b[38;5;129;01mnot\u001b[39;00m g:\n\u001b[0;32m   1430\u001b[0m     \u001b[38;5;28;01mraise\u001b[39;00m \u001b[38;5;167;01mZeroDivisionError\u001b[39;00m(\u001b[38;5;124m\"\u001b[39m\u001b[38;5;124mpolynomial division\u001b[39m\u001b[38;5;124m\"\u001b[39m)\n\u001b[1;32m-> 1431\u001b[0m \u001b[38;5;28;01melif\u001b[39;00m df \u001b[38;5;241m<\u001b[39m dg:\n\u001b[0;32m   1432\u001b[0m     \u001b[38;5;28;01mreturn\u001b[39;00m q, r\n\u001b[0;32m   1434\u001b[0m lc_g \u001b[38;5;241m=\u001b[39m dup_LC(g, K)\n",
      "File \u001b[1;32mc:\\ProgramData\\anaconda3\\Lib\\site-packages\\sympy\\core\\decorators.py:236\u001b[0m, in \u001b[0;36m_SympifyWrapper.make_wrapped.<locals>._func\u001b[1;34m(self, other)\u001b[0m\n\u001b[0;32m    234\u001b[0m \u001b[38;5;28;01mif\u001b[39;00m \u001b[38;5;129;01mnot\u001b[39;00m \u001b[38;5;28misinstance\u001b[39m(other, expectedcls):\n\u001b[0;32m    235\u001b[0m     \u001b[38;5;28;01mreturn\u001b[39;00m retval\n\u001b[1;32m--> 236\u001b[0m \u001b[38;5;28;01mreturn\u001b[39;00m func(\u001b[38;5;28mself\u001b[39m, other)\n",
      "File \u001b[1;32mc:\\ProgramData\\anaconda3\\Lib\\site-packages\\sympy\\core\\expr.py:376\u001b[0m, in \u001b[0;36mExpr.__lt__\u001b[1;34m(self, other)\u001b[0m\n\u001b[0;32m    373\u001b[0m \u001b[38;5;129m@sympify_return\u001b[39m([(\u001b[38;5;124m'\u001b[39m\u001b[38;5;124mother\u001b[39m\u001b[38;5;124m'\u001b[39m, \u001b[38;5;124m'\u001b[39m\u001b[38;5;124mExpr\u001b[39m\u001b[38;5;124m'\u001b[39m)], \u001b[38;5;28mNotImplemented\u001b[39m)\n\u001b[0;32m    374\u001b[0m \u001b[38;5;28;01mdef\u001b[39;00m \u001b[38;5;21m__lt__\u001b[39m(\u001b[38;5;28mself\u001b[39m, other):\n\u001b[0;32m    375\u001b[0m     \u001b[38;5;28;01mfrom\u001b[39;00m \u001b[38;5;21;01m.\u001b[39;00m\u001b[38;5;21;01mrelational\u001b[39;00m \u001b[38;5;28;01mimport\u001b[39;00m StrictLessThan\n\u001b[1;32m--> 376\u001b[0m     \u001b[38;5;28;01mreturn\u001b[39;00m StrictLessThan(\u001b[38;5;28mself\u001b[39m, other)\n",
      "File \u001b[1;32mc:\\ProgramData\\anaconda3\\Lib\\site-packages\\sympy\\core\\relational.py:833\u001b[0m, in \u001b[0;36m_Inequality.__new__\u001b[1;34m(cls, lhs, rhs, **options)\u001b[0m\n\u001b[0;32m    824\u001b[0m             \u001b[38;5;28;01mraise\u001b[39;00m \u001b[38;5;167;01mTypeError\u001b[39;00m(\u001b[38;5;124m\"\u001b[39m\u001b[38;5;124mInvalid NaN comparison\u001b[39m\u001b[38;5;124m\"\u001b[39m)\n\u001b[0;32m    825\u001b[0m     \u001b[38;5;66;03m# First we invoke the appropriate inequality method of `lhs`\u001b[39;00m\n\u001b[0;32m    826\u001b[0m     \u001b[38;5;66;03m# (e.g., `lhs.__lt__`).  That method will try to reduce to\u001b[39;00m\n\u001b[0;32m    827\u001b[0m     \u001b[38;5;66;03m# boolean or raise an exception.  It may keep calling\u001b[39;00m\n\u001b[1;32m   (...)\u001b[0m\n\u001b[0;32m    831\u001b[0m     \u001b[38;5;66;03m# exception).  In that case, it must call us with\u001b[39;00m\n\u001b[0;32m    832\u001b[0m     \u001b[38;5;66;03m# `evaluate=False` to prevent infinite recursion.\u001b[39;00m\n\u001b[1;32m--> 833\u001b[0m     \u001b[38;5;28;01mreturn\u001b[39;00m \u001b[38;5;28mcls\u001b[39m\u001b[38;5;241m.\u001b[39m_eval_relation(lhs, rhs, \u001b[38;5;241m*\u001b[39m\u001b[38;5;241m*\u001b[39moptions)\n\u001b[0;32m    835\u001b[0m \u001b[38;5;66;03m# make a \"non-evaluated\" Expr for the inequality\u001b[39;00m\n\u001b[0;32m    836\u001b[0m \u001b[38;5;28;01mreturn\u001b[39;00m Relational\u001b[38;5;241m.\u001b[39m\u001b[38;5;21m__new__\u001b[39m(\u001b[38;5;28mcls\u001b[39m, lhs, rhs, \u001b[38;5;241m*\u001b[39m\u001b[38;5;241m*\u001b[39moptions)\n",
      "File \u001b[1;32mc:\\ProgramData\\anaconda3\\Lib\\site-packages\\sympy\\core\\relational.py:840\u001b[0m, in \u001b[0;36m_Inequality._eval_relation\u001b[1;34m(cls, lhs, rhs, **options)\u001b[0m\n\u001b[0;32m    838\u001b[0m \u001b[38;5;129m@classmethod\u001b[39m\n\u001b[0;32m    839\u001b[0m \u001b[38;5;28;01mdef\u001b[39;00m \u001b[38;5;21m_eval_relation\u001b[39m(\u001b[38;5;28mcls\u001b[39m, lhs, rhs, \u001b[38;5;241m*\u001b[39m\u001b[38;5;241m*\u001b[39moptions):\n\u001b[1;32m--> 840\u001b[0m     val \u001b[38;5;241m=\u001b[39m \u001b[38;5;28mcls\u001b[39m\u001b[38;5;241m.\u001b[39m_eval_fuzzy_relation(lhs, rhs)\n\u001b[0;32m    841\u001b[0m     \u001b[38;5;28;01mif\u001b[39;00m val \u001b[38;5;129;01mis\u001b[39;00m \u001b[38;5;28;01mNone\u001b[39;00m:\n\u001b[0;32m    842\u001b[0m         \u001b[38;5;28;01mreturn\u001b[39;00m \u001b[38;5;28mcls\u001b[39m(lhs, rhs, evaluate\u001b[38;5;241m=\u001b[39m\u001b[38;5;28;01mFalse\u001b[39;00m)\n",
      "File \u001b[1;32mc:\\ProgramData\\anaconda3\\Lib\\site-packages\\sympy\\core\\relational.py:1167\u001b[0m, in \u001b[0;36mStrictLessThan._eval_fuzzy_relation\u001b[1;34m(cls, lhs, rhs)\u001b[0m\n\u001b[0;32m   1165\u001b[0m \u001b[38;5;129m@classmethod\u001b[39m\n\u001b[0;32m   1166\u001b[0m \u001b[38;5;28;01mdef\u001b[39;00m \u001b[38;5;21m_eval_fuzzy_relation\u001b[39m(\u001b[38;5;28mcls\u001b[39m, lhs, rhs):\n\u001b[1;32m-> 1167\u001b[0m     \u001b[38;5;28;01mreturn\u001b[39;00m is_lt(lhs, rhs)\n",
      "File \u001b[1;32mc:\\ProgramData\\anaconda3\\Lib\\site-packages\\sympy\\core\\relational.py:1246\u001b[0m, in \u001b[0;36mis_lt\u001b[1;34m(lhs, rhs, assumptions)\u001b[0m\n\u001b[0;32m   1241\u001b[0m \u001b[38;5;28;01mdef\u001b[39;00m \u001b[38;5;21mis_lt\u001b[39m(lhs, rhs, assumptions\u001b[38;5;241m=\u001b[39m\u001b[38;5;28;01mNone\u001b[39;00m):\n\u001b[0;32m   1242\u001b[0m \u001b[38;5;250m    \u001b[39m\u001b[38;5;124;03m\"\"\"Fuzzy bool for lhs is strictly less than rhs.\u001b[39;00m\n\u001b[0;32m   1243\u001b[0m \n\u001b[0;32m   1244\u001b[0m \u001b[38;5;124;03m    See the docstring for :func:`~.is_ge` for more.\u001b[39;00m\n\u001b[0;32m   1245\u001b[0m \u001b[38;5;124;03m    \"\"\"\u001b[39;00m\n\u001b[1;32m-> 1246\u001b[0m     \u001b[38;5;28;01mreturn\u001b[39;00m fuzzy_not(is_ge(lhs, rhs, assumptions))\n",
      "File \u001b[1;32mc:\\ProgramData\\anaconda3\\Lib\\site-packages\\sympy\\core\\relational.py:1368\u001b[0m, in \u001b[0;36mis_ge\u001b[1;34m(lhs, rhs, assumptions)\u001b[0m\n\u001b[0;32m   1366\u001b[0m     \u001b[38;5;28;01mreturn\u001b[39;00m retval\n\u001b[0;32m   1367\u001b[0m \u001b[38;5;28;01melse\u001b[39;00m:\n\u001b[1;32m-> 1368\u001b[0m     n2 \u001b[38;5;241m=\u001b[39m _n2(lhs, rhs)\n\u001b[0;32m   1369\u001b[0m     \u001b[38;5;28;01mif\u001b[39;00m n2 \u001b[38;5;129;01mis\u001b[39;00m \u001b[38;5;129;01mnot\u001b[39;00m \u001b[38;5;28;01mNone\u001b[39;00m:\n\u001b[0;32m   1370\u001b[0m         \u001b[38;5;66;03m# use float comparison for infinity.\u001b[39;00m\n\u001b[0;32m   1371\u001b[0m         \u001b[38;5;66;03m# otherwise get stuck in infinite recursion\u001b[39;00m\n\u001b[0;32m   1372\u001b[0m         \u001b[38;5;28;01mif\u001b[39;00m n2 \u001b[38;5;129;01min\u001b[39;00m (S\u001b[38;5;241m.\u001b[39mInfinity, S\u001b[38;5;241m.\u001b[39mNegativeInfinity):\n",
      "File \u001b[1;32mc:\\ProgramData\\anaconda3\\Lib\\site-packages\\sympy\\core\\relational.py:1203\u001b[0m, in \u001b[0;36m_n2\u001b[1;34m(a, b)\u001b[0m\n\u001b[0;32m   1200\u001b[0m \u001b[38;5;66;03m# /!\\ it is very important (see issue 8245) not to\u001b[39;00m\n\u001b[0;32m   1201\u001b[0m \u001b[38;5;66;03m# use a re-evaluated number in the calculation of dif\u001b[39;00m\n\u001b[0;32m   1202\u001b[0m \u001b[38;5;28;01mif\u001b[39;00m a\u001b[38;5;241m.\u001b[39mis_comparable \u001b[38;5;129;01mand\u001b[39;00m b\u001b[38;5;241m.\u001b[39mis_comparable:\n\u001b[1;32m-> 1203\u001b[0m     dif \u001b[38;5;241m=\u001b[39m (a \u001b[38;5;241m-\u001b[39m b)\u001b[38;5;241m.\u001b[39mevalf(\u001b[38;5;241m2\u001b[39m)\n\u001b[0;32m   1204\u001b[0m     \u001b[38;5;28;01mif\u001b[39;00m dif\u001b[38;5;241m.\u001b[39mis_comparable:\n\u001b[0;32m   1205\u001b[0m         \u001b[38;5;28;01mreturn\u001b[39;00m dif\n",
      "File \u001b[1;32mc:\\ProgramData\\anaconda3\\Lib\\site-packages\\sympy\\core\\decorators.py:65\u001b[0m, in \u001b[0;36m__sympifyit.<locals>.__sympifyit_wrapper\u001b[1;34m(a, b)\u001b[0m\n\u001b[0;32m     63\u001b[0m     \u001b[38;5;28;01mif\u001b[39;00m \u001b[38;5;129;01mnot\u001b[39;00m \u001b[38;5;28mhasattr\u001b[39m(b, \u001b[38;5;124m'\u001b[39m\u001b[38;5;124m_op_priority\u001b[39m\u001b[38;5;124m'\u001b[39m):\n\u001b[0;32m     64\u001b[0m         b \u001b[38;5;241m=\u001b[39m sympify(b, strict\u001b[38;5;241m=\u001b[39m\u001b[38;5;28;01mTrue\u001b[39;00m)\n\u001b[1;32m---> 65\u001b[0m     \u001b[38;5;28;01mreturn\u001b[39;00m func(a, b)\n\u001b[0;32m     66\u001b[0m \u001b[38;5;28;01mexcept\u001b[39;00m SympifyError:\n\u001b[0;32m     67\u001b[0m     \u001b[38;5;28;01mreturn\u001b[39;00m retval\n",
      "File \u001b[1;32mc:\\ProgramData\\anaconda3\\Lib\\site-packages\\sympy\\core\\numbers.py:3503\u001b[0m, in \u001b[0;36mNegativeInfinity.__sub__\u001b[1;34m(self, other)\u001b[0m\n\u001b[0;32m   3500\u001b[0m \u001b[38;5;129m@_sympifyit\u001b[39m(\u001b[38;5;124m'\u001b[39m\u001b[38;5;124mother\u001b[39m\u001b[38;5;124m'\u001b[39m, \u001b[38;5;28mNotImplemented\u001b[39m)\n\u001b[0;32m   3501\u001b[0m \u001b[38;5;28;01mdef\u001b[39;00m \u001b[38;5;21m__sub__\u001b[39m(\u001b[38;5;28mself\u001b[39m, other):\n\u001b[0;32m   3502\u001b[0m     \u001b[38;5;28;01mif\u001b[39;00m \u001b[38;5;28misinstance\u001b[39m(other, Number) \u001b[38;5;129;01mand\u001b[39;00m global_parameters\u001b[38;5;241m.\u001b[39mevaluate:\n\u001b[1;32m-> 3503\u001b[0m         \u001b[38;5;28;01mif\u001b[39;00m other \u001b[38;5;129;01min\u001b[39;00m (S\u001b[38;5;241m.\u001b[39mNegativeInfinity, S\u001b[38;5;241m.\u001b[39mNaN):\n\u001b[0;32m   3504\u001b[0m             \u001b[38;5;28;01mreturn\u001b[39;00m S\u001b[38;5;241m.\u001b[39mNaN\n\u001b[0;32m   3505\u001b[0m         \u001b[38;5;28;01mreturn\u001b[39;00m \u001b[38;5;28mself\u001b[39m\n",
      "File \u001b[1;32mc:\\ProgramData\\anaconda3\\Lib\\site-packages\\sympy\\core\\numbers.py:3591\u001b[0m, in \u001b[0;36mNegativeInfinity.__eq__\u001b[1;34m(self, other)\u001b[0m\n\u001b[0;32m   3590\u001b[0m \u001b[38;5;28;01mdef\u001b[39;00m \u001b[38;5;21m__eq__\u001b[39m(\u001b[38;5;28mself\u001b[39m, other):\n\u001b[1;32m-> 3591\u001b[0m     \u001b[38;5;28;01mreturn\u001b[39;00m other \u001b[38;5;129;01mis\u001b[39;00m S\u001b[38;5;241m.\u001b[39mNegativeInfinity \u001b[38;5;129;01mor\u001b[39;00m other \u001b[38;5;241m==\u001b[39m \u001b[38;5;28mfloat\u001b[39m(\u001b[38;5;124m'\u001b[39m\u001b[38;5;124m-inf\u001b[39m\u001b[38;5;124m'\u001b[39m)\n",
      "File \u001b[1;32mc:\\ProgramData\\anaconda3\\Lib\\site-packages\\sympy\\core\\numbers.py:2243\u001b[0m, in \u001b[0;36mInteger.__eq__\u001b[1;34m(self, other)\u001b[0m\n\u001b[0;32m   2240\u001b[0m         \u001b[38;5;28;01mreturn\u001b[39;00m Rational\u001b[38;5;241m.\u001b[39m\u001b[38;5;21m__rmod__\u001b[39m(\u001b[38;5;28mself\u001b[39m, other)\n\u001b[0;32m   2241\u001b[0m     \u001b[38;5;28;01mreturn\u001b[39;00m Rational\u001b[38;5;241m.\u001b[39m\u001b[38;5;21m__rmod__\u001b[39m(\u001b[38;5;28mself\u001b[39m, other)\n\u001b[1;32m-> 2243\u001b[0m \u001b[38;5;28;01mdef\u001b[39;00m \u001b[38;5;21m__eq__\u001b[39m(\u001b[38;5;28mself\u001b[39m, other):\n\u001b[0;32m   2244\u001b[0m     \u001b[38;5;28;01mif\u001b[39;00m \u001b[38;5;28misinstance\u001b[39m(other, \u001b[38;5;28mint\u001b[39m):\n\u001b[0;32m   2245\u001b[0m         \u001b[38;5;28;01mreturn\u001b[39;00m (\u001b[38;5;28mself\u001b[39m\u001b[38;5;241m.\u001b[39mp \u001b[38;5;241m==\u001b[39m other)\n",
      "\u001b[1;31mKeyboardInterrupt\u001b[0m: "
     ]
    }
   ],
   "source": [
    "import sympy as sp\n",
    "\n",
    "# 定义符号变量，并对变量进行限制\n",
    "l1, l2 = sp.symbols('l1 l2', positive=True, real=True)  # l1 和 l2 都是大于 0 的正实数\n",
    "theta1, theta2, x, y = sp.symbols('theta1 theta2 x y', real=True)  # theta1、theta2、x、y 都为实数\n",
    "\n",
    "# 设定逆运动学的方程\n",
    "eq_x = l1 * sp.cos(theta1) + l2 * sp.cos(theta1 + theta2) - x\n",
    "eq_y = l1 * sp.sin(theta1) + l2 * sp.sin(theta1 + theta2) - y\n",
    "\n",
    "# 尝试符号解\n",
    "sp.solve([eq_x, eq_y], [theta1, theta2], dict=True)\n"
   ]
  },
  {
   "cell_type": "markdown",
   "metadata": {
    "slideshow": {
     "slide_type": "subslide"
    }
   },
   "source": [
    "所以有的时候我们简化，尽量将$\\cos$和$\\sin$用符号$c$和$s$代替先求解，比如$\\cos(\\theta_1)$和$\\sin(\\theta_2)$用符号$c_1$和$s_2$表示"
   ]
  },
  {
   "cell_type": "markdown",
   "metadata": {
    "slideshow": {
     "slide_type": "subslide"
    }
   },
   "source": [
    "###### $cos(\\theta_1+\\theta_2)展开$"
   ]
  },
  {
   "cell_type": "code",
   "execution_count": 27,
   "metadata": {
    "slideshow": {
     "slide_type": "fragment"
    }
   },
   "outputs": [
    {
     "data": {
<<<<<<< HEAD
      "image/png": "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",
=======
      "image/png": "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\n",
>>>>>>> f5b35505f7f62ea04a4e4bf36051e974307ba855
      "text/latex": [
       "$\\displaystyle - \\sin{\\left(\\theta_{1} \\right)} \\sin{\\left(\\theta_{2} \\right)} + \\cos{\\left(\\theta_{1} \\right)} \\cos{\\left(\\theta_{2} \\right)}$"
      ],
      "text/plain": [
       "-sin(θ₁)⋅sin(θ₂) + cos(θ₁)⋅cos(θ₂)"
      ]
     },
     "execution_count": 27,
     "metadata": {},
     "output_type": "execute_result"
    }
   ],
   "source": [
    "import sympy as sp\n",
    "\n",
    "# 定义符号变量，并对变量进行限制\n",
    "l1, l2 = sp.symbols('l1 l2', positive=True, real=True)  # l1 和 l2 都是大于 0 的正实数\n",
    "theta1, theta2, x, y = sp.symbols('theta1 theta2 x y', real=True)  # theta1、theta2、x、y 都为实数\n",
    "sp.expand_trig(sp.cos(theta1+theta2))"
   ]
  },
  {
   "cell_type": "markdown",
   "metadata": {
    "slideshow": {
     "slide_type": "subslide"
    }
   },
   "source": [
    "###### $sin(\\theta_1+\\theta_2)展开$"
   ]
  },
  {
   "cell_type": "code",
   "execution_count": 17,
   "metadata": {
    "slideshow": {
     "slide_type": "subslide"
    }
   },
   "outputs": [
    {
     "data": {
<<<<<<< HEAD
      "image/png": "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",
=======
      "image/png": "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\n",
>>>>>>> f5b35505f7f62ea04a4e4bf36051e974307ba855
      "text/latex": [
       "$\\displaystyle \\sin{\\left(\\theta_{1} \\right)} \\cos{\\left(\\theta_{2} \\right)} + \\sin{\\left(\\theta_{2} \\right)} \\cos{\\left(\\theta_{1} \\right)}$"
      ],
      "text/plain": [
       "sin(θ₁)⋅cos(θ₂) + sin(θ₂)⋅cos(θ₁)"
      ]
     },
     "execution_count": 17,
     "metadata": {},
     "output_type": "execute_result"
    }
   ],
   "source": [
    "sp.expand_trig(sp.sin(theta1+theta2))"
   ]
  },
  {
   "cell_type": "markdown",
   "metadata": {
    "slideshow": {
     "slide_type": "subslide"
    }
   },
   "source": [
    "###### 将展开的方程进行符号替换"
   ]
  },
  {
   "cell_type": "code",
<<<<<<< HEAD
   "execution_count": 19,
=======
   "execution_count": 25,
>>>>>>> f5b35505f7f62ea04a4e4bf36051e974307ba855
   "metadata": {
    "slideshow": {
     "slide_type": "fragment"
    }
   },
   "outputs": [],
   "source": [
    "import sympy as sp\n",
    "\n",
    "# 定义符号变量，并对变量进行限制\n",
    "l1, l2 = sp.symbols('l1 l2', positive=True, real=True)  # l1 和 l2 都是正实数\n",
    "theta1, theta2, x, y = sp.symbols('theta1 theta2 x y', real=True)  # theta1, theta2, x, y 是实数\n",
    "c1, s1, c2, s2 = sp.symbols('c1 s1 c2 s2', real=True)  # c1, s1, c2, s2 是实数，余弦和正弦值\n",
    "\n",
    "# 设定逆运动学的方程\n",
    "eq_x = l1 * c1 + l2 * (c1*c2 - s1*s2) - x\n",
    "eq_y = l1 * s1 + l2 * (c1*s2 + s1*c2) - y\n",
    "\n",
    "# 三角恒等式约束条件：c1^2 + s1^2 = 1, c2^2 + s2^2 = 1\n",
    "eq_c1s1 = c1**2 + s1**2 - 1\n",
    "eq_c2s2 = c2**2 + s2**2 - 1\n",
    "\n",
    "# 使用 SymPy 的 solve 函数进行求解\n",
    "solutions = sp.solve([eq_x, eq_y, eq_c1s1, eq_c2s2], [c1, s1, c2, s2])"
   ]
  },
  {
   "cell_type": "code",
   "execution_count": 20,
   "metadata": {
    "slideshow": {
     "slide_type": "subslide"
    }
   },
   "outputs": [
    {
     "name": "stdout",
     "output_type": "stream",
     "text": [
      "======== set：{0} ========\n",
      "c1:\n",
      "(l1**2*x - l2**2*x + x**3 + x*y**2 - y*sqrt(-l1**4 + 2*l1**2*l2**2 + 2*l1**2*x**2 + 2*l1**2*y**2 - l2**4 + 2*l2**2*x**2 + 2*l2**2*y**2 - x**4 - 2*x**2*y**2 - y**4))/(2*l1*(x**2 + y**2))\n",
      "s1:\n",
      "(l1**2*y - l2**2*y + x**2*y + x*sqrt(-l1**4 + 2*l1**2*l2**2 + 2*l1**2*x**2 + 2*l1**2*y**2 - l2**4 + 2*l2**2*x**2 + 2*l2**2*y**2 - x**4 - 2*x**2*y**2 - y**4) + y**3)/(2*l1*(x**2 + y**2))\n",
      "c2:\n",
      "(-l1**2 - l2**2 + x**2 + y**2)/(2*l1*l2)\n",
      "s2:\n",
      "-sqrt((-l1**2 + 2*l1*l2 - l2**2 + x**2 + y**2)*(l1**2 + 2*l1*l2 + l2**2 - x**2 - y**2))/(2*l1*l2)\n",
      "======== set：{1} ========\n",
      "c1:\n",
      "(l1**2*x - l2**2*x + x**3 + x*y**2 + y*sqrt(-l1**4 + 2*l1**2*l2**2 + 2*l1**2*x**2 + 2*l1**2*y**2 - l2**4 + 2*l2**2*x**2 + 2*l2**2*y**2 - x**4 - 2*x**2*y**2 - y**4))/(2*l1*(x**2 + y**2))\n",
      "s1:\n",
      "(l1**2*y - l2**2*y + x**2*y - x*sqrt(-l1**4 + 2*l1**2*l2**2 + 2*l1**2*x**2 + 2*l1**2*y**2 - l2**4 + 2*l2**2*x**2 + 2*l2**2*y**2 - x**4 - 2*x**2*y**2 - y**4) + y**3)/(2*l1*(x**2 + y**2))\n",
      "c2:\n",
      "(-l1**2 - l2**2 + x**2 + y**2)/(2*l1*l2)\n",
      "s2:\n",
      "sqrt((-l1**2 + 2*l1*l2 - l2**2 + x**2 + y**2)*(l1**2 + 2*l1*l2 + l2**2 - x**2 - y**2))/(2*l1*l2)\n"
     ]
    }
   ],
   "source": [
    "# 打印解\n",
    "for ind_0,sol_set in enumerate(solutions):\n",
    "    print(\"=\"*8, \"set：{%d}\" % ind_0, \"=\"*8)\n",
    "    for ind_1,sol in enumerate(sol_set):\n",
    "        if ind_1==0:\n",
    "            str_tmp=\"c1\"\n",
    "        elif ind_1==1:\n",
    "            str_tmp=\"s1\"\n",
    "        elif ind_1==2:\n",
    "            str_tmp=\"c2\"                        \n",
    "        else:\n",
    "            str_tmp=\"s2\"                        \n",
    "        print(str_tmp+\":\") \n",
    "        sol=sp.simplify(sol)\n",
    "        print(sol)"
   ]
  },
  {
   "cell_type": "code",
   "execution_count": 21,
   "metadata": {
    "slideshow": {
     "slide_type": "subslide"
    }
   },
   "outputs": [
    {
     "name": "stdout",
     "output_type": "stream",
     "text": [
      "2\n",
      "[atan2((l1**2*y - l2**2*y + x**2*y + x*sqrt(-l1**4 + 2*l1**2*l2**2 + 2*l1**2*x**2 + 2*l1**2*y**2 - l2**4 + 2*l2**2*x**2 + 2*l2**2*y**2 - x**4 - 2*x**2*y**2 - y**4) + y**3)/(2*l1*(x**2 + y**2)), (l1**2*x - l2**2*x + x**3 + x*y**2 - y*sqrt(-l1**4 + 2*l1**2*l2**2 + 2*l1**2*x**2 + 2*l1**2*y**2 - l2**4 + 2*l2**2*x**2 + 2*l2**2*y**2 - x**4 - 2*x**2*y**2 - y**4))/(2*l1*(x**2 + y**2))), atan2((l1**2*y - l2**2*y + x**2*y - x*sqrt(-l1**4 + 2*l1**2*l2**2 + 2*l1**2*x**2 + 2*l1**2*y**2 - l2**4 + 2*l2**2*x**2 + 2*l2**2*y**2 - x**4 - 2*x**2*y**2 - y**4) + y**3)/(2*l1*(x**2 + y**2)), (l1**2*x - l2**2*x + x**3 + x*y**2 + y*sqrt(-l1**4 + 2*l1**2*l2**2 + 2*l1**2*x**2 + 2*l1**2*y**2 - l2**4 + 2*l2**2*x**2 + 2*l2**2*y**2 - x**4 - 2*x**2*y**2 - y**4))/(2*l1*(x**2 + y**2)))]\n",
      "2\n",
      "[atan2(-sqrt(-(-l1**2 - 2*l1*l2 - l2**2 + x**2 + y**2)*(-l1**2 + 2*l1*l2 - l2**2 + x**2 + y**2))/(2*l1*l2), (-l1**2 - l2**2 + x**2 + y**2)/(2*l1*l2)), atan2(sqrt(-(-l1**2 - 2*l1*l2 - l2**2 + x**2 + y**2)*(-l1**2 + 2*l1*l2 - l2**2 + x**2 + y**2))/(2*l1*l2), (-l1**2 - l2**2 + x**2 + y**2)/(2*l1*l2))]\n"
     ]
    }
   ],
   "source": [
    "theta1 = []\n",
    "theta2 = []\n",
    "for ind_0, sol_set in enumerate(solutions):\n",
    "    c_t1, c_t2, s_t1, s_t2 = sol_set\n",
    "    theta1.append(sp.atan2(sol_set[1], sol_set[0]))  # 计算并添加到theta1列表\n",
    "    theta2.append(sp.atan2(sol_set[3], sol_set[2]))  # 计算并添加到theta2列表\n",
    "print(len(theta1))\n",
    "print(theta1)\n",
    "print(len(theta2))\n",
    "print(theta2)\n"
   ]
  },
  {
   "cell_type": "markdown",
   "metadata": {
    "slideshow": {
     "slide_type": "slide"
    }
   },
   "source": [
    "###### 结果验证"
   ]
  },
  {
   "cell_type": "code",
<<<<<<< HEAD
   "execution_count": 22,
=======
   "execution_count": 26,
>>>>>>> f5b35505f7f62ea04a4e4bf36051e974307ba855
   "metadata": {
    "slideshow": {
     "slide_type": "fragment"
    }
   },
   "outputs": [
    {
     "data": {
      "application/vnd.jupyter.widget-view+json": {
<<<<<<< HEAD
       "model_id": "c9e38144a9c84b7581620283cc7ea226",
=======
       "model_id": "537cb93e98274348ab6ebbff4ba7484e",
>>>>>>> f5b35505f7f62ea04a4e4bf36051e974307ba855
       "version_major": 2,
       "version_minor": 0
      },
      "text/plain": [
       "interactive(children=(FloatSlider(value=35.0, description='Theta1', max=180.0, min=-180.0, step=1.0), FloatSli…"
      ]
     },
     "metadata": {},
     "output_type": "display_data"
    }
   ],
   "source": [
    "from robot_kinematics import create_interactive_forward_with_r\n",
    "create_interactive_forward_with_r()"
   ]
  },
  {
   "cell_type": "code",
   "execution_count": 23,
   "metadata": {
    "slideshow": {
     "slide_type": "subslide"
    }
   },
   "outputs": [
    {
     "name": "stdout",
     "output_type": "stream",
     "text": [
      "84.7102945003114 -70.98158115379378\n",
      "35.10622152419917 70.98158115379378\n"
     ]
    }
   ],
   "source": [
    "import math\n",
    "x_num=1.13\n",
    "y_num=1.95\n",
    "theta1_num = [float(theta.subs([(l1, 1.72), (l2, 1.0), (x, x_num), (y, y_num)]) * 180 / math.pi) for theta in theta1]\n",
    "theta2_num = [float(theta.subs([(l1, 1.72), (l2, 1.0), (x, x_num), (y, y_num)]) * 180 / math.pi) for theta in theta2]\n",
    "print(theta1_num[0],theta2_num[0])\n",
    "print(theta1_num[1],theta2_num[1])\n",
    "\n"
   ]
  },
  {
   "cell_type": "code",
<<<<<<< HEAD
   "execution_count": 24,
=======
   "execution_count": 27,
>>>>>>> f5b35505f7f62ea04a4e4bf36051e974307ba855
   "metadata": {
    "slideshow": {
     "slide_type": "fragment"
    }
   },
   "outputs": [
    {
     "data": {
      "application/vnd.jupyter.widget-view+json": {
<<<<<<< HEAD
       "model_id": "af87b68043ce424ca645959acf9554c5",
=======
       "model_id": "536c045a5cf5485c97c8eccd885e5979",
>>>>>>> f5b35505f7f62ea04a4e4bf36051e974307ba855
       "version_major": 2,
       "version_minor": 0
      },
      "text/plain": [
       "interactive(children=(FloatSlider(value=2.0, description='x', max=3.0, min=-3.0, step=0.01), FloatSlider(value…"
      ]
     },
     "metadata": {},
     "output_type": "display_data"
    }
   ],
   "source": [
    "from robot_kinematics import create_interactive_inverse\n",
    "create_interactive_inverse()"
   ]
  },
  {
   "cell_type": "markdown",
   "metadata": {
    "slideshow": {
     "slide_type": "slide"
    }
   },
   "source": [
    "### 2.1.3 运动范围分析"
   ]
  }
 ],
 "metadata": {
  "celltoolbar": "Slideshow",
  "kernelspec": {
   "display_name": "base",
   "language": "python",
   "name": "python3"
  },
  "language_info": {
   "codemirror_mode": {
    "name": "ipython",
    "version": 3
   },
   "file_extension": ".py",
   "mimetype": "text/x-python",
   "name": "python",
   "nbconvert_exporter": "python",
   "pygments_lexer": "ipython3",
   "version": "3.12.4"
  }
 },
 "nbformat": 4,
 "nbformat_minor": 4
}
