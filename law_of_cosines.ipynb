{
 "cells": [
  {
   "cell_type": "markdown",
   "metadata": {},
   "source": [
    "# 余弦定理(Law of consines)\n",
    "- 如果已知三角形的两条边和它们之间的夹角，第三条边可以用公式计算：\n",
    "  $$\n",
    "  c = \\sqrt{a^2 + b^2 - 2ab \\cos \\gamma}\n",
    "  $$\n",
    "\n",
    "- 如果已知三角形的三条边，可以用以下公式计算其中一个角度：\n",
    "  $$\n",
    "  \\gamma = \\arccos \\left( \\frac{a^2 + b^2 - c^2}{2ab} \\right)\n",
    "  $$\n",
    "  \n",
    "  ![low_of_cosines](law_of_cosines.png)\n",
    "  \n",
    "\n"
   ]
  }
 ],
 "metadata": {
  "language_info": {
   "name": "python"
  }
 },
 "nbformat": 4,
 "nbformat_minor": 2
}
