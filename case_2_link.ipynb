{
 "cells": [
  {
   "cell_type": "code",
   "execution_count": 1,
   "metadata": {},
   "outputs": [
    {
     "data": {
      "text/latex": [
       "$\\displaystyle l_{2} = 8.25 \\wedge l_{1} > 300 - l_{2} \\wedge 0 < l_{1} \\wedge 0 < l_{2} \\wedge l_{1} < l_{2} + 150 \\wedge l_{2} - 150 < l_{1}$"
      ],
      "text/plain": [
       "Eq(l2, 8.25) & (0 < l1) & (0 < l2) & (l1 < l2 + 150) & (l2 - 150 < l1) & (l1 > 300 - l2)"
      ]
     },
     "execution_count": 1,
     "metadata": {},
     "output_type": "execute_result"
    }
   ],
   "source": [
    "import sympy as sp\n",
    "\n",
    "# 定义实数变量 l1 和 l2\n",
    "l1, l2 = sp.symbols('l1 l2', real=True)\n",
    "\n",
    "# 定义不等式\n",
    "ineq1 = l1 + l2 > 300  # l1 + l2 > 300\n",
    "ineq2 = sp.Abs(l1 - l2) < 150  # |l1 - l2| < 150\n",
    "ineq3 = l1 > 0  # l1 > 0\n",
    "ineq4 = l2 > 0  # l2 > 0\n",
    "ineq5= 11/l2-4/3\n",
    "\n",
    "# 将所有不等式放入一个列表中\n",
    "ineqs = [ineq1, ineq2, ineq3, ineq4,ineq5]\n",
    "\n",
    "# 使用solve处理不等式系统\n",
    "solution = sp.solve(ineqs, (l1), dict=True)\n",
    "\n",
    "solution\n"
   ]
  },
  {
   "cell_type": "code",
   "execution_count": 10,
   "metadata": {},
   "outputs": [
    {
     "data": {
      "text/plain": [
       "93.82255372927435"
      ]
     },
     "execution_count": 10,
     "metadata": {},
     "output_type": "execute_result"
    }
   ],
   "source": [
    "l1=250\n",
    "l2=150\n",
    "r=300\n",
    "import numpy as np\n",
    "alpha=(l1**2+l2**2-r**2)/(2*l1*l2)\n",
    "np.rad2deg(np.arccos(alpha))\n"
   ]
  }
 ],
 "metadata": {
  "kernelspec": {
   "display_name": "base",
   "language": "python",
   "name": "python3"
  },
  "language_info": {
   "codemirror_mode": {
    "name": "ipython",
    "version": 3
   },
   "file_extension": ".py",
   "mimetype": "text/x-python",
   "name": "python",
   "nbconvert_exporter": "python",
   "pygments_lexer": "ipython3",
   "version": "3.9.13"
  }
 },
 "nbformat": 4,
 "nbformat_minor": 2
}
