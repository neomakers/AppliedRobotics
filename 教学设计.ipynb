{
 "cells": [
  {
   "cell_type": "markdown",
   "metadata": {},
   "source": [
    "## 2.1 几何方法用于建立机器人运动学模型"
   ]
  },
  {
   "cell_type": "markdown",
   "metadata": {},
   "source": [
    "- **正运动学**(Forward Kinecmatics)是从已知的关节变量（例如角度或位移）推导出机械臂末端执行器的位置。它的目标是确定当我们给定每个关节的位置（角度）时，末端执行器的位置和姿态。\n",
    "- **逆运动学**(Inverse Kinecmatics)是与正运动学相反的过程，它的目标是通过给定末端执行器的位置，求解出关节变量（角度）。"
   ]
  },
  {
   "cell_type": "markdown",
   "metadata": {},
   "source": [
    "#### 正运动学示例\n"
   ]
  },
  {
   "cell_type": "code",
   "execution_count": 1,
   "metadata": {},
   "outputs": [
    {
     "data": {
      "application/vnd.jupyter.widget-view+json": {
       "model_id": "2054f83e4e834adb9847f3342c0d747e",
       "version_major": 2,
       "version_minor": 0
      },
      "text/plain": [
       "interactive(children=(FloatSlider(value=53.0, description='Theta1', max=180.0, min=-180.0, step=1.0), FloatSli…"
      ]
     },
     "metadata": {},
     "output_type": "display_data"
    }
   ],
   "source": [
    "from robot_kinematics import create_interactive_forward\n",
    "# 调用函数，展示交互式动画\n",
    "create_interactive_forward()"
   ]
  },
  {
   "cell_type": "markdown",
   "metadata": {},
   "source": [
    "#### 逆运动学示例"
   ]
  },
  {
   "cell_type": "code",
   "execution_count": 2,
   "metadata": {},
   "outputs": [
    {
     "data": {
      "application/vnd.jupyter.widget-view+json": {
       "model_id": "6709ea5d09424c5cb07eaf408c2c69bf",
       "version_major": 2,
       "version_minor": 0
      },
      "text/plain": [
       "interactive(children=(FloatSlider(value=2.0, description='x', max=3.0, min=-3.0, step=0.01), FloatSlider(value…"
      ]
     },
     "metadata": {},
     "output_type": "display_data"
    }
   ],
   "source": [
    "from robot_kinematics import create_interactive_inverse\n",
    "create_interactive_inverse()"
   ]
  },
  {
   "cell_type": "markdown",
   "metadata": {},
   "source": [
    "### 2.1.1 正运动学分析（Forward Kinecmatics Anlysis)"
   ]
  },
  {
   "cell_type": "markdown",
   "metadata": {},
   "source": [
    "\n",
    "几何方法是分析机器人运动学的一个基本工具，特别适用于连杆机器人系统。通过几何关系，可以从关节的角度（$θ$）推导出机器人末端执行器的位置，称为正运动学问题；或者从末端执行器的位置推导出关节的角度，称为逆运动学问题。"
   ]
  },
  {
   "cell_type": "markdown",
   "metadata": {},
   "source": [
    "####  几何图解法"
   ]
  },
  {
   "cell_type": "markdown",
   "metadata": {},
   "source": [
    "\n",
    "几何图解法是一种基于几何形状和三角函数关系的分析方法。在机械臂的运动学模型中，每一个连杆和关节都可以用简单的几何图形来表示。通过几何图解，我们可以直观地看到各个关节和连杆的位置关系，并通过基本的三角函数计算得到所需的运动学参数。\n",
    "\n",
    "对于一个两连杆机械臂（如双连杆机械臂），其几何图解分析如下：\n",
    "\n",
    "- 设 $l_1$ 和 $l_2$ 分别为两根连杆的长度，$θ_1$ 和 $θ_2$ 为两个关节的旋转角度。\n",
    "- 关节角度和连杆的长度决定了末端执行器的位置。使用几何图解法，我们可以利用三角形中的正弦定理和余弦定理来确定末端执行器的位置。\n",
    "  \n",
    "正运动学公式可以通过几何关系直接推导出来：\n",
    "- 第一个关节位置 $P_1$:\n",
    "  $$\n",
    "  P_1 = (x_1, y_1) = (l_1 \\cos(θ_1), l_1 \\sin(θ_1)) \\tag{2.1}\n",
    " $$\n",
    "- 第二个关节位置 $P_2$ （末端执行器）:\n",
    "  $$\n",
    "  P_2 = (x_2, y_2) = (x_1 + l_2 \\cos(θ_1 + θ_2), y_1 + l_2 \\sin(θ_1 + θ_2)) \\tag{2.2}\n",
    " $$\n"
   ]
  },
  {
   "cell_type": "markdown",
   "metadata": {},
   "source": [
    "#### 向量图解法"
   ]
  },
  {
   "cell_type": "markdown",
   "metadata": {},
   "source": [
    "向量图解法是几何方法的一个扩展，通过使用向量来表示连杆和关节之间的关系。向量图解法的优势在于它不仅能直观地表示机器人系统的结构，还能方便地进行代数计算，尤其适合复杂的多连杆系统。"
   ]
  },
  {
   "cell_type": "markdown",
   "metadata": {},
   "source": [
    "##### 手动推导"
   ]
  },
  {
   "cell_type": "markdown",
   "metadata": {},
   "source": [
    "\n",
    "在向量图解法中，机械臂的每个连杆可以看作一个向量，关节之间的旋转则是向量的旋转变换。以下是两连杆机械臂的向量表示：\n",
    "\n",
    "- 定义第一个连杆的向量 $\\overrightarrow{P_0P_1}$：\n",
    "  $$\n",
    "  \\overrightarrow{P_0P_1} = \\left[ l_1 \\cos(θ_1), l_1 \\sin(θ_1) \\right] \\tag{2.3}\n",
    "  $$\n",
    "  \n",
    "- 定义第二个连杆的向量 $\\overrightarrow{P_1P_2}$：\n",
    "  $$\n",
    "  \\overrightarrow{P_1P_2} = \\left[ l_2 \\cos(θ_1 + θ_2), l_2 \\sin(θ_1 + θ_2) \\right] \\tag{2.4}\n",
    "  $$\n",
    "\n",
    "通过向量加法，可以得到末端执行器的位置 $\\overrightarrow{P_0P_2}$：\n",
    "$$\n",
    "\\overrightarrow{P_0P_2} = \\overrightarrow{P_0P_1} + \\overrightarrow{P_1P_2} \\tag{2.5}\n",
    "$$\n",
    "代入公式：\n",
    "$$\n",
    "\\overrightarrow{P_0P_2} = \\left[ l_1 \\cos(θ_1) + l_2 \\cos(θ_1 + θ_2), l_1 \\sin(θ_1) + l_2 \\sin(θ_1 + θ_2) \\right] \\tag{2.6}\n",
    "$$\n",
    "\n",
    "这种方法允许我们以向量的形式分析机器人末端的位置，结合代数运算进行复杂系统的运动学分析。"
   ]
  },
  {
   "cell_type": "markdown",
   "metadata": {},
   "source": [
    "##### Python公式推导与验证"
   ]
  },
  {
   "cell_type": "markdown",
   "metadata": {},
   "source": [
    "首先初始化书写已知变量"
   ]
  },
  {
   "cell_type": "code",
   "execution_count": 3,
   "metadata": {},
   "outputs": [],
   "source": [
    "import sympy as sp\n",
    "# 启用 LaTeX 渲染\n",
    "sp.init_printing()\n",
    "# 定义符号变量\n",
    "theta_1, theta_2 = sp.symbols('theta_1 theta_2')\n",
    "l1, l2 = sp.symbols('l1 l2')"
   ]
  },
  {
   "cell_type": "markdown",
   "metadata": {},
   "source": [
    "然后开始构建$\\overrightarrow{P_0P_1}$向量"
   ]
  },
  {
   "cell_type": "code",
   "execution_count": 4,
   "metadata": {},
   "outputs": [
    {
     "data": {
      "text/latex": [
       "$\\displaystyle \\left[\\begin{matrix}l_{1} \\cos{\\left(\\theta_{1} \\right)}\\\\l_{1} \\sin{\\left(\\theta_{1} \\right)}\\end{matrix}\\right]$"
      ],
      "text/plain": [
       "⎡l₁⋅cos(θ₁)⎤\n",
       "⎢          ⎥\n",
       "⎣l₁⋅sin(θ₁)⎦"
      ]
     },
     "execution_count": 4,
     "metadata": {},
     "output_type": "execute_result"
    }
   ],
   "source": [
    "# 向量POP1\n",
    "P0P1 = sp.Matrix([l1 * sp.cos(theta_1), l1 * sp.sin(theta_1)])\n",
    "P0P1"
   ]
  },
  {
   "cell_type": "markdown",
   "metadata": {},
   "source": [
    "然后开始构建$\\overrightarrow{P_1P_2}$向量，我们这里要注意，此时相对于绝对坐标系来说，在$X$轴和$Y$轴的投影是$\\theta_{ii}$,所以我们要先定义$\\theta_{ii}$然后计算"
   ]
  },
  {
   "cell_type": "code",
   "execution_count": 5,
   "metadata": {},
   "outputs": [
    {
     "data": {
      "text/latex": [
       "$\\displaystyle \\left[\\begin{matrix}l_{2} \\cos{\\left(theta_{ii} \\right)}\\\\l_{2} \\sin{\\left(theta_{ii} \\right)}\\end{matrix}\\right]$"
      ],
      "text/plain": [
       "⎡l₂⋅cos(θ_{ii})⎤\n",
       "⎢              ⎥\n",
       "⎣l₂⋅sin(θ_{ii})⎦"
      ]
     },
     "execution_count": 5,
     "metadata": {},
     "output_type": "execute_result"
    }
   ],
   "source": [
    "# 向量POP1\n",
    "theta_ii=sp.symbols('theta_{ii}')\n",
    "P1P2 = sp.Matrix([l2 * sp.cos(theta_ii), l2 * sp.sin(theta_ii)])\n",
    "P1P2"
   ]
  },
  {
   "cell_type": "markdown",
   "metadata": {},
   "source": [
    "最终的$\\overrightarrow{P_0P_2}$向量满足公式$\\overrightarrow{P_0P_2} = \\overrightarrow{P_0P_1} + \\overrightarrow{P_1P_2}$"
   ]
  },
  {
   "cell_type": "code",
   "execution_count": 6,
   "metadata": {},
   "outputs": [
    {
     "data": {
      "text/latex": [
       "$\\displaystyle \\left[\\begin{matrix}l_{1} \\cos{\\left(\\theta_{1} \\right)} + l_{2} \\cos{\\left(theta_{ii} \\right)}\\\\l_{1} \\sin{\\left(\\theta_{1} \\right)} + l_{2} \\sin{\\left(theta_{ii} \\right)}\\end{matrix}\\right]$"
      ],
      "text/plain": [
       "⎡l₁⋅cos(θ₁) + l₂⋅cos(θ_{ii})⎤\n",
       "⎢                           ⎥\n",
       "⎣l₁⋅sin(θ₁) + l₂⋅sin(θ_{ii})⎦"
      ]
     },
     "execution_count": 6,
     "metadata": {},
     "output_type": "execute_result"
    }
   ],
   "source": [
    "P0P2=P0P1+P1P2\n",
    "P0P2"
   ]
  },
  {
   "cell_type": "markdown",
   "metadata": {},
   "source": [
    "其中，$\\theta_{ii}=\\theta_1+\\theta_2$,所以我们需要替换$\\theta_{ii}$"
   ]
  },
  {
   "cell_type": "code",
   "execution_count": 7,
   "metadata": {},
   "outputs": [
    {
     "data": {
      "text/latex": [
       "$\\displaystyle \\left[\\begin{matrix}l_{1} \\cos{\\left(\\theta_{1} \\right)} + l_{2} \\cos{\\left(\\theta_{1} + \\theta_{2} \\right)}\\\\l_{1} \\sin{\\left(\\theta_{1} \\right)} + l_{2} \\sin{\\left(\\theta_{1} + \\theta_{2} \\right)}\\end{matrix}\\right]$"
      ],
      "text/plain": [
       "⎡l₁⋅cos(θ₁) + l₂⋅cos(θ₁ + θ₂)⎤\n",
       "⎢                            ⎥\n",
       "⎣l₁⋅sin(θ₁) + l₂⋅sin(θ₁ + θ₂)⎦"
      ]
     },
     "execution_count": 7,
     "metadata": {},
     "output_type": "execute_result"
    }
   ],
   "source": [
    "P0P2=P0P2.subs(theta_ii,(theta_1+theta_2))\n",
    "P0P2\n"
   ]
  },
  {
   "cell_type": "markdown",
   "metadata": {},
   "source": [
    "最后我们代入数据验证和图像中是否一致"
   ]
  },
  {
   "cell_type": "code",
   "execution_count": 8,
   "metadata": {},
   "outputs": [
    {
     "data": {
      "image/png": "[encoded data removed]",
      "text/latex": [
       "$\\displaystyle \\left[ 1.92612836400989, \\  1.82764357702089\\right]$"
      ],
      "text/plain": [
       "[1.92612836400989, 1.82764357702089]"
      ]
     },
     "execution_count": 8,
     "metadata": {},
     "output_type": "execute_result"
    }
   ],
   "source": [
    "# 使用字典进行变量替换\n",
    "# 使用批量替换，定义要替换的符号和它们的值\n",
    "theta_1_val=53\n",
    "theta_2_val=-26\n",
    "subs_values = {theta_1: sp.rad(theta_1_val), theta_2: sp.rad(theta_2_val), l1: 1.72, l2: 1.0}\n",
    "# 对 P0P2 批量替换并数值化\n",
    "P0P2_evaluated = [coord.subs(subs_values).evalf() for coord in P0P2]\n",
    "P0P2_evaluated"
   ]
  },
  {
   "cell_type": "markdown",
   "metadata": {},
   "source": [
    "\n",
    "### 2.1.2 逆运动学分析(Inverse Kinematics Anlysis)"
   ]
  },
  {
   "cell_type": "markdown",
   "metadata": {},
   "source": [
    "\n",
    "\n",
    "逆运动学是通过已知末端执行器的位置来计算机器人的关节角度。对于一个两连杆机械臂，逆运动学问题相对于正运动学较为复杂，因为我们从给定的终端位置 $(x, y)$ 推导出关节角 $\\theta_1$ 和 $\\theta_2$。\n",
    "\n",
    "设定两个连杆的长度为 $l_1$ 和 $l_2$，末端执行器的位置为 $(x, y)$。我们需要推导出如下的方程来求解关节角度 $\\theta_1$ 和 $\\theta_2$。"
   ]
  },
  {
   "cell_type": "markdown",
   "metadata": {},
   "source": [
    "#### 几何分析"
   ]
  },
  {
   "cell_type": "markdown",
   "metadata": {},
   "source": [
    "\n",
    "通过几何分析，我们可以将问题分解为多个已知几何关系的三角形。首先，通过关节角 $\\theta_1$ 和 $\\theta_2$，我们知道末端执行器位置 $(x, y)$ 的关系式是：\n",
    "\n",
    "$$\n",
    "\\left\\{\n",
    "\\begin{aligned}\n",
    "x &= l_1 \\cos(\\theta_1) + l_2 \\cos(\\theta_1 + \\theta_2) \\\\\n",
    "y &= l_1 \\sin(\\theta_1) + l_2 \\sin(\\theta_1 + \\theta_2)\n",
    "\\end{aligned}\n",
    "\\right.\n",
    "\\tag{2.7}\n",
    "$$\n",
    "\n",
    "给定 $x$ 和 $y$，我们的目标是通过逆运动学求解出 $\\theta_1$ 和 $\\theta_2$。"
   ]
  },
  {
   "cell_type": "markdown",
   "metadata": {},
   "source": [
    "#### 手动推导"
   ]
  },
  {
   "cell_type": "markdown",
   "metadata": {},
   "source": [
    "1. **计算极径 $r$**：  \n",
    "首先，我们可以计算从原点到末端执行器位置的距离 $r$，即末端执行器的位置向量模长：\n",
    "\n",
    "$$\n",
    "r = \\sqrt{x^2 + y^2} \\tag{2.8}\n",
    "$$\n",
    "\n",
    "这个值表示末端执行器到原点的直线距离。为了确保解的存在性，必须满足下列条件：\n",
    "$$\n",
    "\\left| l_1 - l_2 \\right| \\leq r \\leq l_1 + l_2 \\tag{2.9}\n",
    "$$\n",
    "否则目标点超出了机械臂的可达工作空间，无法找到解。"
   ]
  },
  {
   "cell_type": "markdown",
   "metadata": {},
   "source": [
    "\n",
    "2. **求解角度 $\\theta_2$**：  \n",
    "利用余弦定理，我们可以求解第二个关节的角度 $\\theta_2$。考虑到末端执行器、关节 1 和关节 2 形成的三角形，我们可以应用余弦定理：\n",
    "\n",
    "$$\n",
    "\\cos(\\theta_2) = \\frac{r^2 - l_1^2 - l_2^2}{2 l_1 l_2} \\tag{2.10}\n",
    "$$\n",
    "\n",
    "由此，角度 $\\theta_2$ 可以表示为：\n",
    "\n",
    "$$\n",
    "\\theta_2 = \\arccos\\left( \\frac{r^2 - l_1^2 - l_2^2}{2 l_1 l_2} \\right) \\tag{2.11}\n",
    "$$\n",
    "\n",
    "**注意**：由于 $\\theta_2$ 有两个可能的解（即肘部朝上的解和肘部朝下的解），我们可以通过分别取正角度和负角度来表示这两种情况。\n",
    "- **肘部朝上**(Elbow Up, $\\theta_2 > 0$)\n",
    "- **肘部朝下**(Elbow Up, $\\theta_2 < 0$)"
   ]
  },
  {
   "cell_type": "markdown",
   "metadata": {},
   "source": [
    "3. **求解角度 $\\theta_1$**：  \n",
    "接下来，我们通过几何关系求解第一个关节的角度 $\\theta_1$。我们首先计算目标位置与原点之间的夹角 $\\phi$：\n",
    "\n",
    "$$\n",
    "\\phi = \\arctan\\left( \\frac{y}{x} \\right) \\tag{2.12}\n",
    "$$\n",
    "\n",
    "然后使用几何关系，得出：\n",
    "\n",
    "$$\n",
    "\\theta_1 = \\phi - \\arctan\\left( \\frac{l_2 \\sin(\\theta_2)}{l_1 + l_2 \\cos(\\theta_2)} \\right) \\tag{2.13}\n",
    "$$\n",
    "\n",
    "同样，由于 $\\theta_2$ 有两个解，因此 $\\theta_1$ 也有两个相应的解。通过这种方式，我们可以获得肘部朝上和肘部朝下的两种解法。"
   ]
  },
  {
   "cell_type": "markdown",
   "metadata": {},
   "source": [
    "\n",
    "#### 最终公式\n"
   ]
  },
  {
   "cell_type": "markdown",
   "metadata": {},
   "source": [
    "\n",
    "根据以上推导，逆运动学的解可以总结如下：\n",
    "\n",
    "$$\n",
    "\\left\\{\n",
    "\\begin{aligned}\n",
    "\\theta_2 &= \\arccos\\left( \\frac{r^2 - l_1^2 - l_2^2}{2 l_1 l_2} \\right) \\\\\n",
    "\\theta_1 &= \\arctan\\left( \\frac{y}{x} \\right) - \\arctan\\left( \\frac{l_2 \\sin(\\theta_2)}{l_1 + l_2 \\cos(\\theta_2)} \\right)\n",
    "\\end{aligned}\n",
    "\\right.\n",
    "\\tag{2.14}\n",
    "$$\n",
    "\n",
    "由于 $\\theta_2$ 有两个可能的解（肘部朝上和肘部朝下），对于每个 $\\theta_2$，我们可以求解相应的 $\\theta_1$。最终的结果是两个解：\n",
    "\n",
    "1. **肘部朝上的解** $(\\theta_1^a, \\theta_2^a)$\n",
    "2. **肘部朝下的解** $(\\theta_1^b, \\theta_2^b)$"
   ]
  }
 ],
 "metadata": {
  "kernelspec": {
   "display_name": "Python 3",
   "language": "python",
   "name": "python3"
  },
  "language_info": {
   "codemirror_mode": {
    "name": "ipython",
    "version": 3
   },
   "file_extension": ".py",
   "mimetype": "text/x-python",
   "name": "python",
   "nbconvert_exporter": "python",
   "pygments_lexer": "ipython3",
   "version": "3.12.4"
  }
 },
 "nbformat": 4,
 "nbformat_minor": 2
}
