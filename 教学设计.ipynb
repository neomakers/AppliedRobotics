{
 "cells": [
  {
   "cell_type": "markdown",
   "metadata": {},
   "source": [
    "## 2.1 几何方法用于建立机器人运动学模型"
   ]
  },
  {
   "cell_type": "markdown",
   "metadata": {},
   "source": [
    "- **正运动学**(Forward Kinecmatics)是从已知的关节变量（例如角度或位移）推导出机械臂末端执行器的位置。它的目标是确定当我们给定每个关节的位置（角度）时，末端执行器的位置和姿态。\n",
    "- **逆运动学**(Inverse Kinecmatics)是与正运动学相反的过程，它的目标是通过给定末端执行器的位置，求解出关节变量（角度）。"
   ]
  },
  {
   "cell_type": "markdown",
   "metadata": {},
   "source": [
    "#### 正运动学示例\n"
   ]
  },
  {
   "cell_type": "code",
   "execution_count": 16,
   "metadata": {},
   "outputs": [
    {
     "data": {
      "application/vnd.jupyter.widget-view+json": {
       "model_id": "ab5fb0dced5640c98871c7f200085152",
       "version_major": 2,
       "version_minor": 0
      },
      "text/plain": [
       "interactive(children=(FloatSlider(value=35.0, description='Theta1', max=180.0, min=-180.0, step=1.0), FloatSli…"
      ]
     },
     "metadata": {},
     "output_type": "display_data"
    }
   ],
   "source": [
    "from robot_kinematics import create_interactive_forward\n",
    "# 调用函数，展示交互式动画\n",
    "create_interactive_forward()"
   ]
  },
  {
   "cell_type": "markdown",
   "metadata": {},
   "source": [
    "#### 逆运动学示例"
   ]
  },
  {
   "cell_type": "code",
   "execution_count": 17,
   "metadata": {},
   "outputs": [
    {
     "data": {
      "application/vnd.jupyter.widget-view+json": {
       "model_id": "a09c5f2a0ff54350acfe3b32846acec2",
       "version_major": 2,
       "version_minor": 0
      },
      "text/plain": [
       "interactive(children=(FloatSlider(value=2.0, description='x', max=3.0, min=-3.0, step=0.01), FloatSlider(value…"
      ]
     },
     "metadata": {},
     "output_type": "display_data"
    }
   ],
   "source": [
    "from robot_kinematics import create_interactive_inverse\n",
    "create_interactive_inverse()"
   ]
  },
  {
   "cell_type": "markdown",
   "metadata": {},
   "source": [
    "### 2.1.1 正运动学分析（Forward Kinecmatics Anlysis)"
   ]
  },
  {
   "cell_type": "markdown",
   "metadata": {},
   "source": [
    "\n",
    "几何方法是分析机器人运动学的一个基本工具，特别适用于连杆机器人系统。通过几何关系，可以从关节的角度（$θ$）推导出机器人末端执行器的位置，称为正运动学问题；或者从末端执行器的位置推导出关节的角度，称为逆运动学问题。"
   ]
  },
  {
   "cell_type": "markdown",
   "metadata": {},
   "source": [
    "#### 几何图解法"
   ]
  },
  {
   "cell_type": "markdown",
   "metadata": {},
   "source": [
    "\n",
    "几何图解法是一种基于几何形状和三角函数关系的分析方法。在机械臂的运动学模型中，每一个连杆和关节都可以用简单的几何图形来表示。通过几何图解，我们可以直观地看到各个关节和连杆的位置关系，并通过基本的三角函数计算得到所需的运动学参数。\n",
    "\n",
    "对于一个两连杆机械臂（如双连杆机械臂），其几何图解分析如下：\n",
    "\n",
    "- 设 $l_1$ 和 $l_2$ 分别为两根连杆的长度，$θ_1$ 和 $θ_2$ 为两个关节的旋转角度。\n",
    "- 关节角度和连杆的长度决定了末端执行器的位置。使用几何图解法，我们可以利用三角形中的正弦定理和余弦定理来确定末端执行器的位置。\n",
    "  \n",
    "正运动学公式可以通过几何关系直接推导出来：\n",
    "- 第一个关节位置 $P_1$:\n",
    "  $$\n",
    "  P_1 = (x_1, y_1) = (l_1 \\cos(θ_1), l_1 \\sin(θ_1)) \\tag{2.1}\n",
    " $$\n",
    "- 第二个关节位置 $P_2$ （末端执行器）:\n",
    "  $$\n",
    "  P_2 = (x_2, y_2) = (x_1 + l_2 \\cos(θ_1 + θ_2), y_1 + l_2 \\sin(θ_1 + θ_2)) \\tag{2.2}\n",
    " $$\n"
   ]
  },
  {
   "cell_type": "markdown",
   "metadata": {},
   "source": [
    "#### 向量图解法"
   ]
  },
  {
   "cell_type": "markdown",
   "metadata": {},
   "source": [
    "向量图解法是几何方法的一个扩展，通过使用向量来表示连杆和关节之间的关系。向量图解法的优势在于它不仅能直观地表示机器人系统的结构，还能方便地进行代数计算，尤其适合复杂的多连杆系统。"
   ]
  },
  {
   "cell_type": "markdown",
   "metadata": {},
   "source": [
    "##### 手动推导"
   ]
  },
  {
   "cell_type": "markdown",
   "metadata": {},
   "source": [
    "\n",
    "在向量图解法中，机械臂的每个连杆可以看作一个向量，关节之间的旋转则是向量的旋转变换。以下是两连杆机械臂的向量表示：\n",
    "\n",
    "- 定义第一个连杆的向量 $\\overrightarrow{P_0P_1}$：\n",
    "  $$\n",
    "  \\overrightarrow{P_0P_1} = \\left[ l_1 \\cos(θ_1), l_1 \\sin(θ_1) \\right] \\tag{2.3}\n",
    "  $$\n",
    "  \n",
    "- 定义第二个连杆的向量 $\\overrightarrow{P_1P_2}$：\n",
    "  $$\n",
    "  \\overrightarrow{P_1P_2} = \\left[ l_2 \\cos(θ_1 + θ_2), l_2 \\sin(θ_1 + θ_2) \\right] \\tag{2.4}\n",
    "  $$\n",
    "\n",
    "通过向量加法，可以得到末端执行器的位置 $\\overrightarrow{P_0P_2}$：\n",
    "$$\n",
    "\\overrightarrow{P_0P_2} = \\overrightarrow{P_0P_1} + \\overrightarrow{P_1P_2} \\tag{2.5}\n",
    "$$\n",
    "代入公式：\n",
    "$$\n",
    "\\overrightarrow{P_0P_2}=[x,y] = \\left[ l_1 \\cos(θ_1) + l_2 \\cos(θ_1 + θ_2), l_1 \\sin(θ_1) + l_2 \\sin(θ_1 + θ_2) \\right] \\tag{2.6}\n",
    "$$\n",
    "\n",
    "这种方法允许我们以向量的形式分析机器人末端的位置，结合代数运算进行复杂系统的运动学分析。"
   ]
  },
  {
   "cell_type": "markdown",
   "metadata": {},
   "source": [
    "##### Python公式推导与验证"
   ]
  },
  {
   "cell_type": "markdown",
   "metadata": {},
   "source": [
    "首先初始化书写已知变量"
   ]
  },
  {
   "cell_type": "code",
   "execution_count": 18,
   "metadata": {},
   "outputs": [],
   "source": [
    "import sympy as sp\n",
    "# 启用 LaTeX 渲染\n",
    "sp.init_printing()\n",
    "# 定义符号变量\n",
    "theta_1, theta_2 = sp.symbols('theta_1 theta_2')\n",
    "l1, l2 = sp.symbols('l1 l2')"
   ]
  },
  {
   "cell_type": "markdown",
   "metadata": {},
   "source": [
    "然后开始构建$\\overrightarrow{P_0P_1}$向量"
   ]
  },
  {
   "cell_type": "code",
   "execution_count": 19,
   "metadata": {},
   "outputs": [
    {
     "data": {
      "text/latex": [
       "$\\displaystyle \\left[\\begin{matrix}l_{1} \\cos{\\left(\\theta_{1} \\right)}\\\\l_{1} \\sin{\\left(\\theta_{1} \\right)}\\end{matrix}\\right]$"
      ],
      "text/plain": [
       "⎡l₁⋅cos(θ₁)⎤\n",
       "⎢          ⎥\n",
       "⎣l₁⋅sin(θ₁)⎦"
      ]
     },
     "execution_count": 19,
     "metadata": {},
     "output_type": "execute_result"
    }
   ],
   "source": [
    "# 向量POP1\n",
    "P0P1 = sp.Matrix([l1 * sp.cos(theta_1), l1 * sp.sin(theta_1)])\n",
    "P0P1"
   ]
  },
  {
   "cell_type": "markdown",
   "metadata": {},
   "source": [
    "然后开始构建$\\overrightarrow{P_1P_2}$向量，我们这里要注意，此时相对于绝对坐标系来说，在$X$轴和$Y$轴的投影是$\\theta_{ii}$,所以我们要先定义$\\theta_{ii}$然后计算"
   ]
  },
  {
   "cell_type": "code",
   "execution_count": 20,
   "metadata": {},
   "outputs": [
    {
     "data": {
      "text/latex": [
       "$\\displaystyle \\left[\\begin{matrix}l_{2} \\cos{\\left(theta_{ii} \\right)}\\\\l_{2} \\sin{\\left(theta_{ii} \\right)}\\end{matrix}\\right]$"
      ],
      "text/plain": [
       "⎡l₂⋅cos(θ_{ii})⎤\n",
       "⎢              ⎥\n",
       "⎣l₂⋅sin(θ_{ii})⎦"
      ]
     },
     "execution_count": 20,
     "metadata": {},
     "output_type": "execute_result"
    }
   ],
   "source": [
    "# 向量POP1\n",
    "theta_ii=sp.symbols('theta_{ii}')\n",
    "P1P2 = sp.Matrix([l2 * sp.cos(theta_ii), l2 * sp.sin(theta_ii)])\n",
    "P1P2"
   ]
  },
  {
   "cell_type": "markdown",
   "metadata": {},
   "source": [
    "最终的$\\overrightarrow{P_0P_2}$向量满足公式$\\overrightarrow{P_0P_2} = \\overrightarrow{P_0P_1} + \\overrightarrow{P_1P_2}$"
   ]
  },
  {
   "cell_type": "code",
   "execution_count": 21,
   "metadata": {},
   "outputs": [
    {
     "data": {
      "text/latex": [
       "$\\displaystyle \\left[\\begin{matrix}l_{1} \\cos{\\left(\\theta_{1} \\right)} + l_{2} \\cos{\\left(theta_{ii} \\right)}\\\\l_{1} \\sin{\\left(\\theta_{1} \\right)} + l_{2} \\sin{\\left(theta_{ii} \\right)}\\end{matrix}\\right]$"
      ],
      "text/plain": [
       "⎡l₁⋅cos(θ₁) + l₂⋅cos(θ_{ii})⎤\n",
       "⎢                           ⎥\n",
       "⎣l₁⋅sin(θ₁) + l₂⋅sin(θ_{ii})⎦"
      ]
     },
     "execution_count": 21,
     "metadata": {},
     "output_type": "execute_result"
    }
   ],
   "source": [
    "P0P2=P0P1+P1P2\n",
    "P0P2"
   ]
  },
  {
   "cell_type": "markdown",
   "metadata": {},
   "source": [
    "其中，$\\theta_{ii}=\\theta_1+\\theta_2$,所以我们需要替换$\\theta_{ii}$"
   ]
  },
  {
   "cell_type": "code",
   "execution_count": 22,
   "metadata": {},
   "outputs": [
    {
     "data": {
      "text/latex": [
       "$\\displaystyle \\left[\\begin{matrix}l_{1} \\cos{\\left(\\theta_{1} \\right)} + l_{2} \\cos{\\left(\\theta_{1} + \\theta_{2} \\right)}\\\\l_{1} \\sin{\\left(\\theta_{1} \\right)} + l_{2} \\sin{\\left(\\theta_{1} + \\theta_{2} \\right)}\\end{matrix}\\right]$"
      ],
      "text/plain": [
       "⎡l₁⋅cos(θ₁) + l₂⋅cos(θ₁ + θ₂)⎤\n",
       "⎢                            ⎥\n",
       "⎣l₁⋅sin(θ₁) + l₂⋅sin(θ₁ + θ₂)⎦"
      ]
     },
     "execution_count": 22,
     "metadata": {},
     "output_type": "execute_result"
    }
   ],
   "source": [
    "P0P2=P0P2.subs(theta_ii,(theta_1+theta_2))\n",
    "P0P2"
   ]
  },
  {
   "cell_type": "markdown",
   "metadata": {},
   "source": [
    "最后我们代入数据验证和图像中是否一致"
   ]
  },
  {
   "cell_type": "code",
   "execution_count": 23,
   "metadata": {},
   "outputs": [
    {
     "data": {
      "image/png": "[encoded data removed]",
      "text/latex": [
       "$\\displaystyle \\left[ 1.92612836400989, \\  1.82764357702089\\right]$"
      ],
      "text/plain": [
       "[1.92612836400989, 1.82764357702089]"
      ]
     },
     "execution_count": 23,
     "metadata": {},
     "output_type": "execute_result"
    }
   ],
   "source": [
    "# 使用字典进行变量替换\n",
    "# 使用批量替换，定义要替换的符号和它们的值\n",
    "theta_1_val=53\n",
    "theta_2_val=-26\n",
    "subs_values = {theta_1: sp.rad(theta_1_val), theta_2: sp.rad(theta_2_val), l1: 1.72, l2: 1.0}\n",
    "# 对 P0P2 批量替换并数值化\n",
    "P0P2_evaluated = [coord.subs(subs_values).evalf() for coord in P0P2]\n",
    "P0P2_evaluated"
   ]
  },
  {
   "cell_type": "markdown",
   "metadata": {},
   "source": [
    "\n",
    "### 2.1.2 逆运动学分析(Inverse Kinematics Anlysis)"
   ]
  },
  {
   "cell_type": "markdown",
   "metadata": {},
   "source": [
    "\n",
    "\n",
    "逆运动学是通过已知末端执行器的位置来计算机器人的关节角度。对于一个两连杆机械臂，逆运动学问题相对于正运动学较为复杂，因为我们从给定的终端位置 $(x, y)$ 推导出关节角 $\\theta_1$ 和 $\\theta_2$。\n",
    "\n",
    "设定两个连杆的长度为 $l_1$ 和 $l_2$，末端执行器的位置为 $(x, y)$。我们需要推导出如下的方程来求解关节角度 $\\theta_1$ 和 $\\theta_2$。"
   ]
  },
  {
   "cell_type": "markdown",
   "metadata": {},
   "source": [
    "#### 几何分析"
   ]
  },
  {
   "cell_type": "markdown",
   "metadata": {},
   "source": [
    "\n",
    "通过前面的几何分析正运动学或者下图所示，我们可以将问题分解为多个已知几何关系的三角形。首先，通过关节角 $\\theta_1$ 和 $\\theta_2$，我们知道末端执行器位置 $(x, y)$ 的关系式是：\n",
    "\n",
    "$$\n",
    "\\left\\{\n",
    "\\begin{aligned}\n",
    "x &= l_1 \\cos(\\theta_1) + l_2 \\cos(\\theta_1 + \\theta_2) \\\\\n",
    "y &= l_1 \\sin(\\theta_1) + l_2 \\sin(\\theta_1 + \\theta_2)\n",
    "\\end{aligned}\n",
    "\\right.\n",
    "\\tag{2.7}\n",
    "$$\n",
    "\n",
    "给定 $x$ 和 $y$，我们的目标是通过逆运动学求解出 $\\theta_1$ 和 $\\theta_2$。"
   ]
  },
  {
   "cell_type": "markdown",
   "metadata": {},
   "source": [
    "#### 手动推导"
   ]
  },
  {
   "cell_type": "markdown",
   "metadata": {},
   "source": [
    "##### 1. **计算极径 $r$**：  \n"
   ]
  },
  {
   "cell_type": "markdown",
   "metadata": {},
   "source": [
    "首先，我们可以计算从原点到末端执行器位置的距离 $r$，即末端执行器的位置向量模长："
   ]
  },
  {
   "cell_type": "code",
   "execution_count": 24,
   "metadata": {},
   "outputs": [
    {
     "data": {
      "application/vnd.jupyter.widget-view+json": {
       "model_id": "ec145b04a0824ab6bace0e18dc81a9fa",
       "version_major": 2,
       "version_minor": 0
      },
      "text/plain": [
       "interactive(children=(FloatSlider(value=35.0, description='Theta1', max=180.0, min=-180.0, step=1.0), FloatSli…"
      ]
     },
     "metadata": {},
     "output_type": "display_data"
    }
   ],
   "source": [
    "from robot_kinematics import create_interactive_forward_with_r\n",
    "create_interactive_forward_with_r()"
   ]
  },
  {
   "cell_type": "markdown",
   "metadata": {},
   "source": [
    "\n",
    "$$\n",
    "r = \\sqrt{x^2 + y^2} \\tag{2.8}\n",
    "$$\n"
   ]
  },
  {
   "cell_type": "markdown",
   "metadata": {},
   "source": [
    "##### 2. 确保条件成立与边界范围计算"
   ]
  },
  {
   "cell_type": "markdown",
   "metadata": {},
   "source": [
    "\n",
    "这个值表示末端执行器到原点的直线距离。为了确保解的存在性，必须满足下列条件：\n",
    "$$\n",
    "\\left| l_1 - l_2 \\right| \\leq r \\leq l_1 + l_2 \\tag{2.9}\n",
    "$$\n",
    "否则目标点超出了机械臂的可达工作空间，无法找到解。\n",
    "###### 示意图\n"
   ]
  },
  {
   "cell_type": "code",
   "execution_count": 25,
   "metadata": {},
   "outputs": [
    {
     "data": {
      "application/vnd.jupyter.widget-view+json": {
       "model_id": "8a76ed982edc4f2c8e78ff010b65c282",
       "version_major": 2,
       "version_minor": 0
      },
      "text/plain": [
       "interactive(children=(FloatSlider(value=35.0, description='Theta1', max=180.0, min=-180.0, step=1.0), FloatSli…"
      ]
     },
     "metadata": {},
     "output_type": "display_data"
    }
   ],
   "source": [
    "from robot_kinematics import create_interactive_forward_with_range\n",
    "create_interactive_forward_with_range()"
   ]
  },
  {
   "cell_type": "markdown",
   "metadata": {},
   "source": [
    "\n",
    "##### 3. **求解角度 $\\theta_2$**"
   ]
  },
  {
   "cell_type": "markdown",
   "metadata": {},
   "source": [
    "利用余弦定理，我们可以求解第二个关节的角度 $\\theta_2$。考虑到末端执行器、关节 1 和关节 2 形成的三角形，我们可以应用[余弦定理(Law of consines)](law_of_cosines.ipynb)。\n",
    "###### 示意图如下"
   ]
  },
  {
   "cell_type": "code",
   "execution_count": 26,
   "metadata": {},
   "outputs": [
    {
     "data": {
      "application/vnd.jupyter.widget-view+json": {
       "model_id": "6df1029932fe4680b4f0795fc5303a22",
       "version_major": 2,
       "version_minor": 0
      },
      "text/plain": [
       "interactive(children=(FloatSlider(value=2.0, description='x', max=3.0, min=-3.0, step=0.01), FloatSlider(value…"
      ]
     },
     "metadata": {},
     "output_type": "display_data"
    }
   ],
   "source": [
    "from robot_kinematics import create_interactive_inverse_for_theta\n",
    "create_interactive_inverse_for_theta()"
   ]
  },
  {
   "cell_type": "markdown",
   "metadata": {},
   "source": [
    "其中有$\\cos(\\phi)=\\cos(\\pi-\\theta_2)=\\cos(\\theta_2)$\n"
   ]
  },
  {
   "cell_type": "markdown",
   "metadata": {},
   "source": [
    "故有\n",
    "$$\n",
    "\\cos(\\theta_2) = \\frac{r^2 - l_1^2 - l_2^2}{2 l_1 l_2} \\tag{2.10}\n",
    "$$"
   ]
  },
  {
   "cell_type": "markdown",
   "metadata": {},
   "source": [
    "#### 最终结果\n"
   ]
  },
  {
   "cell_type": "markdown",
   "metadata": {},
   "source": [
    "\n",
    "由此，角度 $\\theta_2$ 可以表示为：\n",
    "\n",
    "$$\n",
    "\\theta_2 = \\arccos\\left( \\frac{r^2 - l_1^2 - l_2^2}{2 l_1 l_2} \\right) \\tag{2.11}\n",
    "$$\n",
    "\n",
    "**注意**：由于 $\\theta_2$ 可能有两个的正负相反的解（即肘部朝上的解和肘部朝下的解），我们可以通过分别取正角度和负角度来表示这两种情况。\n",
    "- **肘部朝上**(Elbow Up, $\\theta_2 > 0$)\n",
    "- **肘部朝下**(Elbow Up, $\\theta_2 < 0$)"
   ]
  },
  {
   "cell_type": "code",
   "execution_count": 27,
   "metadata": {},
   "outputs": [
    {
     "data": {
      "application/vnd.jupyter.widget-view+json": {
       "model_id": "91404e90db564cd19fd1c5ed3725d99c",
       "version_major": 2,
       "version_minor": 0
      },
      "text/plain": [
       "interactive(children=(FloatSlider(value=2.0, description='x', max=3.0, min=-3.0, step=0.01), FloatSlider(value…"
      ]
     },
     "metadata": {},
     "output_type": "display_data"
    }
   ],
   "source": [
    "from robot_kinematics import create_interactive_inverse\n",
    "create_interactive_inverse()"
   ]
  },
  {
   "cell_type": "markdown",
   "metadata": {},
   "source": [
    "3. **求解角度 $\\theta_1$**：  \n",
    "接下来，我们通过几何关系求解第一个关节的角度 $\\theta_1$。我们首先计算目标位置与原点之间的夹角 $\\phi$：\n"
   ]
  },
  {
   "cell_type": "code",
   "execution_count": 28,
   "metadata": {},
   "outputs": [
    {
     "data": {
      "application/vnd.jupyter.widget-view+json": {
       "model_id": "6d5680afedd1405f830db91772d2266c",
       "version_major": 2,
       "version_minor": 0
      },
      "text/plain": [
       "interactive(children=(FloatSlider(value=1.95, description='x', max=3.0, min=-3.0, step=0.01), FloatSlider(valu…"
      ]
     },
     "metadata": {},
     "output_type": "display_data"
    }
   ],
   "source": [
    "from robot_kinematics import create_interactive_inverse_for_psi_theta\n",
    "create_interactive_inverse_for_psi_theta()"
   ]
  },
  {
   "cell_type": "markdown",
   "metadata": {},
   "source": [
    "\n",
    "$$\n",
    "\\psi = \\arctan\\left( \\frac{y}{x} \\right) \\tag{2.12}\n",
    "$$\n",
    "\n",
    "然后使用几何关系，得出：\n",
    "\n",
    "$$\n",
    "\\left\\{\n",
    "\\begin{aligned}\n",
    "\\theta_1&=\\psi-\\epsilon\\\\\n",
    "\\epsilon&=\\arctan\\left( \\frac{l_2 \\sin(\\theta_2)}{l_1 + l_2 \\cos(\\theta_2)} \\right)\n",
    "\\end{aligned}\n",
    "\\right.\n",
    "\\tag{2.13}\n",
    "$$\n",
    "\n",
    "整理得\n",
    "\n",
    "$$\n",
    "\\theta_1=\\psi-\\arctan\\left( \\frac{l_2 \\sin(\\theta_2)}{l_1 + l_2 \\cos(\\theta_2)} \\right) \\tag{2.14}\n",
    "$$\n",
    "\n",
    "同样，由于 $\\theta_2$ 有两个解，因此 $\\theta_1$ 也有两个相应的解。通过这种方式，我们可以获得肘部朝上和肘部朝下的两种解法。"
   ]
  },
  {
   "cell_type": "markdown",
   "metadata": {},
   "source": [
    "#### 最终公式\n"
   ]
  },
  {
   "cell_type": "markdown",
   "metadata": {},
   "source": [
    "\n",
    "根据以上推导，逆运动学的解可以总结如下：\n",
    "\n",
    "$$\n",
    "\\left\\{\n",
    "\\begin{aligned}\n",
    "\\theta_2 &= \\arccos\\left( \\frac{r^2 - l_1^2 - l_2^2}{2 l_1 l_2} \\right) \\\\\n",
    "\\theta_1 &= \\arctan\\left( \\frac{y}{x} \\right) - \\arctan\\left( \\frac{l_2 \\sin(\\theta_2)}{l_1 + l_2 \\cos(\\theta_2)} \\right)\n",
    "\\end{aligned}\n",
    "\\right.\n",
    "\\tag{2.15}\n",
    "$$\n",
    "\n",
    "由于 $\\theta_2$ 有两个可能的解（肘部朝上和肘部朝下），对于每个 $\\theta_2$，我们可以求解相应的 $\\theta_1$。最终的结果是两个解：\n",
    "\n",
    "1. **肘部朝上的解** $(\\theta_1^a, \\theta_2^a)$\n",
    "2. **肘部朝下的解** $(\\theta_1^b, \\theta_2^b)$"
   ]
  },
  {
   "cell_type": "markdown",
   "metadata": {},
   "source": [
    "#### Python符号变量推导公式"
   ]
  },
  {
   "cell_type": "markdown",
   "metadata": {},
   "source": [
    "现在通过上面的学习，已经知道其正运动学公式（[详见链接](#211-正运动学分析forward-kinecmatics-anlysis)）其公式如下：\n",
    "$$\n",
    "\\overrightarrow{P_0P_2}=[x,y] = \\left[ l_1 \\cos(θ_1) + l_2 \\cos(θ_1 + θ_2), l_1 \\sin(θ_1) + l_2 \\sin(θ_1 + θ_2) \\right] \n",
    "$$"
   ]
  },
  {
   "cell_type": "code",
   "execution_count": 69,
   "metadata": {},
   "outputs": [
    {
     "ename": "ZeroDivisionError",
     "evalue": "polynomial division",
     "output_type": "error",
     "traceback": [
      "\u001b[1;31m---------------------------------------------------------------------------\u001b[0m",
      "\u001b[1;31mZeroDivisionError\u001b[0m                         Traceback (most recent call last)",
      "Cell \u001b[1;32mIn[69], line 12\u001b[0m\n\u001b[0;32m      9\u001b[0m eq_y \u001b[38;5;241m=\u001b[39m l1 \u001b[38;5;241m*\u001b[39m sp\u001b[38;5;241m.\u001b[39msin(theta1) \u001b[38;5;241m+\u001b[39m l2 \u001b[38;5;241m*\u001b[39m sp\u001b[38;5;241m.\u001b[39msin(theta1 \u001b[38;5;241m+\u001b[39m theta2) \u001b[38;5;241m-\u001b[39m y\n\u001b[0;32m     11\u001b[0m \u001b[38;5;66;03m# 尝试符号解\u001b[39;00m\n\u001b[1;32m---> 12\u001b[0m solutions \u001b[38;5;241m=\u001b[39m \u001b[43msp\u001b[49m\u001b[38;5;241;43m.\u001b[39;49m\u001b[43msolve\u001b[49m\u001b[43m(\u001b[49m\u001b[43m[\u001b[49m\u001b[43meq_x\u001b[49m\u001b[43m,\u001b[49m\u001b[43m \u001b[49m\u001b[43meq_y\u001b[49m\u001b[43m]\u001b[49m\u001b[43m,\u001b[49m\u001b[43m \u001b[49m\u001b[43m[\u001b[49m\u001b[43mtheta1\u001b[49m\u001b[43m,\u001b[49m\u001b[43m \u001b[49m\u001b[43mtheta2\u001b[49m\u001b[43m]\u001b[49m\u001b[43m,\u001b[49m\u001b[43m \u001b[49m\u001b[38;5;28;43mdict\u001b[39;49m\u001b[38;5;241;43m=\u001b[39;49m\u001b[38;5;28;43;01mTrue\u001b[39;49;00m\u001b[43m)\u001b[49m\n",
      "File \u001b[1;32mc:\\Users\\ufo001jone\\AppData\\Local\\Programs\\Python\\Python312\\Lib\\site-packages\\sympy\\solvers\\solvers.py:1172\u001b[0m, in \u001b[0;36msolve\u001b[1;34m(f, *symbols, **flags)\u001b[0m\n\u001b[0;32m   1170\u001b[0m         solution \u001b[38;5;241m=\u001b[39m _solve(f[\u001b[38;5;241m0\u001b[39m], \u001b[38;5;241m*\u001b[39msymbols, \u001b[38;5;241m*\u001b[39m\u001b[38;5;241m*\u001b[39mflags)\n\u001b[0;32m   1171\u001b[0m \u001b[38;5;28;01melse\u001b[39;00m:\n\u001b[1;32m-> 1172\u001b[0m     linear, solution \u001b[38;5;241m=\u001b[39m \u001b[43m_solve_system\u001b[49m\u001b[43m(\u001b[49m\u001b[43mf\u001b[49m\u001b[43m,\u001b[49m\u001b[43m \u001b[49m\u001b[43msymbols\u001b[49m\u001b[43m,\u001b[49m\u001b[43m \u001b[49m\u001b[38;5;241;43m*\u001b[39;49m\u001b[38;5;241;43m*\u001b[39;49m\u001b[43mflags\u001b[49m\u001b[43m)\u001b[49m\n\u001b[0;32m   1173\u001b[0m \u001b[38;5;28;01massert\u001b[39;00m \u001b[38;5;28mtype\u001b[39m(solution) \u001b[38;5;129;01mis\u001b[39;00m \u001b[38;5;28mlist\u001b[39m\n\u001b[0;32m   1174\u001b[0m \u001b[38;5;28;01massert\u001b[39;00m \u001b[38;5;129;01mnot\u001b[39;00m solution \u001b[38;5;129;01mor\u001b[39;00m \u001b[38;5;28mtype\u001b[39m(solution[\u001b[38;5;241m0\u001b[39m]) \u001b[38;5;129;01mis\u001b[39;00m \u001b[38;5;28mdict\u001b[39m, solution\n",
      "File \u001b[1;32mc:\\Users\\ufo001jone\\AppData\\Local\\Programs\\Python\\Python312\\Lib\\site-packages\\sympy\\solvers\\solvers.py:1970\u001b[0m, in \u001b[0;36m_solve_system\u001b[1;34m(exprs, symbols, **flags)\u001b[0m\n\u001b[0;32m   1968\u001b[0m \u001b[38;5;28;01mfor\u001b[39;00m s \u001b[38;5;129;01min\u001b[39;00m ok_syms:\n\u001b[0;32m   1969\u001b[0m     \u001b[38;5;28;01mtry\u001b[39;00m:\n\u001b[1;32m-> 1970\u001b[0m         soln \u001b[38;5;241m=\u001b[39m \u001b[43m_vsolve\u001b[49m\u001b[43m(\u001b[49m\u001b[43meq2\u001b[49m\u001b[43m,\u001b[49m\u001b[43m \u001b[49m\u001b[43ms\u001b[49m\u001b[43m,\u001b[49m\u001b[43m \u001b[49m\u001b[38;5;241;43m*\u001b[39;49m\u001b[38;5;241;43m*\u001b[39;49m\u001b[43mflags\u001b[49m\u001b[43m)\u001b[49m\n\u001b[0;32m   1971\u001b[0m     \u001b[38;5;28;01mexcept\u001b[39;00m \u001b[38;5;167;01mNotImplementedError\u001b[39;00m:\n\u001b[0;32m   1972\u001b[0m         \u001b[38;5;28;01mcontinue\u001b[39;00m\n",
      "File \u001b[1;32mc:\\Users\\ufo001jone\\AppData\\Local\\Programs\\Python\\Python312\\Lib\\site-packages\\sympy\\solvers\\solvers.py:2642\u001b[0m, in \u001b[0;36m_vsolve\u001b[1;34m(e, s, **flags)\u001b[0m\n\u001b[0;32m   2640\u001b[0m \u001b[38;5;28;01mdef\u001b[39;00m \u001b[38;5;21m_vsolve\u001b[39m(e, s, \u001b[38;5;241m*\u001b[39m\u001b[38;5;241m*\u001b[39mflags):\n\u001b[0;32m   2641\u001b[0m \u001b[38;5;250m    \u001b[39m\u001b[38;5;124;03m\"\"\"return list of scalar values for the solution of e for symbol s\"\"\"\u001b[39;00m\n\u001b[1;32m-> 2642\u001b[0m     \u001b[38;5;28;01mreturn\u001b[39;00m [i[s] \u001b[38;5;28;01mfor\u001b[39;00m i \u001b[38;5;129;01min\u001b[39;00m \u001b[43m_solve\u001b[49m\u001b[43m(\u001b[49m\u001b[43me\u001b[49m\u001b[43m,\u001b[49m\u001b[43m \u001b[49m\u001b[43ms\u001b[49m\u001b[43m,\u001b[49m\u001b[43m \u001b[49m\u001b[38;5;241;43m*\u001b[39;49m\u001b[38;5;241;43m*\u001b[39;49m\u001b[43mflags\u001b[49m\u001b[43m)\u001b[49m]\n",
      "File \u001b[1;32mc:\\Users\\ufo001jone\\AppData\\Local\\Programs\\Python\\Python312\\Lib\\site-packages\\sympy\\solvers\\solvers.py:1571\u001b[0m, in \u001b[0;36m_solve\u001b[1;34m(f, *symbols, **flags)\u001b[0m\n\u001b[0;32m   1567\u001b[0m     \u001b[38;5;28;01mif\u001b[39;00m newf \u001b[38;5;241m!=\u001b[39m f_num:\n\u001b[0;32m   1568\u001b[0m         \u001b[38;5;66;03m# don't check the rewritten form --check\u001b[39;00m\n\u001b[0;32m   1569\u001b[0m         \u001b[38;5;66;03m# solutions in the un-rewritten form below\u001b[39;00m\n\u001b[0;32m   1570\u001b[0m         flags[\u001b[38;5;124m'\u001b[39m\u001b[38;5;124mcheck\u001b[39m\u001b[38;5;124m'\u001b[39m] \u001b[38;5;241m=\u001b[39m \u001b[38;5;28;01mFalse\u001b[39;00m\n\u001b[1;32m-> 1571\u001b[0m         result \u001b[38;5;241m=\u001b[39m \u001b[43m_solve\u001b[49m\u001b[43m(\u001b[49m\u001b[43mnewf\u001b[49m\u001b[43m,\u001b[49m\u001b[43m \u001b[49m\u001b[43msymbol\u001b[49m\u001b[43m,\u001b[49m\u001b[43m \u001b[49m\u001b[38;5;241;43m*\u001b[39;49m\u001b[38;5;241;43m*\u001b[39;49m\u001b[43mflags\u001b[49m\u001b[43m)\u001b[49m\n\u001b[0;32m   1572\u001b[0m         flags[\u001b[38;5;124m'\u001b[39m\u001b[38;5;124mcheck\u001b[39m\u001b[38;5;124m'\u001b[39m] \u001b[38;5;241m=\u001b[39m check\n\u001b[0;32m   1574\u001b[0m \u001b[38;5;66;03m# just a simple case - see if replacement of single function\u001b[39;00m\n\u001b[0;32m   1575\u001b[0m \u001b[38;5;66;03m# clears all symbol-dependent functions, e.g.\u001b[39;00m\n\u001b[0;32m   1576\u001b[0m \u001b[38;5;66;03m# log(x) - log(log(x) - 1) - 3 can be solved even though it has\u001b[39;00m\n\u001b[0;32m   1577\u001b[0m \u001b[38;5;66;03m# two generators.\u001b[39;00m\n",
      "File \u001b[1;32mc:\\Users\\ufo001jone\\AppData\\Local\\Programs\\Python\\Python312\\Lib\\site-packages\\sympy\\solvers\\solvers.py:1721\u001b[0m, in \u001b[0;36m_solve\u001b[1;34m(f, *symbols, **flags)\u001b[0m\n\u001b[0;32m   1719\u001b[0m flags\u001b[38;5;241m.\u001b[39mpop(\u001b[38;5;124m'\u001b[39m\u001b[38;5;124mtsolve\u001b[39m\u001b[38;5;124m'\u001b[39m, \u001b[38;5;28;01mNone\u001b[39;00m)  \u001b[38;5;66;03m# allow tsolve to be used on next pass\u001b[39;00m\n\u001b[0;32m   1720\u001b[0m \u001b[38;5;28;01mtry\u001b[39;00m:\n\u001b[1;32m-> 1721\u001b[0m     soln \u001b[38;5;241m=\u001b[39m \u001b[43m_tsolve\u001b[49m\u001b[43m(\u001b[49m\u001b[43mf_num\u001b[49m\u001b[43m,\u001b[49m\u001b[43m \u001b[49m\u001b[43msymbol\u001b[49m\u001b[43m,\u001b[49m\u001b[43m \u001b[49m\u001b[38;5;241;43m*\u001b[39;49m\u001b[38;5;241;43m*\u001b[39;49m\u001b[43mflags\u001b[49m\u001b[43m)\u001b[49m\n\u001b[0;32m   1722\u001b[0m     \u001b[38;5;28;01mif\u001b[39;00m soln \u001b[38;5;129;01mis\u001b[39;00m \u001b[38;5;129;01mnot\u001b[39;00m \u001b[38;5;28;01mNone\u001b[39;00m:\n\u001b[0;32m   1723\u001b[0m         result \u001b[38;5;241m=\u001b[39m [{symbol: v} \u001b[38;5;28;01mfor\u001b[39;00m v \u001b[38;5;129;01min\u001b[39;00m soln]\n",
      "File \u001b[1;32mc:\\Users\\ufo001jone\\AppData\\Local\\Programs\\Python\\Python312\\Lib\\site-packages\\sympy\\solvers\\solvers.py:2811\u001b[0m, in \u001b[0;36m_tsolve\u001b[1;34m(eq, sym, **flags)\u001b[0m\n\u001b[0;32m   2809\u001b[0m     rewrite \u001b[38;5;241m=\u001b[39m rebuild(rewrite) \u001b[38;5;66;03m# avoid rewrites involving evaluate=False\u001b[39;00m\n\u001b[0;32m   2810\u001b[0m     \u001b[38;5;28;01mif\u001b[39;00m rewrite \u001b[38;5;241m!=\u001b[39m lhs:\n\u001b[1;32m-> 2811\u001b[0m         \u001b[38;5;28;01mreturn\u001b[39;00m \u001b[43m_vsolve\u001b[49m\u001b[43m(\u001b[49m\u001b[43mrewrite\u001b[49m\u001b[43m \u001b[49m\u001b[38;5;241;43m-\u001b[39;49m\u001b[43m \u001b[49m\u001b[43mrhs\u001b[49m\u001b[43m,\u001b[49m\u001b[43m \u001b[49m\u001b[43msym\u001b[49m\u001b[43m,\u001b[49m\u001b[43m \u001b[49m\u001b[38;5;241;43m*\u001b[39;49m\u001b[38;5;241;43m*\u001b[39;49m\u001b[43mflags\u001b[49m\u001b[43m)\u001b[49m\n\u001b[0;32m   2812\u001b[0m \u001b[38;5;28;01mexcept\u001b[39;00m \u001b[38;5;167;01mNotImplementedError\u001b[39;00m:\n\u001b[0;32m   2813\u001b[0m     \u001b[38;5;28;01mpass\u001b[39;00m\n",
      "File \u001b[1;32mc:\\Users\\ufo001jone\\AppData\\Local\\Programs\\Python\\Python312\\Lib\\site-packages\\sympy\\solvers\\solvers.py:2642\u001b[0m, in \u001b[0;36m_vsolve\u001b[1;34m(e, s, **flags)\u001b[0m\n\u001b[0;32m   2640\u001b[0m \u001b[38;5;28;01mdef\u001b[39;00m \u001b[38;5;21m_vsolve\u001b[39m(e, s, \u001b[38;5;241m*\u001b[39m\u001b[38;5;241m*\u001b[39mflags):\n\u001b[0;32m   2641\u001b[0m \u001b[38;5;250m    \u001b[39m\u001b[38;5;124;03m\"\"\"return list of scalar values for the solution of e for symbol s\"\"\"\u001b[39;00m\n\u001b[1;32m-> 2642\u001b[0m     \u001b[38;5;28;01mreturn\u001b[39;00m [i[s] \u001b[38;5;28;01mfor\u001b[39;00m i \u001b[38;5;129;01min\u001b[39;00m \u001b[43m_solve\u001b[49m\u001b[43m(\u001b[49m\u001b[43me\u001b[49m\u001b[43m,\u001b[49m\u001b[43m \u001b[49m\u001b[43ms\u001b[49m\u001b[43m,\u001b[49m\u001b[43m \u001b[49m\u001b[38;5;241;43m*\u001b[39;49m\u001b[38;5;241;43m*\u001b[39;49m\u001b[43mflags\u001b[49m\u001b[43m)\u001b[49m]\n",
      "File \u001b[1;32mc:\\Users\\ufo001jone\\AppData\\Local\\Programs\\Python\\Python312\\Lib\\site-packages\\sympy\\solvers\\solvers.py:1640\u001b[0m, in \u001b[0;36m_solve\u001b[1;34m(f, *symbols, **flags)\u001b[0m\n\u001b[0;32m   1638\u001b[0m hints \u001b[38;5;241m=\u001b[39m (\u001b[38;5;124m'\u001b[39m\u001b[38;5;124mcubics\u001b[39m\u001b[38;5;124m'\u001b[39m, \u001b[38;5;124m'\u001b[39m\u001b[38;5;124mquartics\u001b[39m\u001b[38;5;124m'\u001b[39m, \u001b[38;5;124m'\u001b[39m\u001b[38;5;124mquintics\u001b[39m\u001b[38;5;124m'\u001b[39m)\n\u001b[0;32m   1639\u001b[0m solvers \u001b[38;5;241m=\u001b[39m {h: flags\u001b[38;5;241m.\u001b[39mget(h) \u001b[38;5;28;01mfor\u001b[39;00m h \u001b[38;5;129;01min\u001b[39;00m hints}\n\u001b[1;32m-> 1640\u001b[0m soln \u001b[38;5;241m=\u001b[39m \u001b[43mroots\u001b[49m\u001b[43m(\u001b[49m\u001b[43mpoly\u001b[49m\u001b[43m,\u001b[49m\u001b[43m \u001b[49m\u001b[38;5;241;43m*\u001b[39;49m\u001b[38;5;241;43m*\u001b[39;49m\u001b[43msolvers\u001b[49m\u001b[43m)\u001b[49m\n\u001b[0;32m   1641\u001b[0m \u001b[38;5;28;01mif\u001b[39;00m \u001b[38;5;28msum\u001b[39m(soln\u001b[38;5;241m.\u001b[39mvalues()) \u001b[38;5;241m<\u001b[39m deg:\n\u001b[0;32m   1642\u001b[0m     \u001b[38;5;66;03m# e.g. roots(32*x**5 + 400*x**4 + 2032*x**3 +\u001b[39;00m\n\u001b[0;32m   1643\u001b[0m     \u001b[38;5;66;03m#            5000*x**2 + 6250*x + 3189) -> {}\u001b[39;00m\n\u001b[0;32m   1644\u001b[0m     \u001b[38;5;66;03m# so all_roots is used and RootOf instances are\u001b[39;00m\n\u001b[0;32m   1645\u001b[0m     \u001b[38;5;66;03m# returned *unless* the system is multivariate\u001b[39;00m\n\u001b[0;32m   1646\u001b[0m     \u001b[38;5;66;03m# or high-order EX domain.\u001b[39;00m\n\u001b[0;32m   1647\u001b[0m     \u001b[38;5;28;01mtry\u001b[39;00m:\n",
      "File \u001b[1;32mc:\\Users\\ufo001jone\\AppData\\Local\\Programs\\Python\\Python312\\Lib\\site-packages\\sympy\\polys\\polyroots.py:1096\u001b[0m, in \u001b[0;36mroots\u001b[1;34m(f, auto, cubics, trig, quartics, quintics, multiple, filter, predicate, strict, *gens, **flags)\u001b[0m\n\u001b[0;32m   1094\u001b[0m         _update_dict(result, zeros, r, \u001b[38;5;241m1\u001b[39m)\n\u001b[0;32m   1095\u001b[0m \u001b[38;5;28;01melse\u001b[39;00m:\n\u001b[1;32m-> 1096\u001b[0m     _, factors \u001b[38;5;241m=\u001b[39m \u001b[43mPoly\u001b[49m\u001b[43m(\u001b[49m\u001b[43mf\u001b[49m\u001b[38;5;241;43m.\u001b[39;49m\u001b[43mas_expr\u001b[49m\u001b[43m(\u001b[49m\u001b[43m)\u001b[49m\u001b[43m)\u001b[49m\u001b[38;5;241;43m.\u001b[39;49m\u001b[43mfactor_list\u001b[49m\u001b[43m(\u001b[49m\u001b[43m)\u001b[49m\n\u001b[0;32m   1097\u001b[0m     \u001b[38;5;28;01mif\u001b[39;00m \u001b[38;5;28mlen\u001b[39m(factors) \u001b[38;5;241m==\u001b[39m \u001b[38;5;241m1\u001b[39m \u001b[38;5;129;01mand\u001b[39;00m f\u001b[38;5;241m.\u001b[39mdegree() \u001b[38;5;241m==\u001b[39m \u001b[38;5;241m2\u001b[39m:\n\u001b[0;32m   1098\u001b[0m         \u001b[38;5;28;01mfor\u001b[39;00m r \u001b[38;5;129;01min\u001b[39;00m roots_quadratic(f):\n",
      "File \u001b[1;32mc:\\Users\\ufo001jone\\AppData\\Local\\Programs\\Python\\Python312\\Lib\\site-packages\\sympy\\polys\\polytools.py:3378\u001b[0m, in \u001b[0;36mPoly.factor_list\u001b[1;34m(f)\u001b[0m\n\u001b[0;32m   3376\u001b[0m \u001b[38;5;28;01mif\u001b[39;00m \u001b[38;5;28mhasattr\u001b[39m(f\u001b[38;5;241m.\u001b[39mrep, \u001b[38;5;124m'\u001b[39m\u001b[38;5;124mfactor_list\u001b[39m\u001b[38;5;124m'\u001b[39m):\n\u001b[0;32m   3377\u001b[0m     \u001b[38;5;28;01mtry\u001b[39;00m:\n\u001b[1;32m-> 3378\u001b[0m         coeff, factors \u001b[38;5;241m=\u001b[39m \u001b[43mf\u001b[49m\u001b[38;5;241;43m.\u001b[39;49m\u001b[43mrep\u001b[49m\u001b[38;5;241;43m.\u001b[39;49m\u001b[43mfactor_list\u001b[49m\u001b[43m(\u001b[49m\u001b[43m)\u001b[49m\n\u001b[0;32m   3379\u001b[0m     \u001b[38;5;28;01mexcept\u001b[39;00m DomainError:\n\u001b[0;32m   3380\u001b[0m         \u001b[38;5;28;01mif\u001b[39;00m f\u001b[38;5;241m.\u001b[39mdegree() \u001b[38;5;241m==\u001b[39m \u001b[38;5;241m0\u001b[39m:\n",
      "File \u001b[1;32mc:\\Users\\ufo001jone\\AppData\\Local\\Programs\\Python\\Python312\\Lib\\site-packages\\sympy\\polys\\polyclasses.py:1637\u001b[0m, in \u001b[0;36mDMP_Python.factor_list\u001b[1;34m(f)\u001b[0m\n\u001b[0;32m   1635\u001b[0m \u001b[38;5;28;01mdef\u001b[39;00m \u001b[38;5;21mfactor_list\u001b[39m(f):\n\u001b[0;32m   1636\u001b[0m \u001b[38;5;250m    \u001b[39m\u001b[38;5;124;03m\"\"\"Returns a list of irreducible factors of ``f``. \"\"\"\u001b[39;00m\n\u001b[1;32m-> 1637\u001b[0m     coeff, factors \u001b[38;5;241m=\u001b[39m \u001b[43mdmp_factor_list\u001b[49m\u001b[43m(\u001b[49m\u001b[43mf\u001b[49m\u001b[38;5;241;43m.\u001b[39;49m\u001b[43m_rep\u001b[49m\u001b[43m,\u001b[49m\u001b[43m \u001b[49m\u001b[43mf\u001b[49m\u001b[38;5;241;43m.\u001b[39;49m\u001b[43mlev\u001b[49m\u001b[43m,\u001b[49m\u001b[43m \u001b[49m\u001b[43mf\u001b[49m\u001b[38;5;241;43m.\u001b[39;49m\u001b[43mdom\u001b[49m\u001b[43m)\u001b[49m\n\u001b[0;32m   1638\u001b[0m     \u001b[38;5;28;01mreturn\u001b[39;00m coeff, [ (f\u001b[38;5;241m.\u001b[39mper(g), k) \u001b[38;5;28;01mfor\u001b[39;00m g, k \u001b[38;5;129;01min\u001b[39;00m factors ]\n",
      "File \u001b[1;32mc:\\Users\\ufo001jone\\AppData\\Local\\Programs\\Python\\Python312\\Lib\\site-packages\\sympy\\polys\\factortools.py:1549\u001b[0m, in \u001b[0;36mdmp_factor_list\u001b[1;34m(f, u, K0)\u001b[0m\n\u001b[0;32m   1547\u001b[0m     coeff, factors \u001b[38;5;241m=\u001b[39m dmp_ext_factor(f, u, K0)\n\u001b[0;32m   1548\u001b[0m \u001b[38;5;28;01melif\u001b[39;00m K0\u001b[38;5;241m.\u001b[39mis_GaussianRing:\n\u001b[1;32m-> 1549\u001b[0m     coeff, factors \u001b[38;5;241m=\u001b[39m \u001b[43mdmp_zz_i_factor\u001b[49m\u001b[43m(\u001b[49m\u001b[43mf\u001b[49m\u001b[43m,\u001b[49m\u001b[43m \u001b[49m\u001b[43mu\u001b[49m\u001b[43m,\u001b[49m\u001b[43m \u001b[49m\u001b[43mK0\u001b[49m\u001b[43m)\u001b[49m\n\u001b[0;32m   1550\u001b[0m \u001b[38;5;28;01melif\u001b[39;00m K0\u001b[38;5;241m.\u001b[39mis_GaussianField:\n\u001b[0;32m   1551\u001b[0m     coeff, factors \u001b[38;5;241m=\u001b[39m dmp_qq_i_factor(f, u, K0)\n",
      "File \u001b[1;32mc:\\Users\\ufo001jone\\AppData\\Local\\Programs\\Python\\Python312\\Lib\\site-packages\\sympy\\polys\\factortools.py:1249\u001b[0m, in \u001b[0;36mdmp_zz_i_factor\u001b[1;34m(f, u, K0)\u001b[0m\n\u001b[0;32m   1247\u001b[0m K1 \u001b[38;5;241m=\u001b[39m K0\u001b[38;5;241m.\u001b[39mget_field()\n\u001b[0;32m   1248\u001b[0m f \u001b[38;5;241m=\u001b[39m dmp_convert(f, u, K0, K1)\n\u001b[1;32m-> 1249\u001b[0m coeff, factors \u001b[38;5;241m=\u001b[39m \u001b[43mdmp_qq_i_factor\u001b[49m\u001b[43m(\u001b[49m\u001b[43mf\u001b[49m\u001b[43m,\u001b[49m\u001b[43m \u001b[49m\u001b[43mu\u001b[49m\u001b[43m,\u001b[49m\u001b[43m \u001b[49m\u001b[43mK1\u001b[49m\u001b[43m)\u001b[49m\n\u001b[0;32m   1251\u001b[0m new_factors \u001b[38;5;241m=\u001b[39m []\n\u001b[0;32m   1252\u001b[0m \u001b[38;5;28;01mfor\u001b[39;00m fac, i \u001b[38;5;129;01min\u001b[39;00m factors:\n\u001b[0;32m   1253\u001b[0m     \u001b[38;5;66;03m# Extract content\u001b[39;00m\n",
      "File \u001b[1;32mc:\\Users\\ufo001jone\\AppData\\Local\\Programs\\Python\\Python312\\Lib\\site-packages\\sympy\\polys\\factortools.py:1238\u001b[0m, in \u001b[0;36mdmp_qq_i_factor\u001b[1;34m(f, u, K0)\u001b[0m\n\u001b[0;32m   1236\u001b[0m K1 \u001b[38;5;241m=\u001b[39m K0\u001b[38;5;241m.\u001b[39mas_AlgebraicField()\n\u001b[0;32m   1237\u001b[0m f \u001b[38;5;241m=\u001b[39m dmp_convert(f, u, K0, K1)\n\u001b[1;32m-> 1238\u001b[0m coeff, factors \u001b[38;5;241m=\u001b[39m \u001b[43mdmp_factor_list\u001b[49m\u001b[43m(\u001b[49m\u001b[43mf\u001b[49m\u001b[43m,\u001b[49m\u001b[43m \u001b[49m\u001b[43mu\u001b[49m\u001b[43m,\u001b[49m\u001b[43m \u001b[49m\u001b[43mK1\u001b[49m\u001b[43m)\u001b[49m\n\u001b[0;32m   1239\u001b[0m factors \u001b[38;5;241m=\u001b[39m [(dmp_convert(fac, u, K1, K0), i) \u001b[38;5;28;01mfor\u001b[39;00m fac, i \u001b[38;5;129;01min\u001b[39;00m factors]\n\u001b[0;32m   1240\u001b[0m coeff \u001b[38;5;241m=\u001b[39m K0\u001b[38;5;241m.\u001b[39mconvert(coeff, K1)\n",
      "File \u001b[1;32mc:\\Users\\ufo001jone\\AppData\\Local\\Programs\\Python\\Python312\\Lib\\site-packages\\sympy\\polys\\factortools.py:1547\u001b[0m, in \u001b[0;36mdmp_factor_list\u001b[1;34m(f, u, K0)\u001b[0m\n\u001b[0;32m   1545\u001b[0m     coeff, factors \u001b[38;5;241m=\u001b[39m dmp_gf_factor(f, u, K0)\n\u001b[0;32m   1546\u001b[0m \u001b[38;5;28;01melif\u001b[39;00m K0\u001b[38;5;241m.\u001b[39mis_Algebraic:\n\u001b[1;32m-> 1547\u001b[0m     coeff, factors \u001b[38;5;241m=\u001b[39m \u001b[43mdmp_ext_factor\u001b[49m\u001b[43m(\u001b[49m\u001b[43mf\u001b[49m\u001b[43m,\u001b[49m\u001b[43m \u001b[49m\u001b[43mu\u001b[49m\u001b[43m,\u001b[49m\u001b[43m \u001b[49m\u001b[43mK0\u001b[49m\u001b[43m)\u001b[49m\n\u001b[0;32m   1548\u001b[0m \u001b[38;5;28;01melif\u001b[39;00m K0\u001b[38;5;241m.\u001b[39mis_GaussianRing:\n\u001b[0;32m   1549\u001b[0m     coeff, factors \u001b[38;5;241m=\u001b[39m dmp_zz_i_factor(f, u, K0)\n",
      "File \u001b[1;32mc:\\Users\\ufo001jone\\AppData\\Local\\Programs\\Python\\Python312\\Lib\\site-packages\\sympy\\polys\\factortools.py:1430\u001b[0m, in \u001b[0;36mdmp_ext_factor\u001b[1;34m(f, u, K)\u001b[0m\n\u001b[0;32m   1428\u001b[0m \u001b[38;5;28;01mfor\u001b[39;00m i, (factor, _) \u001b[38;5;129;01min\u001b[39;00m \u001b[38;5;28menumerate\u001b[39m(factors):\n\u001b[0;32m   1429\u001b[0m     h \u001b[38;5;241m=\u001b[39m dmp_convert(factor, u, K\u001b[38;5;241m.\u001b[39mdom, K)\n\u001b[1;32m-> 1430\u001b[0m     h, _, g \u001b[38;5;241m=\u001b[39m \u001b[43mdmp_inner_gcd\u001b[49m\u001b[43m(\u001b[49m\u001b[43mh\u001b[49m\u001b[43m,\u001b[49m\u001b[43m \u001b[49m\u001b[43mg\u001b[49m\u001b[43m,\u001b[49m\u001b[43m \u001b[49m\u001b[43mu\u001b[49m\u001b[43m,\u001b[49m\u001b[43m \u001b[49m\u001b[43mK\u001b[49m\u001b[43m)\u001b[49m\n\u001b[0;32m   1431\u001b[0m     a \u001b[38;5;241m=\u001b[39m [si\u001b[38;5;241m*\u001b[39mK\u001b[38;5;241m.\u001b[39munit \u001b[38;5;28;01mfor\u001b[39;00m si \u001b[38;5;129;01min\u001b[39;00m s]\n\u001b[0;32m   1432\u001b[0m     h \u001b[38;5;241m=\u001b[39m dmp_shift(h, a, u, K)\n",
      "File \u001b[1;32mc:\\Users\\ufo001jone\\AppData\\Local\\Programs\\Python\\Python312\\Lib\\site-packages\\sympy\\polys\\euclidtools.py:1598\u001b[0m, in \u001b[0;36mdmp_inner_gcd\u001b[1;34m(f, g, u, K)\u001b[0m\n\u001b[0;32m   1595\u001b[0m     \u001b[38;5;28;01mreturn\u001b[39;00m dup_inner_gcd(f, g, K)\n\u001b[0;32m   1597\u001b[0m J, (f, g) \u001b[38;5;241m=\u001b[39m dmp_multi_deflate((f, g), u, K)\n\u001b[1;32m-> 1598\u001b[0m h, cff, cfg \u001b[38;5;241m=\u001b[39m \u001b[43m_dmp_inner_gcd\u001b[49m\u001b[43m(\u001b[49m\u001b[43mf\u001b[49m\u001b[43m,\u001b[49m\u001b[43m \u001b[49m\u001b[43mg\u001b[49m\u001b[43m,\u001b[49m\u001b[43m \u001b[49m\u001b[43mu\u001b[49m\u001b[43m,\u001b[49m\u001b[43m \u001b[49m\u001b[43mK\u001b[49m\u001b[43m)\u001b[49m\n\u001b[0;32m   1600\u001b[0m \u001b[38;5;28;01mreturn\u001b[39;00m (dmp_inflate(h, J, u, K),\n\u001b[0;32m   1601\u001b[0m         dmp_inflate(cff, J, u, K),\n\u001b[0;32m   1602\u001b[0m         dmp_inflate(cfg, J, u, K))\n",
      "File \u001b[1;32mc:\\Users\\ufo001jone\\AppData\\Local\\Programs\\Python\\Python312\\Lib\\site-packages\\sympy\\polys\\euclidtools.py:1563\u001b[0m, in \u001b[0;36m_dmp_inner_gcd\u001b[1;34m(f, g, u, K)\u001b[0m\n\u001b[0;32m   1560\u001b[0m         \u001b[38;5;28;01mexcept\u001b[39;00m HeuristicGCDFailed:\n\u001b[0;32m   1561\u001b[0m             \u001b[38;5;28;01mpass\u001b[39;00m\n\u001b[1;32m-> 1563\u001b[0m     \u001b[38;5;28;01mreturn\u001b[39;00m \u001b[43mdmp_ff_prs_gcd\u001b[49m\u001b[43m(\u001b[49m\u001b[43mf\u001b[49m\u001b[43m,\u001b[49m\u001b[43m \u001b[49m\u001b[43mg\u001b[49m\u001b[43m,\u001b[49m\u001b[43m \u001b[49m\u001b[43mu\u001b[49m\u001b[43m,\u001b[49m\u001b[43m \u001b[49m\u001b[43mK\u001b[49m\u001b[43m)\u001b[49m\n\u001b[0;32m   1564\u001b[0m \u001b[38;5;28;01melse\u001b[39;00m:\n\u001b[0;32m   1565\u001b[0m     \u001b[38;5;28;01mif\u001b[39;00m K\u001b[38;5;241m.\u001b[39mis_ZZ \u001b[38;5;129;01mand\u001b[39;00m query(\u001b[38;5;124m'\u001b[39m\u001b[38;5;124mUSE_HEU_GCD\u001b[39m\u001b[38;5;124m'\u001b[39m):\n",
      "File \u001b[1;32mc:\\Users\\ufo001jone\\AppData\\Local\\Programs\\Python\\Python312\\Lib\\site-packages\\sympy\\polys\\euclidtools.py:1108\u001b[0m, in \u001b[0;36mdmp_ff_prs_gcd\u001b[1;34m(f, g, u, K)\u001b[0m\n\u001b[0;32m   1105\u001b[0m \u001b[38;5;28;01mif\u001b[39;00m \u001b[38;5;129;01mnot\u001b[39;00m u:\n\u001b[0;32m   1106\u001b[0m     \u001b[38;5;28;01mreturn\u001b[39;00m dup_ff_prs_gcd(f, g, K)\n\u001b[1;32m-> 1108\u001b[0m result \u001b[38;5;241m=\u001b[39m \u001b[43m_dmp_ff_trivial_gcd\u001b[49m\u001b[43m(\u001b[49m\u001b[43mf\u001b[49m\u001b[43m,\u001b[49m\u001b[43m \u001b[49m\u001b[43mg\u001b[49m\u001b[43m,\u001b[49m\u001b[43m \u001b[49m\u001b[43mu\u001b[49m\u001b[43m,\u001b[49m\u001b[43m \u001b[49m\u001b[43mK\u001b[49m\u001b[43m)\u001b[49m\n\u001b[0;32m   1110\u001b[0m \u001b[38;5;28;01mif\u001b[39;00m result \u001b[38;5;129;01mis\u001b[39;00m \u001b[38;5;129;01mnot\u001b[39;00m \u001b[38;5;28;01mNone\u001b[39;00m:\n\u001b[0;32m   1111\u001b[0m     \u001b[38;5;28;01mreturn\u001b[39;00m result\n",
      "File \u001b[1;32mc:\\Users\\ufo001jone\\AppData\\Local\\Programs\\Python\\Python312\\Lib\\site-packages\\sympy\\polys\\euclidtools.py:933\u001b[0m, in \u001b[0;36m_dmp_ff_trivial_gcd\u001b[1;34m(f, g, u, K)\u001b[0m\n\u001b[0;32m    929\u001b[0m     \u001b[38;5;28;01mreturn\u001b[39;00m (dmp_ground_monic(f, u, K),\n\u001b[0;32m    930\u001b[0m             dmp_ground(dmp_ground_LC(f, u, K), u),\n\u001b[0;32m    931\u001b[0m             dmp_zero(u))\n\u001b[0;32m    932\u001b[0m \u001b[38;5;28;01melif\u001b[39;00m query(\u001b[38;5;124m'\u001b[39m\u001b[38;5;124mUSE_SIMPLIFY_GCD\u001b[39m\u001b[38;5;124m'\u001b[39m):\n\u001b[1;32m--> 933\u001b[0m     \u001b[38;5;28;01mreturn\u001b[39;00m \u001b[43m_dmp_simplify_gcd\u001b[49m\u001b[43m(\u001b[49m\u001b[43mf\u001b[49m\u001b[43m,\u001b[49m\u001b[43m \u001b[49m\u001b[43mg\u001b[49m\u001b[43m,\u001b[49m\u001b[43m \u001b[49m\u001b[43mu\u001b[49m\u001b[43m,\u001b[49m\u001b[43m \u001b[49m\u001b[43mK\u001b[49m\u001b[43m)\u001b[49m\n\u001b[0;32m    934\u001b[0m \u001b[38;5;28;01melse\u001b[39;00m:\n\u001b[0;32m    935\u001b[0m     \u001b[38;5;28;01mreturn\u001b[39;00m \u001b[38;5;28;01mNone\u001b[39;00m\n",
      "File \u001b[1;32mc:\\Users\\ufo001jone\\AppData\\Local\\Programs\\Python\\Python312\\Lib\\site-packages\\sympy\\polys\\euclidtools.py:952\u001b[0m, in \u001b[0;36m_dmp_simplify_gcd\u001b[1;34m(f, g, u, K)\u001b[0m\n\u001b[0;32m    950\u001b[0m \u001b[38;5;28;01mif\u001b[39;00m \u001b[38;5;129;01mnot\u001b[39;00m df:\n\u001b[0;32m    951\u001b[0m     F \u001b[38;5;241m=\u001b[39m dmp_LC(f, K)\n\u001b[1;32m--> 952\u001b[0m     G \u001b[38;5;241m=\u001b[39m \u001b[43mdmp_content\u001b[49m\u001b[43m(\u001b[49m\u001b[43mg\u001b[49m\u001b[43m,\u001b[49m\u001b[43m \u001b[49m\u001b[43mu\u001b[49m\u001b[43m,\u001b[49m\u001b[43m \u001b[49m\u001b[43mK\u001b[49m\u001b[43m)\u001b[49m\n\u001b[0;32m    953\u001b[0m \u001b[38;5;28;01melse\u001b[39;00m:\n\u001b[0;32m    954\u001b[0m     F \u001b[38;5;241m=\u001b[39m dmp_content(f, u, K)\n",
      "File \u001b[1;32mc:\\Users\\ufo001jone\\AppData\\Local\\Programs\\Python\\Python312\\Lib\\site-packages\\sympy\\polys\\euclidtools.py:1812\u001b[0m, in \u001b[0;36mdmp_content\u001b[1;34m(f, u, K)\u001b[0m\n\u001b[0;32m   1809\u001b[0m     \u001b[38;5;28;01mreturn\u001b[39;00m cont\n\u001b[0;32m   1811\u001b[0m \u001b[38;5;28;01mfor\u001b[39;00m c \u001b[38;5;129;01min\u001b[39;00m f[\u001b[38;5;241m1\u001b[39m:]:\n\u001b[1;32m-> 1812\u001b[0m     cont \u001b[38;5;241m=\u001b[39m \u001b[43mdmp_gcd\u001b[49m\u001b[43m(\u001b[49m\u001b[43mcont\u001b[49m\u001b[43m,\u001b[49m\u001b[43m \u001b[49m\u001b[43mc\u001b[49m\u001b[43m,\u001b[49m\u001b[43m \u001b[49m\u001b[43mv\u001b[49m\u001b[43m,\u001b[49m\u001b[43m \u001b[49m\u001b[43mK\u001b[49m\u001b[43m)\u001b[49m\n\u001b[0;32m   1814\u001b[0m     \u001b[38;5;28;01mif\u001b[39;00m dmp_one_p(cont, v, K):\n\u001b[0;32m   1815\u001b[0m         \u001b[38;5;28;01mbreak\u001b[39;00m\n",
      "File \u001b[1;32mc:\\Users\\ufo001jone\\AppData\\Local\\Programs\\Python\\Python312\\Lib\\site-packages\\sympy\\polys\\euclidtools.py:1639\u001b[0m, in \u001b[0;36mdmp_gcd\u001b[1;34m(f, g, u, K)\u001b[0m\n\u001b[0;32m   1622\u001b[0m \u001b[38;5;28;01mdef\u001b[39;00m \u001b[38;5;21mdmp_gcd\u001b[39m(f, g, u, K):\n\u001b[0;32m   1623\u001b[0m \u001b[38;5;250m    \u001b[39m\u001b[38;5;124;03m\"\"\"\u001b[39;00m\n\u001b[0;32m   1624\u001b[0m \u001b[38;5;124;03m    Computes polynomial GCD of `f` and `g` in `K[X]`.\u001b[39;00m\n\u001b[0;32m   1625\u001b[0m \n\u001b[1;32m   (...)\u001b[0m\n\u001b[0;32m   1637\u001b[0m \n\u001b[0;32m   1638\u001b[0m \u001b[38;5;124;03m    \"\"\"\u001b[39;00m\n\u001b[1;32m-> 1639\u001b[0m     \u001b[38;5;28;01mreturn\u001b[39;00m \u001b[43mdmp_inner_gcd\u001b[49m\u001b[43m(\u001b[49m\u001b[43mf\u001b[49m\u001b[43m,\u001b[49m\u001b[43m \u001b[49m\u001b[43mg\u001b[49m\u001b[43m,\u001b[49m\u001b[43m \u001b[49m\u001b[43mu\u001b[49m\u001b[43m,\u001b[49m\u001b[43m \u001b[49m\u001b[43mK\u001b[49m\u001b[43m)\u001b[49m[\u001b[38;5;241m0\u001b[39m]\n",
      "File \u001b[1;32mc:\\Users\\ufo001jone\\AppData\\Local\\Programs\\Python\\Python312\\Lib\\site-packages\\sympy\\polys\\euclidtools.py:1598\u001b[0m, in \u001b[0;36mdmp_inner_gcd\u001b[1;34m(f, g, u, K)\u001b[0m\n\u001b[0;32m   1595\u001b[0m     \u001b[38;5;28;01mreturn\u001b[39;00m dup_inner_gcd(f, g, K)\n\u001b[0;32m   1597\u001b[0m J, (f, g) \u001b[38;5;241m=\u001b[39m dmp_multi_deflate((f, g), u, K)\n\u001b[1;32m-> 1598\u001b[0m h, cff, cfg \u001b[38;5;241m=\u001b[39m \u001b[43m_dmp_inner_gcd\u001b[49m\u001b[43m(\u001b[49m\u001b[43mf\u001b[49m\u001b[43m,\u001b[49m\u001b[43m \u001b[49m\u001b[43mg\u001b[49m\u001b[43m,\u001b[49m\u001b[43m \u001b[49m\u001b[43mu\u001b[49m\u001b[43m,\u001b[49m\u001b[43m \u001b[49m\u001b[43mK\u001b[49m\u001b[43m)\u001b[49m\n\u001b[0;32m   1600\u001b[0m \u001b[38;5;28;01mreturn\u001b[39;00m (dmp_inflate(h, J, u, K),\n\u001b[0;32m   1601\u001b[0m         dmp_inflate(cff, J, u, K),\n\u001b[0;32m   1602\u001b[0m         dmp_inflate(cfg, J, u, K))\n",
      "File \u001b[1;32mc:\\Users\\ufo001jone\\AppData\\Local\\Programs\\Python\\Python312\\Lib\\site-packages\\sympy\\polys\\euclidtools.py:1563\u001b[0m, in \u001b[0;36m_dmp_inner_gcd\u001b[1;34m(f, g, u, K)\u001b[0m\n\u001b[0;32m   1560\u001b[0m         \u001b[38;5;28;01mexcept\u001b[39;00m HeuristicGCDFailed:\n\u001b[0;32m   1561\u001b[0m             \u001b[38;5;28;01mpass\u001b[39;00m\n\u001b[1;32m-> 1563\u001b[0m     \u001b[38;5;28;01mreturn\u001b[39;00m \u001b[43mdmp_ff_prs_gcd\u001b[49m\u001b[43m(\u001b[49m\u001b[43mf\u001b[49m\u001b[43m,\u001b[49m\u001b[43m \u001b[49m\u001b[43mg\u001b[49m\u001b[43m,\u001b[49m\u001b[43m \u001b[49m\u001b[43mu\u001b[49m\u001b[43m,\u001b[49m\u001b[43m \u001b[49m\u001b[43mK\u001b[49m\u001b[43m)\u001b[49m\n\u001b[0;32m   1564\u001b[0m \u001b[38;5;28;01melse\u001b[39;00m:\n\u001b[0;32m   1565\u001b[0m     \u001b[38;5;28;01mif\u001b[39;00m K\u001b[38;5;241m.\u001b[39mis_ZZ \u001b[38;5;129;01mand\u001b[39;00m query(\u001b[38;5;124m'\u001b[39m\u001b[38;5;124mUSE_HEU_GCD\u001b[39m\u001b[38;5;124m'\u001b[39m):\n",
      "File \u001b[1;32mc:\\Users\\ufo001jone\\AppData\\Local\\Programs\\Python\\Python312\\Lib\\site-packages\\sympy\\polys\\euclidtools.py:1108\u001b[0m, in \u001b[0;36mdmp_ff_prs_gcd\u001b[1;34m(f, g, u, K)\u001b[0m\n\u001b[0;32m   1105\u001b[0m \u001b[38;5;28;01mif\u001b[39;00m \u001b[38;5;129;01mnot\u001b[39;00m u:\n\u001b[0;32m   1106\u001b[0m     \u001b[38;5;28;01mreturn\u001b[39;00m dup_ff_prs_gcd(f, g, K)\n\u001b[1;32m-> 1108\u001b[0m result \u001b[38;5;241m=\u001b[39m \u001b[43m_dmp_ff_trivial_gcd\u001b[49m\u001b[43m(\u001b[49m\u001b[43mf\u001b[49m\u001b[43m,\u001b[49m\u001b[43m \u001b[49m\u001b[43mg\u001b[49m\u001b[43m,\u001b[49m\u001b[43m \u001b[49m\u001b[43mu\u001b[49m\u001b[43m,\u001b[49m\u001b[43m \u001b[49m\u001b[43mK\u001b[49m\u001b[43m)\u001b[49m\n\u001b[0;32m   1110\u001b[0m \u001b[38;5;28;01mif\u001b[39;00m result \u001b[38;5;129;01mis\u001b[39;00m \u001b[38;5;129;01mnot\u001b[39;00m \u001b[38;5;28;01mNone\u001b[39;00m:\n\u001b[0;32m   1111\u001b[0m     \u001b[38;5;28;01mreturn\u001b[39;00m result\n",
      "File \u001b[1;32mc:\\Users\\ufo001jone\\AppData\\Local\\Programs\\Python\\Python312\\Lib\\site-packages\\sympy\\polys\\euclidtools.py:933\u001b[0m, in \u001b[0;36m_dmp_ff_trivial_gcd\u001b[1;34m(f, g, u, K)\u001b[0m\n\u001b[0;32m    929\u001b[0m     \u001b[38;5;28;01mreturn\u001b[39;00m (dmp_ground_monic(f, u, K),\n\u001b[0;32m    930\u001b[0m             dmp_ground(dmp_ground_LC(f, u, K), u),\n\u001b[0;32m    931\u001b[0m             dmp_zero(u))\n\u001b[0;32m    932\u001b[0m \u001b[38;5;28;01melif\u001b[39;00m query(\u001b[38;5;124m'\u001b[39m\u001b[38;5;124mUSE_SIMPLIFY_GCD\u001b[39m\u001b[38;5;124m'\u001b[39m):\n\u001b[1;32m--> 933\u001b[0m     \u001b[38;5;28;01mreturn\u001b[39;00m \u001b[43m_dmp_simplify_gcd\u001b[49m\u001b[43m(\u001b[49m\u001b[43mf\u001b[49m\u001b[43m,\u001b[49m\u001b[43m \u001b[49m\u001b[43mg\u001b[49m\u001b[43m,\u001b[49m\u001b[43m \u001b[49m\u001b[43mu\u001b[49m\u001b[43m,\u001b[49m\u001b[43m \u001b[49m\u001b[43mK\u001b[49m\u001b[43m)\u001b[49m\n\u001b[0;32m    934\u001b[0m \u001b[38;5;28;01melse\u001b[39;00m:\n\u001b[0;32m    935\u001b[0m     \u001b[38;5;28;01mreturn\u001b[39;00m \u001b[38;5;28;01mNone\u001b[39;00m\n",
      "File \u001b[1;32mc:\\Users\\ufo001jone\\AppData\\Local\\Programs\\Python\\Python312\\Lib\\site-packages\\sympy\\polys\\euclidtools.py:952\u001b[0m, in \u001b[0;36m_dmp_simplify_gcd\u001b[1;34m(f, g, u, K)\u001b[0m\n\u001b[0;32m    950\u001b[0m \u001b[38;5;28;01mif\u001b[39;00m \u001b[38;5;129;01mnot\u001b[39;00m df:\n\u001b[0;32m    951\u001b[0m     F \u001b[38;5;241m=\u001b[39m dmp_LC(f, K)\n\u001b[1;32m--> 952\u001b[0m     G \u001b[38;5;241m=\u001b[39m \u001b[43mdmp_content\u001b[49m\u001b[43m(\u001b[49m\u001b[43mg\u001b[49m\u001b[43m,\u001b[49m\u001b[43m \u001b[49m\u001b[43mu\u001b[49m\u001b[43m,\u001b[49m\u001b[43m \u001b[49m\u001b[43mK\u001b[49m\u001b[43m)\u001b[49m\n\u001b[0;32m    953\u001b[0m \u001b[38;5;28;01melse\u001b[39;00m:\n\u001b[0;32m    954\u001b[0m     F \u001b[38;5;241m=\u001b[39m dmp_content(f, u, K)\n",
      "File \u001b[1;32mc:\\Users\\ufo001jone\\AppData\\Local\\Programs\\Python\\Python312\\Lib\\site-packages\\sympy\\polys\\euclidtools.py:1812\u001b[0m, in \u001b[0;36mdmp_content\u001b[1;34m(f, u, K)\u001b[0m\n\u001b[0;32m   1809\u001b[0m     \u001b[38;5;28;01mreturn\u001b[39;00m cont\n\u001b[0;32m   1811\u001b[0m \u001b[38;5;28;01mfor\u001b[39;00m c \u001b[38;5;129;01min\u001b[39;00m f[\u001b[38;5;241m1\u001b[39m:]:\n\u001b[1;32m-> 1812\u001b[0m     cont \u001b[38;5;241m=\u001b[39m \u001b[43mdmp_gcd\u001b[49m\u001b[43m(\u001b[49m\u001b[43mcont\u001b[49m\u001b[43m,\u001b[49m\u001b[43m \u001b[49m\u001b[43mc\u001b[49m\u001b[43m,\u001b[49m\u001b[43m \u001b[49m\u001b[43mv\u001b[49m\u001b[43m,\u001b[49m\u001b[43m \u001b[49m\u001b[43mK\u001b[49m\u001b[43m)\u001b[49m\n\u001b[0;32m   1814\u001b[0m     \u001b[38;5;28;01mif\u001b[39;00m dmp_one_p(cont, v, K):\n\u001b[0;32m   1815\u001b[0m         \u001b[38;5;28;01mbreak\u001b[39;00m\n",
      "File \u001b[1;32mc:\\Users\\ufo001jone\\AppData\\Local\\Programs\\Python\\Python312\\Lib\\site-packages\\sympy\\polys\\euclidtools.py:1639\u001b[0m, in \u001b[0;36mdmp_gcd\u001b[1;34m(f, g, u, K)\u001b[0m\n\u001b[0;32m   1622\u001b[0m \u001b[38;5;28;01mdef\u001b[39;00m \u001b[38;5;21mdmp_gcd\u001b[39m(f, g, u, K):\n\u001b[0;32m   1623\u001b[0m \u001b[38;5;250m    \u001b[39m\u001b[38;5;124;03m\"\"\"\u001b[39;00m\n\u001b[0;32m   1624\u001b[0m \u001b[38;5;124;03m    Computes polynomial GCD of `f` and `g` in `K[X]`.\u001b[39;00m\n\u001b[0;32m   1625\u001b[0m \n\u001b[1;32m   (...)\u001b[0m\n\u001b[0;32m   1637\u001b[0m \n\u001b[0;32m   1638\u001b[0m \u001b[38;5;124;03m    \"\"\"\u001b[39;00m\n\u001b[1;32m-> 1639\u001b[0m     \u001b[38;5;28;01mreturn\u001b[39;00m \u001b[43mdmp_inner_gcd\u001b[49m\u001b[43m(\u001b[49m\u001b[43mf\u001b[49m\u001b[43m,\u001b[49m\u001b[43m \u001b[49m\u001b[43mg\u001b[49m\u001b[43m,\u001b[49m\u001b[43m \u001b[49m\u001b[43mu\u001b[49m\u001b[43m,\u001b[49m\u001b[43m \u001b[49m\u001b[43mK\u001b[49m\u001b[43m)\u001b[49m[\u001b[38;5;241m0\u001b[39m]\n",
      "File \u001b[1;32mc:\\Users\\ufo001jone\\AppData\\Local\\Programs\\Python\\Python312\\Lib\\site-packages\\sympy\\polys\\euclidtools.py:1598\u001b[0m, in \u001b[0;36mdmp_inner_gcd\u001b[1;34m(f, g, u, K)\u001b[0m\n\u001b[0;32m   1595\u001b[0m     \u001b[38;5;28;01mreturn\u001b[39;00m dup_inner_gcd(f, g, K)\n\u001b[0;32m   1597\u001b[0m J, (f, g) \u001b[38;5;241m=\u001b[39m dmp_multi_deflate((f, g), u, K)\n\u001b[1;32m-> 1598\u001b[0m h, cff, cfg \u001b[38;5;241m=\u001b[39m \u001b[43m_dmp_inner_gcd\u001b[49m\u001b[43m(\u001b[49m\u001b[43mf\u001b[49m\u001b[43m,\u001b[49m\u001b[43m \u001b[49m\u001b[43mg\u001b[49m\u001b[43m,\u001b[49m\u001b[43m \u001b[49m\u001b[43mu\u001b[49m\u001b[43m,\u001b[49m\u001b[43m \u001b[49m\u001b[43mK\u001b[49m\u001b[43m)\u001b[49m\n\u001b[0;32m   1600\u001b[0m \u001b[38;5;28;01mreturn\u001b[39;00m (dmp_inflate(h, J, u, K),\n\u001b[0;32m   1601\u001b[0m         dmp_inflate(cff, J, u, K),\n\u001b[0;32m   1602\u001b[0m         dmp_inflate(cfg, J, u, K))\n",
      "File \u001b[1;32mc:\\Users\\ufo001jone\\AppData\\Local\\Programs\\Python\\Python312\\Lib\\site-packages\\sympy\\polys\\euclidtools.py:1563\u001b[0m, in \u001b[0;36m_dmp_inner_gcd\u001b[1;34m(f, g, u, K)\u001b[0m\n\u001b[0;32m   1560\u001b[0m         \u001b[38;5;28;01mexcept\u001b[39;00m HeuristicGCDFailed:\n\u001b[0;32m   1561\u001b[0m             \u001b[38;5;28;01mpass\u001b[39;00m\n\u001b[1;32m-> 1563\u001b[0m     \u001b[38;5;28;01mreturn\u001b[39;00m \u001b[43mdmp_ff_prs_gcd\u001b[49m\u001b[43m(\u001b[49m\u001b[43mf\u001b[49m\u001b[43m,\u001b[49m\u001b[43m \u001b[49m\u001b[43mg\u001b[49m\u001b[43m,\u001b[49m\u001b[43m \u001b[49m\u001b[43mu\u001b[49m\u001b[43m,\u001b[49m\u001b[43m \u001b[49m\u001b[43mK\u001b[49m\u001b[43m)\u001b[49m\n\u001b[0;32m   1564\u001b[0m \u001b[38;5;28;01melse\u001b[39;00m:\n\u001b[0;32m   1565\u001b[0m     \u001b[38;5;28;01mif\u001b[39;00m K\u001b[38;5;241m.\u001b[39mis_ZZ \u001b[38;5;129;01mand\u001b[39;00m query(\u001b[38;5;124m'\u001b[39m\u001b[38;5;124mUSE_HEU_GCD\u001b[39m\u001b[38;5;124m'\u001b[39m):\n",
      "File \u001b[1;32mc:\\Users\\ufo001jone\\AppData\\Local\\Programs\\Python\\Python312\\Lib\\site-packages\\sympy\\polys\\euclidtools.py:1108\u001b[0m, in \u001b[0;36mdmp_ff_prs_gcd\u001b[1;34m(f, g, u, K)\u001b[0m\n\u001b[0;32m   1105\u001b[0m \u001b[38;5;28;01mif\u001b[39;00m \u001b[38;5;129;01mnot\u001b[39;00m u:\n\u001b[0;32m   1106\u001b[0m     \u001b[38;5;28;01mreturn\u001b[39;00m dup_ff_prs_gcd(f, g, K)\n\u001b[1;32m-> 1108\u001b[0m result \u001b[38;5;241m=\u001b[39m \u001b[43m_dmp_ff_trivial_gcd\u001b[49m\u001b[43m(\u001b[49m\u001b[43mf\u001b[49m\u001b[43m,\u001b[49m\u001b[43m \u001b[49m\u001b[43mg\u001b[49m\u001b[43m,\u001b[49m\u001b[43m \u001b[49m\u001b[43mu\u001b[49m\u001b[43m,\u001b[49m\u001b[43m \u001b[49m\u001b[43mK\u001b[49m\u001b[43m)\u001b[49m\n\u001b[0;32m   1110\u001b[0m \u001b[38;5;28;01mif\u001b[39;00m result \u001b[38;5;129;01mis\u001b[39;00m \u001b[38;5;129;01mnot\u001b[39;00m \u001b[38;5;28;01mNone\u001b[39;00m:\n\u001b[0;32m   1111\u001b[0m     \u001b[38;5;28;01mreturn\u001b[39;00m result\n",
      "File \u001b[1;32mc:\\Users\\ufo001jone\\AppData\\Local\\Programs\\Python\\Python312\\Lib\\site-packages\\sympy\\polys\\euclidtools.py:933\u001b[0m, in \u001b[0;36m_dmp_ff_trivial_gcd\u001b[1;34m(f, g, u, K)\u001b[0m\n\u001b[0;32m    929\u001b[0m     \u001b[38;5;28;01mreturn\u001b[39;00m (dmp_ground_monic(f, u, K),\n\u001b[0;32m    930\u001b[0m             dmp_ground(dmp_ground_LC(f, u, K), u),\n\u001b[0;32m    931\u001b[0m             dmp_zero(u))\n\u001b[0;32m    932\u001b[0m \u001b[38;5;28;01melif\u001b[39;00m query(\u001b[38;5;124m'\u001b[39m\u001b[38;5;124mUSE_SIMPLIFY_GCD\u001b[39m\u001b[38;5;124m'\u001b[39m):\n\u001b[1;32m--> 933\u001b[0m     \u001b[38;5;28;01mreturn\u001b[39;00m \u001b[43m_dmp_simplify_gcd\u001b[49m\u001b[43m(\u001b[49m\u001b[43mf\u001b[49m\u001b[43m,\u001b[49m\u001b[43m \u001b[49m\u001b[43mg\u001b[49m\u001b[43m,\u001b[49m\u001b[43m \u001b[49m\u001b[43mu\u001b[49m\u001b[43m,\u001b[49m\u001b[43m \u001b[49m\u001b[43mK\u001b[49m\u001b[43m)\u001b[49m\n\u001b[0;32m    934\u001b[0m \u001b[38;5;28;01melse\u001b[39;00m:\n\u001b[0;32m    935\u001b[0m     \u001b[38;5;28;01mreturn\u001b[39;00m \u001b[38;5;28;01mNone\u001b[39;00m\n",
      "File \u001b[1;32mc:\\Users\\ufo001jone\\AppData\\Local\\Programs\\Python\\Python312\\Lib\\site-packages\\sympy\\polys\\euclidtools.py:952\u001b[0m, in \u001b[0;36m_dmp_simplify_gcd\u001b[1;34m(f, g, u, K)\u001b[0m\n\u001b[0;32m    950\u001b[0m \u001b[38;5;28;01mif\u001b[39;00m \u001b[38;5;129;01mnot\u001b[39;00m df:\n\u001b[0;32m    951\u001b[0m     F \u001b[38;5;241m=\u001b[39m dmp_LC(f, K)\n\u001b[1;32m--> 952\u001b[0m     G \u001b[38;5;241m=\u001b[39m \u001b[43mdmp_content\u001b[49m\u001b[43m(\u001b[49m\u001b[43mg\u001b[49m\u001b[43m,\u001b[49m\u001b[43m \u001b[49m\u001b[43mu\u001b[49m\u001b[43m,\u001b[49m\u001b[43m \u001b[49m\u001b[43mK\u001b[49m\u001b[43m)\u001b[49m\n\u001b[0;32m    953\u001b[0m \u001b[38;5;28;01melse\u001b[39;00m:\n\u001b[0;32m    954\u001b[0m     F \u001b[38;5;241m=\u001b[39m dmp_content(f, u, K)\n",
      "File \u001b[1;32mc:\\Users\\ufo001jone\\AppData\\Local\\Programs\\Python\\Python312\\Lib\\site-packages\\sympy\\polys\\euclidtools.py:1812\u001b[0m, in \u001b[0;36mdmp_content\u001b[1;34m(f, u, K)\u001b[0m\n\u001b[0;32m   1809\u001b[0m     \u001b[38;5;28;01mreturn\u001b[39;00m cont\n\u001b[0;32m   1811\u001b[0m \u001b[38;5;28;01mfor\u001b[39;00m c \u001b[38;5;129;01min\u001b[39;00m f[\u001b[38;5;241m1\u001b[39m:]:\n\u001b[1;32m-> 1812\u001b[0m     cont \u001b[38;5;241m=\u001b[39m \u001b[43mdmp_gcd\u001b[49m\u001b[43m(\u001b[49m\u001b[43mcont\u001b[49m\u001b[43m,\u001b[49m\u001b[43m \u001b[49m\u001b[43mc\u001b[49m\u001b[43m,\u001b[49m\u001b[43m \u001b[49m\u001b[43mv\u001b[49m\u001b[43m,\u001b[49m\u001b[43m \u001b[49m\u001b[43mK\u001b[49m\u001b[43m)\u001b[49m\n\u001b[0;32m   1814\u001b[0m     \u001b[38;5;28;01mif\u001b[39;00m dmp_one_p(cont, v, K):\n\u001b[0;32m   1815\u001b[0m         \u001b[38;5;28;01mbreak\u001b[39;00m\n",
      "File \u001b[1;32mc:\\Users\\ufo001jone\\AppData\\Local\\Programs\\Python\\Python312\\Lib\\site-packages\\sympy\\polys\\euclidtools.py:1639\u001b[0m, in \u001b[0;36mdmp_gcd\u001b[1;34m(f, g, u, K)\u001b[0m\n\u001b[0;32m   1622\u001b[0m \u001b[38;5;28;01mdef\u001b[39;00m \u001b[38;5;21mdmp_gcd\u001b[39m(f, g, u, K):\n\u001b[0;32m   1623\u001b[0m \u001b[38;5;250m    \u001b[39m\u001b[38;5;124;03m\"\"\"\u001b[39;00m\n\u001b[0;32m   1624\u001b[0m \u001b[38;5;124;03m    Computes polynomial GCD of `f` and `g` in `K[X]`.\u001b[39;00m\n\u001b[0;32m   1625\u001b[0m \n\u001b[1;32m   (...)\u001b[0m\n\u001b[0;32m   1637\u001b[0m \n\u001b[0;32m   1638\u001b[0m \u001b[38;5;124;03m    \"\"\"\u001b[39;00m\n\u001b[1;32m-> 1639\u001b[0m     \u001b[38;5;28;01mreturn\u001b[39;00m \u001b[43mdmp_inner_gcd\u001b[49m\u001b[43m(\u001b[49m\u001b[43mf\u001b[49m\u001b[43m,\u001b[49m\u001b[43m \u001b[49m\u001b[43mg\u001b[49m\u001b[43m,\u001b[49m\u001b[43m \u001b[49m\u001b[43mu\u001b[49m\u001b[43m,\u001b[49m\u001b[43m \u001b[49m\u001b[43mK\u001b[49m\u001b[43m)\u001b[49m[\u001b[38;5;241m0\u001b[39m]\n",
      "File \u001b[1;32mc:\\Users\\ufo001jone\\AppData\\Local\\Programs\\Python\\Python312\\Lib\\site-packages\\sympy\\polys\\euclidtools.py:1598\u001b[0m, in \u001b[0;36mdmp_inner_gcd\u001b[1;34m(f, g, u, K)\u001b[0m\n\u001b[0;32m   1595\u001b[0m     \u001b[38;5;28;01mreturn\u001b[39;00m dup_inner_gcd(f, g, K)\n\u001b[0;32m   1597\u001b[0m J, (f, g) \u001b[38;5;241m=\u001b[39m dmp_multi_deflate((f, g), u, K)\n\u001b[1;32m-> 1598\u001b[0m h, cff, cfg \u001b[38;5;241m=\u001b[39m \u001b[43m_dmp_inner_gcd\u001b[49m\u001b[43m(\u001b[49m\u001b[43mf\u001b[49m\u001b[43m,\u001b[49m\u001b[43m \u001b[49m\u001b[43mg\u001b[49m\u001b[43m,\u001b[49m\u001b[43m \u001b[49m\u001b[43mu\u001b[49m\u001b[43m,\u001b[49m\u001b[43m \u001b[49m\u001b[43mK\u001b[49m\u001b[43m)\u001b[49m\n\u001b[0;32m   1600\u001b[0m \u001b[38;5;28;01mreturn\u001b[39;00m (dmp_inflate(h, J, u, K),\n\u001b[0;32m   1601\u001b[0m         dmp_inflate(cff, J, u, K),\n\u001b[0;32m   1602\u001b[0m         dmp_inflate(cfg, J, u, K))\n",
      "File \u001b[1;32mc:\\Users\\ufo001jone\\AppData\\Local\\Programs\\Python\\Python312\\Lib\\site-packages\\sympy\\polys\\euclidtools.py:1563\u001b[0m, in \u001b[0;36m_dmp_inner_gcd\u001b[1;34m(f, g, u, K)\u001b[0m\n\u001b[0;32m   1560\u001b[0m         \u001b[38;5;28;01mexcept\u001b[39;00m HeuristicGCDFailed:\n\u001b[0;32m   1561\u001b[0m             \u001b[38;5;28;01mpass\u001b[39;00m\n\u001b[1;32m-> 1563\u001b[0m     \u001b[38;5;28;01mreturn\u001b[39;00m \u001b[43mdmp_ff_prs_gcd\u001b[49m\u001b[43m(\u001b[49m\u001b[43mf\u001b[49m\u001b[43m,\u001b[49m\u001b[43m \u001b[49m\u001b[43mg\u001b[49m\u001b[43m,\u001b[49m\u001b[43m \u001b[49m\u001b[43mu\u001b[49m\u001b[43m,\u001b[49m\u001b[43m \u001b[49m\u001b[43mK\u001b[49m\u001b[43m)\u001b[49m\n\u001b[0;32m   1564\u001b[0m \u001b[38;5;28;01melse\u001b[39;00m:\n\u001b[0;32m   1565\u001b[0m     \u001b[38;5;28;01mif\u001b[39;00m K\u001b[38;5;241m.\u001b[39mis_ZZ \u001b[38;5;129;01mand\u001b[39;00m query(\u001b[38;5;124m'\u001b[39m\u001b[38;5;124mUSE_HEU_GCD\u001b[39m\u001b[38;5;124m'\u001b[39m):\n",
      "File \u001b[1;32mc:\\Users\\ufo001jone\\AppData\\Local\\Programs\\Python\\Python312\\Lib\\site-packages\\sympy\\polys\\euclidtools.py:1114\u001b[0m, in \u001b[0;36mdmp_ff_prs_gcd\u001b[1;34m(f, g, u, K)\u001b[0m\n\u001b[0;32m   1111\u001b[0m     \u001b[38;5;28;01mreturn\u001b[39;00m result\n\u001b[0;32m   1113\u001b[0m fc, F \u001b[38;5;241m=\u001b[39m dmp_primitive(f, u, K)\n\u001b[1;32m-> 1114\u001b[0m gc, G \u001b[38;5;241m=\u001b[39m \u001b[43mdmp_primitive\u001b[49m\u001b[43m(\u001b[49m\u001b[43mg\u001b[49m\u001b[43m,\u001b[49m\u001b[43m \u001b[49m\u001b[43mu\u001b[49m\u001b[43m,\u001b[49m\u001b[43m \u001b[49m\u001b[43mK\u001b[49m\u001b[43m)\u001b[49m\n\u001b[0;32m   1116\u001b[0m h \u001b[38;5;241m=\u001b[39m dmp_subresultants(F, G, u, K)[\u001b[38;5;241m-\u001b[39m\u001b[38;5;241m1\u001b[39m]\n\u001b[0;32m   1117\u001b[0m c, _, _ \u001b[38;5;241m=\u001b[39m dmp_ff_prs_gcd(fc, gc, u \u001b[38;5;241m-\u001b[39m \u001b[38;5;241m1\u001b[39m, K)\n",
      "File \u001b[1;32mc:\\Users\\ufo001jone\\AppData\\Local\\Programs\\Python\\Python312\\Lib\\site-packages\\sympy\\polys\\euclidtools.py:1842\u001b[0m, in \u001b[0;36mdmp_primitive\u001b[1;34m(f, u, K)\u001b[0m\n\u001b[0;32m   1840\u001b[0m     \u001b[38;5;28;01mreturn\u001b[39;00m cont, f\n\u001b[0;32m   1841\u001b[0m \u001b[38;5;28;01melse\u001b[39;00m:\n\u001b[1;32m-> 1842\u001b[0m     \u001b[38;5;28;01mreturn\u001b[39;00m cont, [ \u001b[43mdmp_quo\u001b[49m\u001b[43m(\u001b[49m\u001b[43mc\u001b[49m\u001b[43m,\u001b[49m\u001b[43m \u001b[49m\u001b[43mcont\u001b[49m\u001b[43m,\u001b[49m\u001b[43m \u001b[49m\u001b[43mv\u001b[49m\u001b[43m,\u001b[49m\u001b[43m \u001b[49m\u001b[43mK\u001b[49m\u001b[43m)\u001b[49m \u001b[38;5;28;01mfor\u001b[39;00m c \u001b[38;5;129;01min\u001b[39;00m f ]\n",
      "File \u001b[1;32mc:\\Users\\ufo001jone\\AppData\\Local\\Programs\\Python\\Python312\\Lib\\site-packages\\sympy\\polys\\densearith.py:1671\u001b[0m, in \u001b[0;36mdmp_quo\u001b[1;34m(f, g, u, K)\u001b[0m\n\u001b[0;32m   1653\u001b[0m \u001b[38;5;28;01mdef\u001b[39;00m \u001b[38;5;21mdmp_quo\u001b[39m(f, g, u, K):\n\u001b[0;32m   1654\u001b[0m \u001b[38;5;250m    \u001b[39m\u001b[38;5;124;03m\"\"\"\u001b[39;00m\n\u001b[0;32m   1655\u001b[0m \u001b[38;5;124;03m    Returns exact polynomial quotient in ``K[X]``.\u001b[39;00m\n\u001b[0;32m   1656\u001b[0m \n\u001b[1;32m   (...)\u001b[0m\n\u001b[0;32m   1669\u001b[0m \n\u001b[0;32m   1670\u001b[0m \u001b[38;5;124;03m    \"\"\"\u001b[39;00m\n\u001b[1;32m-> 1671\u001b[0m     \u001b[38;5;28;01mreturn\u001b[39;00m \u001b[43mdmp_div\u001b[49m\u001b[43m(\u001b[49m\u001b[43mf\u001b[49m\u001b[43m,\u001b[49m\u001b[43m \u001b[49m\u001b[43mg\u001b[49m\u001b[43m,\u001b[49m\u001b[43m \u001b[49m\u001b[43mu\u001b[49m\u001b[43m,\u001b[49m\u001b[43m \u001b[49m\u001b[43mK\u001b[49m\u001b[43m)\u001b[49m[\u001b[38;5;241m0\u001b[39m]\n",
      "File \u001b[1;32mc:\\Users\\ufo001jone\\AppData\\Local\\Programs\\Python\\Python312\\Lib\\site-packages\\sympy\\polys\\densearith.py:1627\u001b[0m, in \u001b[0;36mdmp_div\u001b[1;34m(f, g, u, K)\u001b[0m\n\u001b[0;32m   1609\u001b[0m \u001b[38;5;250m\u001b[39m\u001b[38;5;124;03m\"\"\"\u001b[39;00m\n\u001b[0;32m   1610\u001b[0m \u001b[38;5;124;03mPolynomial division with remainder in ``K[X]``.\u001b[39;00m\n\u001b[0;32m   1611\u001b[0m \n\u001b[1;32m   (...)\u001b[0m\n\u001b[0;32m   1624\u001b[0m \n\u001b[0;32m   1625\u001b[0m \u001b[38;5;124;03m\"\"\"\u001b[39;00m\n\u001b[0;32m   1626\u001b[0m \u001b[38;5;28;01mif\u001b[39;00m K\u001b[38;5;241m.\u001b[39mis_Field:\n\u001b[1;32m-> 1627\u001b[0m     \u001b[38;5;28;01mreturn\u001b[39;00m \u001b[43mdmp_ff_div\u001b[49m\u001b[43m(\u001b[49m\u001b[43mf\u001b[49m\u001b[43m,\u001b[49m\u001b[43m \u001b[49m\u001b[43mg\u001b[49m\u001b[43m,\u001b[49m\u001b[43m \u001b[49m\u001b[43mu\u001b[49m\u001b[43m,\u001b[49m\u001b[43m \u001b[49m\u001b[43mK\u001b[49m\u001b[43m)\u001b[49m\n\u001b[0;32m   1628\u001b[0m \u001b[38;5;28;01melse\u001b[39;00m:\n\u001b[0;32m   1629\u001b[0m     \u001b[38;5;28;01mreturn\u001b[39;00m dmp_rr_div(f, g, u, K)\n",
      "File \u001b[1;32mc:\\Users\\ufo001jone\\AppData\\Local\\Programs\\Python\\Python312\\Lib\\site-packages\\sympy\\polys\\densearith.py:1477\u001b[0m, in \u001b[0;36mdmp_ff_div\u001b[1;34m(f, g, u, K)\u001b[0m\n\u001b[0;32m   1463\u001b[0m \u001b[38;5;250m\u001b[39m\u001b[38;5;124;03m\"\"\"\u001b[39;00m\n\u001b[0;32m   1464\u001b[0m \u001b[38;5;124;03mPolynomial division with remainder over a field.\u001b[39;00m\n\u001b[0;32m   1465\u001b[0m \n\u001b[1;32m   (...)\u001b[0m\n\u001b[0;32m   1474\u001b[0m \n\u001b[0;32m   1475\u001b[0m \u001b[38;5;124;03m\"\"\"\u001b[39;00m\n\u001b[0;32m   1476\u001b[0m \u001b[38;5;28;01mif\u001b[39;00m \u001b[38;5;129;01mnot\u001b[39;00m u:\n\u001b[1;32m-> 1477\u001b[0m     \u001b[38;5;28;01mreturn\u001b[39;00m \u001b[43mdup_ff_div\u001b[49m\u001b[43m(\u001b[49m\u001b[43mf\u001b[49m\u001b[43m,\u001b[49m\u001b[43m \u001b[49m\u001b[43mg\u001b[49m\u001b[43m,\u001b[49m\u001b[43m \u001b[49m\u001b[43mK\u001b[49m\u001b[43m)\u001b[49m\n\u001b[0;32m   1479\u001b[0m df \u001b[38;5;241m=\u001b[39m dmp_degree(f, u)\n\u001b[0;32m   1480\u001b[0m dg \u001b[38;5;241m=\u001b[39m dmp_degree(g, u)\n",
      "File \u001b[1;32mc:\\Users\\ufo001jone\\AppData\\Local\\Programs\\Python\\Python312\\Lib\\site-packages\\sympy\\polys\\densearith.py:1430\u001b[0m, in \u001b[0;36mdup_ff_div\u001b[1;34m(f, g, K)\u001b[0m\n\u001b[0;32m   1427\u001b[0m q, r, dr \u001b[38;5;241m=\u001b[39m [], f, df\n\u001b[0;32m   1429\u001b[0m \u001b[38;5;28;01mif\u001b[39;00m \u001b[38;5;129;01mnot\u001b[39;00m g:\n\u001b[1;32m-> 1430\u001b[0m     \u001b[38;5;28;01mraise\u001b[39;00m \u001b[38;5;167;01mZeroDivisionError\u001b[39;00m(\u001b[38;5;124m\"\u001b[39m\u001b[38;5;124mpolynomial division\u001b[39m\u001b[38;5;124m\"\u001b[39m)\n\u001b[0;32m   1431\u001b[0m \u001b[38;5;28;01melif\u001b[39;00m df \u001b[38;5;241m<\u001b[39m dg:\n\u001b[0;32m   1432\u001b[0m     \u001b[38;5;28;01mreturn\u001b[39;00m q, r\n",
      "\u001b[1;31mZeroDivisionError\u001b[0m: polynomial division"
     ]
    }
   ],
   "source": [
    "import sympy as sp\n",
    "\n",
    "# 定义符号变量，并对变量进行限制\n",
    "l1, l2 = sp.symbols('l1 l2', positive=True, real=True)  # l1 和 l2 都是大于 0 的正实数\n",
    "theta1, theta2, x, y = sp.symbols('theta1 theta_{ii} x y', real=True)  # theta1、theta2、x、y 都为实数\n",
    "\n",
    "# 设定逆运动学的方程\n",
    "eq_x = l1 * sp.cos(theta1) + l2 * sp.cos(theta1 + theta2) - x\n",
    "eq_y = l1 * sp.sin(theta1) + l2 * sp.sin(theta1 + theta2) - y\n",
    "\n",
    "# 尝试符号解\n",
    "solutions = sp.solve([eq_x, eq_y], [theta1, theta2], dict=True)\n"
   ]
  },
  {
   "cell_type": "code",
   "execution_count": 77,
   "metadata": {},
   "outputs": [],
   "source": [
    "import sympy as sp\n",
    "\n",
    "# 定义符号变量，并对变量进行限制\n",
    "l1, l2 = sp.symbols('l1 l2', positive=True, real=True)  # l1 和 l2 都是大于 0 的正实数\n",
    "theta1, theta_ii, x, y = sp.symbols('theta1 theta_ii x y', real=True)  # theta1、theta2、x、y 都为实数\n",
    "\n"
   ]
  },
  {
   "cell_type": "code",
   "execution_count": 78,
   "metadata": {},
   "outputs": [
    {
     "data": {
      "image/png": "[encoded data removed]",
      "text/latex": [
       "$\\displaystyle l_{1} \\cos{\\left(\\theta_{1} \\right)} + l_{2} \\cos{\\left(\\theta_{ii} \\right)}$"
      ],
      "text/plain": [
       "l₁⋅cos(θ₁) + l₂⋅cos(θᵢᵢ)"
      ]
     },
     "execution_count": 78,
     "metadata": {},
     "output_type": "execute_result"
    }
   ],
   "source": [
    "\n",
    "# 提取方程的左侧和右侧（我们这里只考虑左侧，因为右侧是已知的 x 和 y）\n",
    "lhs_x = l1 * sp.cos(theta1) + l2 * sp.cos(theta_ii)\n",
    "lhs_x"
   ]
  },
  {
   "cell_type": "code",
   "execution_count": 79,
   "metadata": {},
   "outputs": [
    {
     "data": {
      "image/png": "[encoded data removed]",
      "text/latex": [
       "$\\displaystyle l_{1} \\sin{\\left(\\theta_{1} \\right)} + l_{2} \\sin{\\left(\\theta_{ii} \\right)}$"
      ],
      "text/plain": [
       "l₁⋅sin(θ₁) + l₂⋅sin(θᵢᵢ)"
      ]
     },
     "execution_count": 79,
     "metadata": {},
     "output_type": "execute_result"
    }
   ],
   "source": [
    "\n",
    "lhs_y = l1 * sp.sin(theta1) + l2 * sp.sin(theta_ii)\n",
    "lhs_y\n"
   ]
  },
  {
   "cell_type": "code",
   "execution_count": 80,
   "metadata": {},
   "outputs": [
    {
     "data": {
      "image/png": "[encoded data removed]",
      "text/latex": [
       "$\\displaystyle l_{1}^{2} + 2 l_{1} l_{2} \\cos{\\left(\\theta_{1} - \\theta_{ii} \\right)} + l_{2}^{2}$"
      ],
      "text/plain": [
       "  2                             2\n",
       "l₁  + 2⋅l₁⋅l₂⋅cos(θ₁ - θᵢᵢ) + l₂ "
      ]
     },
     "execution_count": 80,
     "metadata": {},
     "output_type": "execute_result"
    }
   ],
   "source": [
    "# 将 eq_x 和 eq_y 的左侧平方并相加\n",
    "eq_sum = sp.simplify((lhs_x)**2 + (lhs_y)**2)\n",
    "eq_sum\n",
    "\n"
   ]
  },
  {
   "cell_type": "code",
   "execution_count": 83,
   "metadata": {},
   "outputs": [
    {
     "data": {
      "image/png": "[encoded data removed]",
      "text/latex": [
       "$\\displaystyle - \\left(l_{1} \\sin{\\left(\\theta_{1} \\right)} + l_{2} \\sin{\\left(\\theta_{ii} \\right)}\\right)^{2} + \\left(l_{1} \\cos{\\left(\\theta_{1} \\right)} + l_{2} \\cos{\\left(\\theta_{ii} \\right)}\\right)^{2}$"
      ],
      "text/plain": [
       "                            2                             2\n",
       "- (l₁⋅sin(θ₁) + l₂⋅sin(θᵢᵢ))  + (l₁⋅cos(θ₁) + l₂⋅cos(θᵢᵢ)) "
      ]
     },
     "execution_count": 83,
     "metadata": {},
     "output_type": "execute_result"
    }
   ],
   "source": [
    "(lhs_x)**2 - (lhs_y)**2"
   ]
  },
  {
   "cell_type": "code",
   "execution_count": null,
   "metadata": {},
   "outputs": [
    {
     "ename": "TypeError",
     "evalue": "unsupported operand type(s) for ** or pow(): 'Equality' and 'int'",
     "output_type": "error",
     "traceback": [
      "\u001b[1;31m---------------------------------------------------------------------------\u001b[0m",
      "\u001b[1;31mTypeError\u001b[0m                                 Traceback (most recent call last)",
      "Cell \u001b[1;32mIn[53], line 2\u001b[0m\n\u001b[0;32m      1\u001b[0m \u001b[38;5;66;03m# 将 eq_x 和 eq_y 平方并相加\u001b[39;00m\n\u001b[1;32m----> 2\u001b[0m eq_sum \u001b[38;5;241m=\u001b[39m \u001b[43meq_x\u001b[49m\u001b[38;5;241;43m*\u001b[39;49m\u001b[38;5;241;43m*\u001b[39;49m\u001b[38;5;241;43m2\u001b[39;49m \u001b[38;5;241m+\u001b[39m eq_y\u001b[38;5;241m*\u001b[39m\u001b[38;5;241m*\u001b[39m\u001b[38;5;241m2\u001b[39m\n\u001b[0;32m      4\u001b[0m \u001b[38;5;66;03m# 展示结果\u001b[39;00m\n\u001b[0;32m      5\u001b[0m eq_sum\n",
      "\u001b[1;31mTypeError\u001b[0m: unsupported operand type(s) for ** or pow(): 'Equality' and 'int'"
     ]
    }
   ],
   "source": [
    "# 将 eq_x 和 eq_y 平方并相加\n",
    "eq_sum = sp.simplify(eq_x**2 + eq_y**2)\n",
    "\n",
    "# 展示结果\n",
    "eq_sum"
   ]
  }
 ],
 "metadata": {
  "kernelspec": {
   "display_name": "Python 3",
   "language": "python",
   "name": "python3"
  },
  "language_info": {
   "codemirror_mode": {
    "name": "ipython",
    "version": 3
   },
   "file_extension": ".py",
   "mimetype": "text/x-python",
   "name": "python",
   "nbconvert_exporter": "python",
   "pygments_lexer": "ipython3",
   "version": "3.12.4"
  }
 },
 "nbformat": 4,
 "nbformat_minor": 2
}
