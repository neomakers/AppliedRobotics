{
 "cells": [
  {
   "cell_type": "markdown",
   "metadata": {},
   "source": [
    "## 2.1 几何方法用于建立机器人运动学模型"
   ]
  },
  {
   "cell_type": "markdown",
   "metadata": {},
   "source": [
    "- **正运动学**(Forward Kinecmatics)是从已知的关节变量（例如角度或位移）推导出机械臂末端执行器的位置。它的目标是确定当我们给定每个关节的位置（角度）时，末端执行器的位置和姿态。\n",
    "- **逆运动学**(Inverse Kinecmatics)是与正运动学相反的过程，它的目标是通过给定末端执行器的位置，求解出关节变量（角度）。"
   ]
  },
  {
   "cell_type": "markdown",
   "metadata": {},
   "source": [
    "#### 正运动学示例\n"
   ]
  },
  {
   "cell_type": "code",
   "execution_count": 16,
   "metadata": {},
   "outputs": [
    {
     "data": {
      "application/vnd.jupyter.widget-view+json": {
       "model_id": "ab5fb0dced5640c98871c7f200085152",
       "version_major": 2,
       "version_minor": 0
      },
      "text/plain": [
       "interactive(children=(FloatSlider(value=35.0, description='Theta1', max=180.0, min=-180.0, step=1.0), FloatSli…"
      ]
     },
     "metadata": {},
     "output_type": "display_data"
    }
   ],
   "source": [
    "from robot_kinematics import create_interactive_forward\n",
    "# 调用函数，展示交互式动画\n",
    "create_interactive_forward()"
   ]
  },
  {
   "cell_type": "markdown",
   "metadata": {},
   "source": [
    "#### 逆运动学示例"
   ]
  },
  {
   "cell_type": "code",
   "execution_count": 17,
   "metadata": {},
   "outputs": [
    {
     "data": {
      "application/vnd.jupyter.widget-view+json": {
       "model_id": "a09c5f2a0ff54350acfe3b32846acec2",
       "version_major": 2,
       "version_minor": 0
      },
      "text/plain": [
       "interactive(children=(FloatSlider(value=2.0, description='x', max=3.0, min=-3.0, step=0.01), FloatSlider(value…"
      ]
     },
     "metadata": {},
     "output_type": "display_data"
    }
   ],
   "source": [
    "from robot_kinematics import create_interactive_inverse\n",
    "create_interactive_inverse()"
   ]
  },
  {
   "cell_type": "markdown",
   "metadata": {},
   "source": [
    "### 2.1.1 正运动学分析（Forward Kinecmatics Anlysis)"
   ]
  },
  {
   "cell_type": "markdown",
   "metadata": {},
   "source": [
    "\n",
    "几何方法是分析机器人运动学的一个基本工具，特别适用于连杆机器人系统。通过几何关系，可以从关节的角度（$θ$）推导出机器人末端执行器的位置，称为正运动学问题；或者从末端执行器的位置推导出关节的角度，称为逆运动学问题。"
   ]
  },
  {
   "cell_type": "markdown",
   "metadata": {},
   "source": [
    "#### 几何图解法"
   ]
  },
  {
   "cell_type": "markdown",
   "metadata": {},
   "source": [
    "\n",
    "几何图解法是一种基于几何形状和三角函数关系的分析方法。在机械臂的运动学模型中，每一个连杆和关节都可以用简单的几何图形来表示。通过几何图解，我们可以直观地看到各个关节和连杆的位置关系，并通过基本的三角函数计算得到所需的运动学参数。\n",
    "\n",
    "对于一个两连杆机械臂（如双连杆机械臂），其几何图解分析如下：\n",
    "\n",
    "- 设 $l_1$ 和 $l_2$ 分别为两根连杆的长度，$θ_1$ 和 $θ_2$ 为两个关节的旋转角度。\n",
    "- 关节角度和连杆的长度决定了末端执行器的位置。使用几何图解法，我们可以利用三角形中的正弦定理和余弦定理来确定末端执行器的位置。\n",
    "  \n",
    "正运动学公式可以通过几何关系直接推导出来：\n",
    "- 第一个关节位置 $P_1$:\n",
    "  $$\n",
    "  P_1 = (x_1, y_1) = (l_1 \\cos(θ_1), l_1 \\sin(θ_1)) \\tag{2.1}\n",
    " $$\n",
    "- 第二个关节位置 $P_2$ （末端执行器）:\n",
    "  $$\n",
    "  P_2 = (x_2, y_2) = (x_1 + l_2 \\cos(θ_1 + θ_2), y_1 + l_2 \\sin(θ_1 + θ_2)) \\tag{2.2}\n",
    " $$\n"
   ]
  },
  {
   "cell_type": "markdown",
   "metadata": {},
   "source": [
    "#### 向量图解法"
   ]
  },
  {
   "cell_type": "markdown",
   "metadata": {},
   "source": [
    "向量图解法是几何方法的一个扩展，通过使用向量来表示连杆和关节之间的关系。向量图解法的优势在于它不仅能直观地表示机器人系统的结构，还能方便地进行代数计算，尤其适合复杂的多连杆系统。"
   ]
  },
  {
   "cell_type": "markdown",
   "metadata": {},
   "source": [
    "##### 手动推导"
   ]
  },
  {
   "cell_type": "markdown",
   "metadata": {},
   "source": [
    "\n",
    "在向量图解法中，机械臂的每个连杆可以看作一个向量，关节之间的旋转则是向量的旋转变换。以下是两连杆机械臂的向量表示：\n",
    "\n",
    "- 定义第一个连杆的向量 $\\overrightarrow{P_0P_1}$：\n",
    "  $$\n",
    "  \\overrightarrow{P_0P_1} = \\left[ l_1 \\cos(θ_1), l_1 \\sin(θ_1) \\right] \\tag{2.3}\n",
    "  $$\n",
    "  \n",
    "- 定义第二个连杆的向量 $\\overrightarrow{P_1P_2}$：\n",
    "  $$\n",
    "  \\overrightarrow{P_1P_2} = \\left[ l_2 \\cos(θ_1 + θ_2), l_2 \\sin(θ_1 + θ_2) \\right] \\tag{2.4}\n",
    "  $$\n",
    "\n",
    "通过向量加法，可以得到末端执行器的位置 $\\overrightarrow{P_0P_2}$：\n",
    "$$\n",
    "\\overrightarrow{P_0P_2} = \\overrightarrow{P_0P_1} + \\overrightarrow{P_1P_2} \\tag{2.5}\n",
    "$$\n",
    "代入公式：\n",
    "$$\n",
    "\\overrightarrow{P_0P_2}=[x,y] = \\left[ l_1 \\cos(θ_1) + l_2 \\cos(θ_1 + θ_2), l_1 \\sin(θ_1) + l_2 \\sin(θ_1 + θ_2) \\right] \\tag{2.6}\n",
    "$$\n",
    "\n",
    "这种方法允许我们以向量的形式分析机器人末端的位置，结合代数运算进行复杂系统的运动学分析。"
   ]
  },
  {
   "cell_type": "markdown",
   "metadata": {},
   "source": [
    "##### Python公式推导与验证"
   ]
  },
  {
   "cell_type": "markdown",
   "metadata": {},
   "source": [
    "首先初始化书写已知变量"
   ]
  },
  {
   "cell_type": "code",
   "execution_count": 18,
   "metadata": {},
   "outputs": [],
   "source": [
    "import sympy as sp\n",
    "# 启用 LaTeX 渲染\n",
    "sp.init_printing()\n",
    "# 定义符号变量\n",
    "theta_1, theta_2 = sp.symbols('theta_1 theta_2')\n",
    "l1, l2 = sp.symbols('l1 l2')"
   ]
  },
  {
   "cell_type": "markdown",
   "metadata": {},
   "source": [
    "然后开始构建$\\overrightarrow{P_0P_1}$向量"
   ]
  },
  {
   "cell_type": "code",
   "execution_count": 19,
   "metadata": {},
   "outputs": [
    {
     "data": {
      "text/latex": [
       "$\\displaystyle \\left[\\begin{matrix}l_{1} \\cos{\\left(\\theta_{1} \\right)}\\\\l_{1} \\sin{\\left(\\theta_{1} \\right)}\\end{matrix}\\right]$"
      ],
      "text/plain": [
       "⎡l₁⋅cos(θ₁)⎤\n",
       "⎢          ⎥\n",
       "⎣l₁⋅sin(θ₁)⎦"
      ]
     },
     "execution_count": 19,
     "metadata": {},
     "output_type": "execute_result"
    }
   ],
   "source": [
    "# 向量POP1\n",
    "P0P1 = sp.Matrix([l1 * sp.cos(theta_1), l1 * sp.sin(theta_1)])\n",
    "P0P1"
   ]
  },
  {
   "cell_type": "markdown",
   "metadata": {},
   "source": [
    "然后开始构建$\\overrightarrow{P_1P_2}$向量，我们这里要注意，此时相对于绝对坐标系来说，在$X$轴和$Y$轴的投影是$\\theta_{ii}$,所以我们要先定义$\\theta_{ii}$然后计算"
   ]
  },
  {
   "cell_type": "code",
   "execution_count": 20,
   "metadata": {},
   "outputs": [
    {
     "data": {
      "text/latex": [
       "$\\displaystyle \\left[\\begin{matrix}l_{2} \\cos{\\left(theta_{ii} \\right)}\\\\l_{2} \\sin{\\left(theta_{ii} \\right)}\\end{matrix}\\right]$"
      ],
      "text/plain": [
       "⎡l₂⋅cos(θ_{ii})⎤\n",
       "⎢              ⎥\n",
       "⎣l₂⋅sin(θ_{ii})⎦"
      ]
     },
     "execution_count": 20,
     "metadata": {},
     "output_type": "execute_result"
    }
   ],
   "source": [
    "# 向量POP1\n",
    "theta_ii=sp.symbols('theta_{ii}')\n",
    "P1P2 = sp.Matrix([l2 * sp.cos(theta_ii), l2 * sp.sin(theta_ii)])\n",
    "P1P2"
   ]
  },
  {
   "cell_type": "markdown",
   "metadata": {},
   "source": [
    "最终的$\\overrightarrow{P_0P_2}$向量满足公式$\\overrightarrow{P_0P_2} = \\overrightarrow{P_0P_1} + \\overrightarrow{P_1P_2}$"
   ]
  },
  {
   "cell_type": "code",
   "execution_count": 21,
   "metadata": {},
   "outputs": [
    {
     "data": {
      "text/latex": [
       "$\\displaystyle \\left[\\begin{matrix}l_{1} \\cos{\\left(\\theta_{1} \\right)} + l_{2} \\cos{\\left(theta_{ii} \\right)}\\\\l_{1} \\sin{\\left(\\theta_{1} \\right)} + l_{2} \\sin{\\left(theta_{ii} \\right)}\\end{matrix}\\right]$"
      ],
      "text/plain": [
       "⎡l₁⋅cos(θ₁) + l₂⋅cos(θ_{ii})⎤\n",
       "⎢                           ⎥\n",
       "⎣l₁⋅sin(θ₁) + l₂⋅sin(θ_{ii})⎦"
      ]
     },
     "execution_count": 21,
     "metadata": {},
     "output_type": "execute_result"
    }
   ],
   "source": [
    "P0P2=P0P1+P1P2\n",
    "P0P2"
   ]
  },
  {
   "cell_type": "markdown",
   "metadata": {},
   "source": [
    "其中，$\\theta_{ii}=\\theta_1+\\theta_2$,所以我们需要替换$\\theta_{ii}$"
   ]
  },
  {
   "cell_type": "code",
   "execution_count": 22,
   "metadata": {},
   "outputs": [
    {
     "data": {
      "text/latex": [
       "$\\displaystyle \\left[\\begin{matrix}l_{1} \\cos{\\left(\\theta_{1} \\right)} + l_{2} \\cos{\\left(\\theta_{1} + \\theta_{2} \\right)}\\\\l_{1} \\sin{\\left(\\theta_{1} \\right)} + l_{2} \\sin{\\left(\\theta_{1} + \\theta_{2} \\right)}\\end{matrix}\\right]$"
      ],
      "text/plain": [
       "⎡l₁⋅cos(θ₁) + l₂⋅cos(θ₁ + θ₂)⎤\n",
       "⎢                            ⎥\n",
       "⎣l₁⋅sin(θ₁) + l₂⋅sin(θ₁ + θ₂)⎦"
      ]
     },
     "execution_count": 22,
     "metadata": {},
     "output_type": "execute_result"
    }
   ],
   "source": [
    "P0P2=P0P2.subs(theta_ii,(theta_1+theta_2))\n",
    "P0P2"
   ]
  },
  {
   "cell_type": "markdown",
   "metadata": {},
   "source": [
    "最后我们代入数据验证和图像中是否一致"
   ]
  },
  {
   "cell_type": "code",
   "execution_count": 23,
   "metadata": {},
   "outputs": [
    {
     "data": {
      "image/png": "[encoded data removed]",
      "text/latex": [
       "$\\displaystyle \\left[ 1.92612836400989, \\  1.82764357702089\\right]$"
      ],
      "text/plain": [
       "[1.92612836400989, 1.82764357702089]"
      ]
     },
     "execution_count": 23,
     "metadata": {},
     "output_type": "execute_result"
    }
   ],
   "source": [
    "# 使用字典进行变量替换\n",
    "# 使用批量替换，定义要替换的符号和它们的值\n",
    "theta_1_val=53\n",
    "theta_2_val=-26\n",
    "subs_values = {theta_1: sp.rad(theta_1_val), theta_2: sp.rad(theta_2_val), l1: 1.72, l2: 1.0}\n",
    "# 对 P0P2 批量替换并数值化\n",
    "P0P2_evaluated = [coord.subs(subs_values).evalf() for coord in P0P2]\n",
    "P0P2_evaluated"
   ]
  },
  {
   "cell_type": "markdown",
   "metadata": {},
   "source": [
    "\n",
    "### 2.1.2 逆运动学分析(Inverse Kinematics Anlysis)"
   ]
  },
  {
   "cell_type": "markdown",
   "metadata": {},
   "source": [
    "\n",
    "\n",
    "逆运动学是通过已知末端执行器的位置来计算机器人的关节角度。对于一个两连杆机械臂，逆运动学问题相对于正运动学较为复杂，因为我们从给定的终端位置 $(x, y)$ 推导出关节角 $\\theta_1$ 和 $\\theta_2$。\n",
    "\n",
    "设定两个连杆的长度为 $l_1$ 和 $l_2$，末端执行器的位置为 $(x, y)$。我们需要推导出如下的方程来求解关节角度 $\\theta_1$ 和 $\\theta_2$。"
   ]
  },
  {
   "cell_type": "markdown",
   "metadata": {},
   "source": [
    "#### 几何分析"
   ]
  },
  {
   "cell_type": "markdown",
   "metadata": {},
   "source": [
    "\n",
    "通过前面的几何分析正运动学或者下图所示，我们可以将问题分解为多个已知几何关系的三角形。首先，通过关节角 $\\theta_1$ 和 $\\theta_2$，我们知道末端执行器位置 $(x, y)$ 的关系式是：\n",
    "\n",
    "$$\n",
    "\\left\\{\n",
    "\\begin{aligned}\n",
    "x &= l_1 \\cos(\\theta_1) + l_2 \\cos(\\theta_1 + \\theta_2) \\\\\n",
    "y &= l_1 \\sin(\\theta_1) + l_2 \\sin(\\theta_1 + \\theta_2)\n",
    "\\end{aligned}\n",
    "\\right.\n",
    "\\tag{2.7}\n",
    "$$\n",
    "\n",
    "给定 $x$ 和 $y$，我们的目标是通过逆运动学求解出 $\\theta_1$ 和 $\\theta_2$。"
   ]
  },
  {
   "cell_type": "markdown",
   "metadata": {},
   "source": [
    "#### 手动推导"
   ]
  },
  {
   "cell_type": "markdown",
   "metadata": {},
   "source": [
    "##### 1. **计算极径 $r$**：  \n"
   ]
  },
  {
   "cell_type": "markdown",
   "metadata": {},
   "source": [
    "首先，我们可以计算从原点到末端执行器位置的距离 $r$，即末端执行器的位置向量模长："
   ]
  },
  {
   "cell_type": "code",
   "execution_count": 24,
   "metadata": {},
   "outputs": [
    {
     "data": {
      "application/vnd.jupyter.widget-view+json": {
       "model_id": "ec145b04a0824ab6bace0e18dc81a9fa",
       "version_major": 2,
       "version_minor": 0
      },
      "text/plain": [
       "interactive(children=(FloatSlider(value=35.0, description='Theta1', max=180.0, min=-180.0, step=1.0), FloatSli…"
      ]
     },
     "metadata": {},
     "output_type": "display_data"
    }
   ],
   "source": [
    "from robot_kinematics import create_interactive_forward_with_r\n",
    "create_interactive_forward_with_r()"
   ]
  },
  {
   "cell_type": "markdown",
   "metadata": {},
   "source": [
    "\n",
    "$$\n",
    "r = \\sqrt{x^2 + y^2} \\tag{2.8}\n",
    "$$\n"
   ]
  },
  {
   "cell_type": "markdown",
   "metadata": {},
   "source": [
    "##### 2. 确保条件成立与边界范围计算"
   ]
  },
  {
   "cell_type": "markdown",
   "metadata": {},
   "source": [
    "\n",
    "这个值表示末端执行器到原点的直线距离。为了确保解的存在性，必须满足下列条件：\n",
    "$$\n",
    "\\left| l_1 - l_2 \\right| \\leq r \\leq l_1 + l_2 \\tag{2.9}\n",
    "$$\n",
    "否则目标点超出了机械臂的可达工作空间，无法找到解。\n",
    "###### 示意图\n"
   ]
  },
  {
   "cell_type": "code",
   "execution_count": 25,
   "metadata": {},
   "outputs": [
    {
     "data": {
      "application/vnd.jupyter.widget-view+json": {
       "model_id": "8a76ed982edc4f2c8e78ff010b65c282",
       "version_major": 2,
       "version_minor": 0
      },
      "text/plain": [
       "interactive(children=(FloatSlider(value=35.0, description='Theta1', max=180.0, min=-180.0, step=1.0), FloatSli…"
      ]
     },
     "metadata": {},
     "output_type": "display_data"
    }
   ],
   "source": [
    "from robot_kinematics import create_interactive_forward_with_range\n",
    "create_interactive_forward_with_range()"
   ]
  },
  {
   "cell_type": "markdown",
   "metadata": {},
   "source": [
    "\n",
    "##### 3. **求解角度 $\\theta_2$**"
   ]
  },
  {
   "cell_type": "markdown",
   "metadata": {},
   "source": [
    "利用余弦定理，我们可以求解第二个关节的角度 $\\theta_2$。考虑到末端执行器、关节 1 和关节 2 形成的三角形，我们可以应用[余弦定理(Law of consines)](law_of_cosines.ipynb)。\n",
    "###### 示意图如下"
   ]
  },
  {
   "cell_type": "code",
   "execution_count": 26,
   "metadata": {},
   "outputs": [
    {
     "data": {
      "application/vnd.jupyter.widget-view+json": {
       "model_id": "6df1029932fe4680b4f0795fc5303a22",
       "version_major": 2,
       "version_minor": 0
      },
      "text/plain": [
       "interactive(children=(FloatSlider(value=2.0, description='x', max=3.0, min=-3.0, step=0.01), FloatSlider(value…"
      ]
     },
     "metadata": {},
     "output_type": "display_data"
    }
   ],
   "source": [
    "from robot_kinematics import create_interactive_inverse_for_theta\n",
    "create_interactive_inverse_for_theta()"
   ]
  },
  {
   "cell_type": "markdown",
   "metadata": {},
   "source": [
    "其中有$\\cos(\\phi)=\\cos(\\pi-\\theta_2)=\\cos(\\theta_2)$\n"
   ]
  },
  {
   "cell_type": "markdown",
   "metadata": {},
   "source": [
    "故有\n",
    "$$\n",
    "\\cos(\\theta_2) = \\frac{r^2 - l_1^2 - l_2^2}{2 l_1 l_2} \\tag{2.10}\n",
    "$$"
   ]
  },
  {
   "cell_type": "markdown",
   "metadata": {},
   "source": [
    "#### 最终结果\n"
   ]
  },
  {
   "cell_type": "markdown",
   "metadata": {},
   "source": [
    "\n",
    "由此，角度 $\\theta_2$ 可以表示为：\n",
    "\n",
    "$$\n",
    "\\theta_2 = \\arccos\\left( \\frac{r^2 - l_1^2 - l_2^2}{2 l_1 l_2} \\right) \\tag{2.11}\n",
    "$$\n",
    "\n",
    "**注意**：由于 $\\theta_2$ 可能有两个的正负相反的解（即肘部朝上的解和肘部朝下的解），我们可以通过分别取正角度和负角度来表示这两种情况。\n",
    "- **肘部朝上**(Elbow Up, $\\theta_2 > 0$)\n",
    "- **肘部朝下**(Elbow Up, $\\theta_2 < 0$)"
   ]
  },
  {
   "cell_type": "code",
   "execution_count": 27,
   "metadata": {},
   "outputs": [
    {
     "data": {
      "application/vnd.jupyter.widget-view+json": {
       "model_id": "91404e90db564cd19fd1c5ed3725d99c",
       "version_major": 2,
       "version_minor": 0
      },
      "text/plain": [
       "interactive(children=(FloatSlider(value=2.0, description='x', max=3.0, min=-3.0, step=0.01), FloatSlider(value…"
      ]
     },
     "metadata": {},
     "output_type": "display_data"
    }
   ],
   "source": [
    "from robot_kinematics import create_interactive_inverse\n",
    "create_interactive_inverse()"
   ]
  },
  {
   "cell_type": "markdown",
   "metadata": {},
   "source": [
    "3. **求解角度 $\\theta_1$**：  \n",
    "接下来，我们通过几何关系求解第一个关节的角度 $\\theta_1$。我们首先计算目标位置与原点之间的夹角 $\\phi$：\n"
   ]
  },
  {
   "cell_type": "code",
   "execution_count": 28,
   "metadata": {},
   "outputs": [
    {
     "data": {
      "application/vnd.jupyter.widget-view+json": {
       "model_id": "6d5680afedd1405f830db91772d2266c",
       "version_major": 2,
       "version_minor": 0
      },
      "text/plain": [
       "interactive(children=(FloatSlider(value=1.95, description='x', max=3.0, min=-3.0, step=0.01), FloatSlider(valu…"
      ]
     },
     "metadata": {},
     "output_type": "display_data"
    }
   ],
   "source": [
    "from robot_kinematics import create_interactive_inverse_for_psi_theta\n",
    "create_interactive_inverse_for_psi_theta()"
   ]
  },
  {
   "cell_type": "markdown",
   "metadata": {},
   "source": [
    "\n",
    "$$\n",
    "\\psi = \\arctan\\left( \\frac{y}{x} \\right) \\tag{2.12}\n",
    "$$\n",
    "\n",
    "然后使用几何关系，得出：\n",
    "\n",
    "$$\n",
    "\\left\\{\n",
    "\\begin{aligned}\n",
    "\\theta_1&=\\psi-\\epsilon\\\\\n",
    "\\epsilon&=\\arctan\\left( \\frac{l_2 \\sin(\\theta_2)}{l_1 + l_2 \\cos(\\theta_2)} \\right)\n",
    "\\end{aligned}\n",
    "\\right.\n",
    "\\tag{2.13}\n",
    "$$\n",
    "\n",
    "整理得\n",
    "\n",
    "$$\n",
    "\\theta_1=\\psi-\\arctan\\left( \\frac{l_2 \\sin(\\theta_2)}{l_1 + l_2 \\cos(\\theta_2)} \\right) \\tag{2.14}\n",
    "$$\n",
    "\n",
    "同样，由于 $\\theta_2$ 有两个解，因此 $\\theta_1$ 也有两个相应的解。通过这种方式，我们可以获得肘部朝上和肘部朝下的两种解法。"
   ]
  },
  {
   "cell_type": "markdown",
   "metadata": {},
   "source": [
    "#### 最终公式\n"
   ]
  },
  {
   "cell_type": "markdown",
   "metadata": {},
   "source": [
    "\n",
    "根据以上推导，逆运动学的解可以总结如下：\n",
    "\n",
    "$$\n",
    "\\left\\{\n",
    "\\begin{aligned}\n",
    "\\theta_2 &= \\arccos\\left( \\frac{r^2 - l_1^2 - l_2^2}{2 l_1 l_2} \\right) \\\\\n",
    "\\theta_1 &= \\arctan\\left( \\frac{y}{x} \\right) - \\arctan\\left( \\frac{l_2 \\sin(\\theta_2)}{l_1 + l_2 \\cos(\\theta_2)} \\right)\n",
    "\\end{aligned}\n",
    "\\right.\n",
    "\\tag{2.15}\n",
    "$$\n",
    "\n",
    "由于 $\\theta_2$ 有两个可能的解（肘部朝上和肘部朝下），对于每个 $\\theta_2$，我们可以求解相应的 $\\theta_1$。最终的结果是两个解：\n",
    "\n",
    "1. **肘部朝上的解** $(\\theta_1^a, \\theta_2^a)$\n",
    "2. **肘部朝下的解** $(\\theta_1^b, \\theta_2^b)$"
   ]
  },
  {
   "cell_type": "markdown",
   "metadata": {},
   "source": [
    "#### Python符号变量推导公式"
   ]
  },
  {
   "cell_type": "markdown",
   "metadata": {},
   "source": [
    "现在通过上面的学习，已经知道其正运动学公式（[详见链接](#211-正运动学分析forward-kinecmatics-anlysis)）其公式如下：\n",
    "$$\n",
    "\\overrightarrow{P_0P_2}=[x,y] = \\left[ l_1 \\cos(θ_1) + l_2 \\cos(θ_1 + θ_2), l_1 \\sin(θ_1) + l_2 \\sin(θ_1 + θ_2) \\right] \n",
    "$$"
   ]
  },
  {
   "cell_type": "markdown",
   "metadata": {},
   "source": [
    "会发现求解非线性方程，非常难解。有时候求解不出来。这主要是由于方程当中存在大量的三角函数计算在此处。"
   ]
  },
  {
   "cell_type": "code",
   "execution_count": 101,
   "metadata": {},
   "outputs": [
    {
     "ename": "AttributeError",
     "evalue": "'list' object has no attribute 'is_commutative'",
     "output_type": "error",
     "traceback": [
      "\u001b[1;31m---------------------------------------------------------------------------\u001b[0m",
      "\u001b[1;31mAttributeError\u001b[0m                            Traceback (most recent call last)",
      "Cell \u001b[1;32mIn[101], line 12\u001b[0m\n\u001b[0;32m      9\u001b[0m eq_y \u001b[38;5;241m=\u001b[39m l1 \u001b[38;5;241m*\u001b[39m sp\u001b[38;5;241m.\u001b[39msin(theta1) \u001b[38;5;241m+\u001b[39m l2 \u001b[38;5;241m*\u001b[39m sp\u001b[38;5;241m.\u001b[39msin(theta1 \u001b[38;5;241m+\u001b[39m theta2) \u001b[38;5;241m-\u001b[39m y\n\u001b[0;32m     11\u001b[0m \u001b[38;5;66;03m# 尝试符号解\u001b[39;00m\n\u001b[1;32m---> 12\u001b[0m \u001b[43msp\u001b[49m\u001b[38;5;241;43m.\u001b[39;49m\u001b[43msolve_triangulated\u001b[49m\u001b[43m(\u001b[49m\u001b[43m[\u001b[49m\u001b[43meq_x\u001b[49m\u001b[43m,\u001b[49m\u001b[43m \u001b[49m\u001b[43meq_y\u001b[49m\u001b[43m]\u001b[49m\u001b[43m,\u001b[49m\u001b[43m \u001b[49m\u001b[43m[\u001b[49m\u001b[43mtheta1\u001b[49m\u001b[43m,\u001b[49m\u001b[43m \u001b[49m\u001b[43mtheta2\u001b[49m\u001b[43m]\u001b[49m\u001b[43m,\u001b[49m\u001b[43m \u001b[49m\u001b[38;5;28;43mdict\u001b[39;49m\u001b[38;5;241;43m=\u001b[39;49m\u001b[38;5;28;43;01mTrue\u001b[39;49;00m\u001b[43m)\u001b[49m\n",
      "File \u001b[1;32mc:\\Users\\ufo001jone\\AppData\\Local\\Programs\\Python\\Python312\\Lib\\site-packages\\sympy\\solvers\\polysys.py:386\u001b[0m, in \u001b[0;36msolve_triangulated\u001b[1;34m(polys, *gens, **args)\u001b[0m\n\u001b[0;32m    341\u001b[0m \u001b[38;5;28;01mdef\u001b[39;00m \u001b[38;5;21msolve_triangulated\u001b[39m(polys, \u001b[38;5;241m*\u001b[39mgens, \u001b[38;5;241m*\u001b[39m\u001b[38;5;241m*\u001b[39margs):\n\u001b[0;32m    342\u001b[0m \u001b[38;5;250m    \u001b[39m\u001b[38;5;124;03m\"\"\"\u001b[39;00m\n\u001b[0;32m    343\u001b[0m \u001b[38;5;124;03m    Solve a polynomial system using Gianni-Kalkbrenner algorithm.\u001b[39;00m\n\u001b[0;32m    344\u001b[0m \n\u001b[1;32m   (...)\u001b[0m\n\u001b[0;32m    384\u001b[0m \n\u001b[0;32m    385\u001b[0m \u001b[38;5;124;03m    \"\"\"\u001b[39;00m\n\u001b[1;32m--> 386\u001b[0m     G \u001b[38;5;241m=\u001b[39m \u001b[43mgroebner\u001b[49m\u001b[43m(\u001b[49m\u001b[43mpolys\u001b[49m\u001b[43m,\u001b[49m\u001b[43m \u001b[49m\u001b[43mgens\u001b[49m\u001b[43m,\u001b[49m\u001b[43m \u001b[49m\u001b[43mpolys\u001b[49m\u001b[38;5;241;43m=\u001b[39;49m\u001b[38;5;28;43;01mTrue\u001b[39;49;00m\u001b[43m)\u001b[49m\n\u001b[0;32m    387\u001b[0m     G \u001b[38;5;241m=\u001b[39m \u001b[38;5;28mlist\u001b[39m(\u001b[38;5;28mreversed\u001b[39m(G))\n\u001b[0;32m    389\u001b[0m     domain \u001b[38;5;241m=\u001b[39m args\u001b[38;5;241m.\u001b[39mget(\u001b[38;5;124m'\u001b[39m\u001b[38;5;124mdomain\u001b[39m\u001b[38;5;124m'\u001b[39m)\n",
      "File \u001b[1;32mc:\\Users\\ufo001jone\\AppData\\Local\\Programs\\Python\\Python312\\Lib\\site-packages\\sympy\\polys\\polytools.py:7338\u001b[0m, in \u001b[0;36mgroebner\u001b[1;34m(F, *gens, **args)\u001b[0m\n\u001b[0;32m   7287\u001b[0m \u001b[38;5;129m@public\u001b[39m\n\u001b[0;32m   7288\u001b[0m \u001b[38;5;28;01mdef\u001b[39;00m \u001b[38;5;21mgroebner\u001b[39m(F, \u001b[38;5;241m*\u001b[39mgens, \u001b[38;5;241m*\u001b[39m\u001b[38;5;241m*\u001b[39margs):\n\u001b[0;32m   7289\u001b[0m \u001b[38;5;250m    \u001b[39m\u001b[38;5;124;03m\"\"\"\u001b[39;00m\n\u001b[0;32m   7290\u001b[0m \u001b[38;5;124;03m    Computes the reduced Groebner basis for a set of polynomials.\u001b[39;00m\n\u001b[0;32m   7291\u001b[0m \n\u001b[1;32m   (...)\u001b[0m\n\u001b[0;32m   7336\u001b[0m \n\u001b[0;32m   7337\u001b[0m \u001b[38;5;124;03m    \"\"\"\u001b[39;00m\n\u001b[1;32m-> 7338\u001b[0m     \u001b[38;5;28;01mreturn\u001b[39;00m \u001b[43mGroebnerBasis\u001b[49m\u001b[43m(\u001b[49m\u001b[43mF\u001b[49m\u001b[43m,\u001b[49m\u001b[43m \u001b[49m\u001b[38;5;241;43m*\u001b[39;49m\u001b[43mgens\u001b[49m\u001b[43m,\u001b[49m\u001b[43m \u001b[49m\u001b[38;5;241;43m*\u001b[39;49m\u001b[38;5;241;43m*\u001b[39;49m\u001b[43margs\u001b[49m\u001b[43m)\u001b[49m\n",
      "File \u001b[1;32mc:\\Users\\ufo001jone\\AppData\\Local\\Programs\\Python\\Python312\\Lib\\site-packages\\sympy\\polys\\polytools.py:7368\u001b[0m, in \u001b[0;36mGroebnerBasis.__new__\u001b[1;34m(cls, F, *gens, **args)\u001b[0m\n\u001b[0;32m   7365\u001b[0m options\u001b[38;5;241m.\u001b[39mallowed_flags(args, [\u001b[38;5;124m'\u001b[39m\u001b[38;5;124mpolys\u001b[39m\u001b[38;5;124m'\u001b[39m, \u001b[38;5;124m'\u001b[39m\u001b[38;5;124mmethod\u001b[39m\u001b[38;5;124m'\u001b[39m])\n\u001b[0;32m   7367\u001b[0m \u001b[38;5;28;01mtry\u001b[39;00m:\n\u001b[1;32m-> 7368\u001b[0m     polys, opt \u001b[38;5;241m=\u001b[39m \u001b[43mparallel_poly_from_expr\u001b[49m\u001b[43m(\u001b[49m\u001b[43mF\u001b[49m\u001b[43m,\u001b[49m\u001b[43m \u001b[49m\u001b[38;5;241;43m*\u001b[39;49m\u001b[43mgens\u001b[49m\u001b[43m,\u001b[49m\u001b[43m \u001b[49m\u001b[38;5;241;43m*\u001b[39;49m\u001b[38;5;241;43m*\u001b[39;49m\u001b[43margs\u001b[49m\u001b[43m)\u001b[49m\n\u001b[0;32m   7369\u001b[0m \u001b[38;5;28;01mexcept\u001b[39;00m PolificationFailed \u001b[38;5;28;01mas\u001b[39;00m exc:\n\u001b[0;32m   7370\u001b[0m     \u001b[38;5;28;01mraise\u001b[39;00m ComputationFailed(\u001b[38;5;124m'\u001b[39m\u001b[38;5;124mgroebner\u001b[39m\u001b[38;5;124m'\u001b[39m, \u001b[38;5;28mlen\u001b[39m(F), exc)\n",
      "File \u001b[1;32mc:\\Users\\ufo001jone\\AppData\\Local\\Programs\\Python\\Python312\\Lib\\site-packages\\sympy\\polys\\polytools.py:4537\u001b[0m, in \u001b[0;36mparallel_poly_from_expr\u001b[1;34m(exprs, *gens, **args)\u001b[0m\n\u001b[0;32m   4534\u001b[0m \u001b[38;5;129m@public\u001b[39m\n\u001b[0;32m   4535\u001b[0m \u001b[38;5;28;01mdef\u001b[39;00m \u001b[38;5;21mparallel_poly_from_expr\u001b[39m(exprs, \u001b[38;5;241m*\u001b[39mgens, \u001b[38;5;241m*\u001b[39m\u001b[38;5;241m*\u001b[39margs):\n\u001b[0;32m   4536\u001b[0m \u001b[38;5;250m    \u001b[39m\u001b[38;5;124;03m\"\"\"Construct polynomials from expressions. \"\"\"\u001b[39;00m\n\u001b[1;32m-> 4537\u001b[0m     opt \u001b[38;5;241m=\u001b[39m \u001b[43moptions\u001b[49m\u001b[38;5;241;43m.\u001b[39;49m\u001b[43mbuild_options\u001b[49m\u001b[43m(\u001b[49m\u001b[43mgens\u001b[49m\u001b[43m,\u001b[49m\u001b[43m \u001b[49m\u001b[43margs\u001b[49m\u001b[43m)\u001b[49m\n\u001b[0;32m   4538\u001b[0m     \u001b[38;5;28;01mreturn\u001b[39;00m _parallel_poly_from_expr(exprs, opt)\n",
      "File \u001b[1;32mc:\\Users\\ufo001jone\\AppData\\Local\\Programs\\Python\\Python312\\Lib\\site-packages\\sympy\\polys\\polyoptions.py:742\u001b[0m, in \u001b[0;36mbuild_options\u001b[1;34m(gens, args)\u001b[0m\n\u001b[0;32m    739\u001b[0m     gens, args \u001b[38;5;241m=\u001b[39m (), gens\n\u001b[0;32m    741\u001b[0m \u001b[38;5;28;01mif\u001b[39;00m \u001b[38;5;28mlen\u001b[39m(args) \u001b[38;5;241m!=\u001b[39m \u001b[38;5;241m1\u001b[39m \u001b[38;5;129;01mor\u001b[39;00m \u001b[38;5;124m'\u001b[39m\u001b[38;5;124mopt\u001b[39m\u001b[38;5;124m'\u001b[39m \u001b[38;5;129;01mnot\u001b[39;00m \u001b[38;5;129;01min\u001b[39;00m args \u001b[38;5;129;01mor\u001b[39;00m gens:\n\u001b[1;32m--> 742\u001b[0m     \u001b[38;5;28;01mreturn\u001b[39;00m \u001b[43mOptions\u001b[49m\u001b[43m(\u001b[49m\u001b[43mgens\u001b[49m\u001b[43m,\u001b[49m\u001b[43m \u001b[49m\u001b[43margs\u001b[49m\u001b[43m)\u001b[49m\n\u001b[0;32m    743\u001b[0m \u001b[38;5;28;01melse\u001b[39;00m:\n\u001b[0;32m    744\u001b[0m     \u001b[38;5;28;01mreturn\u001b[39;00m args[\u001b[38;5;124m'\u001b[39m\u001b[38;5;124mopt\u001b[39m\u001b[38;5;124m'\u001b[39m]\n",
      "File \u001b[1;32mc:\\Users\\ufo001jone\\AppData\\Local\\Programs\\Python\\Python312\\Lib\\site-packages\\sympy\\polys\\polyoptions.py:153\u001b[0m, in \u001b[0;36mOptions.__init__\u001b[1;34m(self, gens, args, flags, strict)\u001b[0m\n\u001b[0;32m    150\u001b[0m         \u001b[38;5;28;01mif\u001b[39;00m value \u001b[38;5;129;01mis\u001b[39;00m \u001b[38;5;129;01mnot\u001b[39;00m \u001b[38;5;28;01mNone\u001b[39;00m:\n\u001b[0;32m    151\u001b[0m             \u001b[38;5;28mself\u001b[39m[option] \u001b[38;5;241m=\u001b[39m \u001b[38;5;28mcls\u001b[39m\u001b[38;5;241m.\u001b[39mpreprocess(value)\n\u001b[1;32m--> 153\u001b[0m \u001b[43mpreprocess_options\u001b[49m\u001b[43m(\u001b[49m\u001b[43margs\u001b[49m\u001b[43m)\u001b[49m\n\u001b[0;32m    155\u001b[0m \u001b[38;5;28;01mfor\u001b[39;00m key \u001b[38;5;129;01min\u001b[39;00m \u001b[38;5;28mdict\u001b[39m(defaults):\n\u001b[0;32m    156\u001b[0m     \u001b[38;5;28;01mif\u001b[39;00m key \u001b[38;5;129;01min\u001b[39;00m \u001b[38;5;28mself\u001b[39m:\n",
      "File \u001b[1;32mc:\\Users\\ufo001jone\\AppData\\Local\\Programs\\Python\\Python312\\Lib\\site-packages\\sympy\\polys\\polyoptions.py:151\u001b[0m, in \u001b[0;36mOptions.__init__.<locals>.preprocess_options\u001b[1;34m(args)\u001b[0m\n\u001b[0;32m    148\u001b[0m             \u001b[38;5;28;01mraise\u001b[39;00m OptionError(\u001b[38;5;124m\"\u001b[39m\u001b[38;5;124m'\u001b[39m\u001b[38;5;132;01m%s\u001b[39;00m\u001b[38;5;124m'\u001b[39m\u001b[38;5;124m flag is not allowed in this context\u001b[39m\u001b[38;5;124m\"\u001b[39m \u001b[38;5;241m%\u001b[39m option)\n\u001b[0;32m    150\u001b[0m \u001b[38;5;28;01mif\u001b[39;00m value \u001b[38;5;129;01mis\u001b[39;00m \u001b[38;5;129;01mnot\u001b[39;00m \u001b[38;5;28;01mNone\u001b[39;00m:\n\u001b[1;32m--> 151\u001b[0m     \u001b[38;5;28mself\u001b[39m[option] \u001b[38;5;241m=\u001b[39m \u001b[38;5;28;43mcls\u001b[39;49m\u001b[38;5;241;43m.\u001b[39;49m\u001b[43mpreprocess\u001b[49m\u001b[43m(\u001b[49m\u001b[43mvalue\u001b[49m\u001b[43m)\u001b[49m\n",
      "File \u001b[1;32mc:\\Users\\ufo001jone\\AppData\\Local\\Programs\\Python\\Python312\\Lib\\site-packages\\sympy\\polys\\polyoptions.py:289\u001b[0m, in \u001b[0;36mGens.preprocess\u001b[1;34m(cls, gens)\u001b[0m\n\u001b[0;32m    287\u001b[0m \u001b[38;5;28;01melif\u001b[39;00m has_dups(gens):\n\u001b[0;32m    288\u001b[0m     \u001b[38;5;28;01mraise\u001b[39;00m GeneratorsError(\u001b[38;5;124m\"\u001b[39m\u001b[38;5;124mduplicated generators: \u001b[39m\u001b[38;5;132;01m%s\u001b[39;00m\u001b[38;5;124m\"\u001b[39m \u001b[38;5;241m%\u001b[39m \u001b[38;5;28mstr\u001b[39m(gens))\n\u001b[1;32m--> 289\u001b[0m \u001b[38;5;28;01melif\u001b[39;00m \u001b[38;5;28;43many\u001b[39;49m\u001b[43m(\u001b[49m\u001b[43mgen\u001b[49m\u001b[38;5;241;43m.\u001b[39;49m\u001b[43mis_commutative\u001b[49m\u001b[43m \u001b[49m\u001b[38;5;129;43;01mis\u001b[39;49;00m\u001b[43m \u001b[49m\u001b[38;5;28;43;01mFalse\u001b[39;49;00m\u001b[43m \u001b[49m\u001b[38;5;28;43;01mfor\u001b[39;49;00m\u001b[43m \u001b[49m\u001b[43mgen\u001b[49m\u001b[43m \u001b[49m\u001b[38;5;129;43;01min\u001b[39;49;00m\u001b[43m \u001b[49m\u001b[43mgens\u001b[49m\u001b[43m)\u001b[49m:\n\u001b[0;32m    290\u001b[0m     \u001b[38;5;28;01mraise\u001b[39;00m GeneratorsError(\u001b[38;5;124m\"\u001b[39m\u001b[38;5;124mnon-commutative generators: \u001b[39m\u001b[38;5;132;01m%s\u001b[39;00m\u001b[38;5;124m\"\u001b[39m \u001b[38;5;241m%\u001b[39m \u001b[38;5;28mstr\u001b[39m(gens))\n\u001b[0;32m    292\u001b[0m \u001b[38;5;28;01mreturn\u001b[39;00m \u001b[38;5;28mtuple\u001b[39m(gens)\n",
      "File \u001b[1;32mc:\\Users\\ufo001jone\\AppData\\Local\\Programs\\Python\\Python312\\Lib\\site-packages\\sympy\\polys\\polyoptions.py:289\u001b[0m, in \u001b[0;36m<genexpr>\u001b[1;34m(.0)\u001b[0m\n\u001b[0;32m    287\u001b[0m \u001b[38;5;28;01melif\u001b[39;00m has_dups(gens):\n\u001b[0;32m    288\u001b[0m     \u001b[38;5;28;01mraise\u001b[39;00m GeneratorsError(\u001b[38;5;124m\"\u001b[39m\u001b[38;5;124mduplicated generators: \u001b[39m\u001b[38;5;132;01m%s\u001b[39;00m\u001b[38;5;124m\"\u001b[39m \u001b[38;5;241m%\u001b[39m \u001b[38;5;28mstr\u001b[39m(gens))\n\u001b[1;32m--> 289\u001b[0m \u001b[38;5;28;01melif\u001b[39;00m \u001b[38;5;28many\u001b[39m(\u001b[43mgen\u001b[49m\u001b[38;5;241;43m.\u001b[39;49m\u001b[43mis_commutative\u001b[49m \u001b[38;5;129;01mis\u001b[39;00m \u001b[38;5;28;01mFalse\u001b[39;00m \u001b[38;5;28;01mfor\u001b[39;00m gen \u001b[38;5;129;01min\u001b[39;00m gens):\n\u001b[0;32m    290\u001b[0m     \u001b[38;5;28;01mraise\u001b[39;00m GeneratorsError(\u001b[38;5;124m\"\u001b[39m\u001b[38;5;124mnon-commutative generators: \u001b[39m\u001b[38;5;132;01m%s\u001b[39;00m\u001b[38;5;124m\"\u001b[39m \u001b[38;5;241m%\u001b[39m \u001b[38;5;28mstr\u001b[39m(gens))\n\u001b[0;32m    292\u001b[0m \u001b[38;5;28;01mreturn\u001b[39;00m \u001b[38;5;28mtuple\u001b[39m(gens)\n",
      "\u001b[1;31mAttributeError\u001b[0m: 'list' object has no attribute 'is_commutative'"
     ]
    }
   ],
   "source": [
    "import sympy as sp\n",
    "\n",
    "# 定义符号变量，并对变量进行限制\n",
    "l1, l2 = sp.symbols('l1 l2', positive=True, real=True)  # l1 和 l2 都是大于 0 的正实数\n",
    "theta1, theta2, x, y = sp.symbols('theta1 theta2 x y', real=True)  # theta1、theta2、x、y 都为实数\n",
    "\n",
    "# 设定逆运动学的方程\n",
    "eq_x = l1 * sp.cos(theta1) + l2 * sp.cos(theta1 + theta2) - x\n",
    "eq_y = l1 * sp.sin(theta1) + l2 * sp.sin(theta1 + theta2) - y\n",
    "\n",
    "# 尝试符号解\n",
    "sp.solve_triangulated([eq_x, eq_y], [theta1, theta2], dict=True)\n"
   ]
  },
  {
   "cell_type": "markdown",
   "metadata": {},
   "source": [
    "所以有的时候我们简化，尽量将$\\cos$和$\\sin$用符号$c$和$s$代替先求解，比如$\\cos(\\theta_1)$和$\\sin(\\theta_2)$用符号$c_1$和$s_2$表示"
   ]
  },
  {
   "cell_type": "markdown",
   "metadata": {},
   "source": [
    "###### $cos(\\theta_1+\\theta_2)展开$"
   ]
  },
  {
   "cell_type": "code",
   "execution_count": 88,
   "metadata": {},
   "outputs": [
    {
     "data": {
      "image/png": "[encoded data removed]",
      "text/latex": [
       "$\\displaystyle - \\sin{\\left(\\theta_{1} \\right)} \\sin{\\left(\\theta_{2} \\right)} + \\cos{\\left(\\theta_{1} \\right)} \\cos{\\left(\\theta_{2} \\right)}$"
      ],
      "text/plain": [
       "-sin(θ₁)⋅sin(θ₂) + cos(θ₁)⋅cos(θ₂)"
      ]
     },
     "execution_count": 88,
     "metadata": {},
     "output_type": "execute_result"
    }
   ],
   "source": [
    "import sympy as sp\n",
    "\n",
    "# 定义符号变量，并对变量进行限制\n",
    "l1, l2 = sp.symbols('l1 l2', positive=True, real=True)  # l1 和 l2 都是大于 0 的正实数\n",
    "theta1, theta2, x, y = sp.symbols('theta1 theta2 x y', real=True)  # theta1、theta2、x、y 都为实数\n",
    "sp.expand_trig(sp.cos(theta1+theta2))\n"
   ]
  },
  {
   "cell_type": "markdown",
   "metadata": {},
   "source": [
    "###### $sin(\\theta_1+\\theta_2)展开$"
   ]
  },
  {
   "cell_type": "code",
   "execution_count": 89,
   "metadata": {},
   "outputs": [
    {
     "data": {
      "image/png": "[encoded data removed]",
      "text/latex": [
       "$\\displaystyle \\sin{\\left(\\theta_{1} \\right)} \\cos{\\left(\\theta_{2} \\right)} + \\sin{\\left(\\theta_{2} \\right)} \\cos{\\left(\\theta_{1} \\right)}$"
      ],
      "text/plain": [
       "sin(θ₁)⋅cos(θ₂) + sin(θ₂)⋅cos(θ₁)"
      ]
     },
     "execution_count": 89,
     "metadata": {},
     "output_type": "execute_result"
    }
   ],
   "source": [
    "sp.expand_trig(sp.sin(theta1+theta2))"
   ]
  },
  {
   "cell_type": "markdown",
   "metadata": {},
   "source": [
    "###### 将展开的方程进行符号替换"
   ]
  },
  {
   "cell_type": "code",
   "execution_count": 119,
   "metadata": {},
   "outputs": [
    {
     "name": "stdout",
     "output_type": "stream",
     "text": [
      "======== set：{0} ========\n",
      "c1:\n",
      "(l1**2*x - l2**2*x + x**3 + x*y**2 - y*sqrt(-l1**4 + 2*l1**2*l2**2 + 2*l1**2*x**2 + 2*l1**2*y**2 - l2**4 + 2*l2**2*x**2 + 2*l2**2*y**2 - x**4 - 2*x**2*y**2 - y**4))/(2*l1*(x**2 + y**2))\n",
      "s1:\n",
      "(l1**2*y - l2**2*y + x**2*y + x*sqrt(-l1**4 + 2*l1**2*l2**2 + 2*l1**2*x**2 + 2*l1**2*y**2 - l2**4 + 2*l2**2*x**2 + 2*l2**2*y**2 - x**4 - 2*x**2*y**2 - y**4) + y**3)/(2*l1*(x**2 + y**2))\n",
      "c2:\n",
      "(-l1**2 - l2**2 + x**2 + y**2)/(2*l1*l2)\n",
      "s2:\n",
      "-sqrt((-l1**2 + 2*l1*l2 - l2**2 + x**2 + y**2)*(l1**2 + 2*l1*l2 + l2**2 - x**2 - y**2))/(2*l1*l2)\n",
      "======== set：{1} ========\n",
      "c1:\n",
      "(l1**2*x - l2**2*x + x**3 + x*y**2 + y*sqrt(-l1**4 + 2*l1**2*l2**2 + 2*l1**2*x**2 + 2*l1**2*y**2 - l2**4 + 2*l2**2*x**2 + 2*l2**2*y**2 - x**4 - 2*x**2*y**2 - y**4))/(2*l1*(x**2 + y**2))\n",
      "s1:\n",
      "(l1**2*y - l2**2*y + x**2*y - x*sqrt(-l1**4 + 2*l1**2*l2**2 + 2*l1**2*x**2 + 2*l1**2*y**2 - l2**4 + 2*l2**2*x**2 + 2*l2**2*y**2 - x**4 - 2*x**2*y**2 - y**4) + y**3)/(2*l1*(x**2 + y**2))\n",
      "c2:\n",
      "(-l1**2 - l2**2 + x**2 + y**2)/(2*l1*l2)\n",
      "s2:\n",
      "sqrt((-l1**2 + 2*l1*l2 - l2**2 + x**2 + y**2)*(l1**2 + 2*l1*l2 + l2**2 - x**2 - y**2))/(2*l1*l2)\n"
     ]
    }
   ],
   "source": [
    "import sympy as sp\n",
    "\n",
    "# 定义符号变量，并对变量进行限制\n",
    "l1, l2 = sp.symbols('l1 l2', positive=True, real=True)  # l1 和 l2 都是正实数\n",
    "theta1, theta2, x, y = sp.symbols('theta1 theta2 x y', real=True)  # theta1, theta2, x, y 是实数\n",
    "c1, s1, c2, s2 = sp.symbols('c1 s1 c2 s2', real=True)  # c1, s1, c2, s2 是实数，余弦和正弦值\n",
    "\n",
    "# 设定逆运动学的方程\n",
    "eq_x = l1 * c1 + l2 * (c1*c2 - s1*s2) - x\n",
    "eq_y = l1 * s1 + l2 * (c1*s2 + s1*c2) - y\n",
    "\n",
    "# 三角恒等式约束条件：c1^2 + s1^2 = 1, c2^2 + s2^2 = 1\n",
    "eq_c1s1 = c1**2 + s1**2 - 1\n",
    "eq_c2s2 = c2**2 + s2**2 - 1\n",
    "\n",
    "# 使用 SymPy 的 solve 函数进行求解\n",
    "solutions = sp.solve([eq_x, eq_y, eq_c1s1, eq_c2s2], [c1, s1, c2, s2])\n",
    "\n",
    "# 打印解\n",
    "for ind_0,sol_set in enumerate(solutions):\n",
    "    print(\"=\"*8, \"set：{%d}\" % ind_0, \"=\"*8)\n",
    "    for ind_1,sol in enumerate(sol_set):\n",
    "        if ind_1==0:\n",
    "            str_tmp=\"c1\"\n",
    "        elif ind_1==1:\n",
    "            str_tmp=\"s1\"\n",
    "        elif ind_1==2:\n",
    "            str_tmp=\"c2\"                        \n",
    "        else:\n",
    "            str_tmp=\"s2\"                        \n",
    "        print(str_tmp+\":\")\n",
    "        sol=sp.simplify(sol)\n",
    "        print(sol)\n"
   ]
  },
  {
   "cell_type": "code",
   "execution_count": 148,
   "metadata": {},
   "outputs": [
    {
     "name": "stdout",
     "output_type": "stream",
     "text": [
      "2\n",
      "[atan2((l1**2*y - l2**2*y + x**2*y + x*sqrt(-l1**4 + 2*l1**2*l2**2 + 2*l1**2*x**2 + 2*l1**2*y**2 - l2**4 + 2*l2**2*x**2 + 2*l2**2*y**2 - x**4 - 2*x**2*y**2 - y**4) + y**3)/(2*l1*(x**2 + y**2)), (l1**2*x - l2**2*x + x**3 + x*y**2 - y*sqrt(-l1**4 + 2*l1**2*l2**2 + 2*l1**2*x**2 + 2*l1**2*y**2 - l2**4 + 2*l2**2*x**2 + 2*l2**2*y**2 - x**4 - 2*x**2*y**2 - y**4))/(2*l1*(x**2 + y**2))), atan2((l1**2*y - l2**2*y + x**2*y - x*sqrt(-l1**4 + 2*l1**2*l2**2 + 2*l1**2*x**2 + 2*l1**2*y**2 - l2**4 + 2*l2**2*x**2 + 2*l2**2*y**2 - x**4 - 2*x**2*y**2 - y**4) + y**3)/(2*l1*(x**2 + y**2)), (l1**2*x - l2**2*x + x**3 + x*y**2 + y*sqrt(-l1**4 + 2*l1**2*l2**2 + 2*l1**2*x**2 + 2*l1**2*y**2 - l2**4 + 2*l2**2*x**2 + 2*l2**2*y**2 - x**4 - 2*x**2*y**2 - y**4))/(2*l1*(x**2 + y**2)))]\n",
      "2\n",
      "[atan2(-sqrt(-(-l1**2 - 2*l1*l2 - l2**2 + x**2 + y**2)*(-l1**2 + 2*l1*l2 - l2**2 + x**2 + y**2))/(2*l1*l2), (-l1**2 - l2**2 + x**2 + y**2)/(2*l1*l2)), atan2(sqrt(-(-l1**2 - 2*l1*l2 - l2**2 + x**2 + y**2)*(-l1**2 + 2*l1*l2 - l2**2 + x**2 + y**2))/(2*l1*l2), (-l1**2 - l2**2 + x**2 + y**2)/(2*l1*l2))]\n"
     ]
    }
   ],
   "source": [
    "theta1 = []\n",
    "theta2 = []\n",
    "for ind_0, sol_set in enumerate(solutions):\n",
    "    c_t1, c_t2, s_t1, s_t2 = sol_set\n",
    "    theta1.append(sp.atan2(sol_set[1], sol_set[0]))  # 计算并添加到theta1列表\n",
    "    theta2.append(sp.atan2(sol_set[3], sol_set[2]))  # 计算并添加到theta2列表\n",
    "print(len(theta1))\n",
    "print(theta1)\n",
    "print(len(theta2))\n",
    "print(theta2)\n"
   ]
  },
  {
   "cell_type": "markdown",
   "metadata": {},
   "source": [
    "###### 结果验证"
   ]
  },
  {
   "cell_type": "code",
   "execution_count": 152,
   "metadata": {},
   "outputs": [
    {
     "data": {
      "application/vnd.jupyter.widget-view+json": {
       "model_id": "846ba91c05cc453baf573371302e84d0",
       "version_major": 2,
       "version_minor": 0
      },
      "text/plain": [
       "interactive(children=(FloatSlider(value=35.0, description='Theta1', max=180.0, min=-180.0, step=1.0), FloatSli…"
      ]
     },
     "metadata": {},
     "output_type": "display_data"
    }
   ],
   "source": [
    "from robot_kinematics import create_interactive_forward_with_r\n",
    "create_interactive_forward_with_r()"
   ]
  },
  {
   "cell_type": "code",
   "execution_count": 153,
   "metadata": {},
   "outputs": [
    {
     "name": "stdout",
     "output_type": "stream",
     "text": [
      "84.7102945003114 -70.98158115379378\n",
      "35.10622152419917 70.98158115379378\n"
     ]
    }
   ],
   "source": [
    "import math\n",
    "x_num=1.13\n",
    "y_num=1.95\n",
    "theta1_num = [float(theta.subs([(l1, 1.72), (l2, 1.0), (x, x_num), (y, y_num)]) * 180 / math.pi) for theta in theta1]\n",
    "theta2_num = [float(theta.subs([(l1, 1.72), (l2, 1.0), (x, x_num), (y, y_num)]) * 180 / math.pi) for theta in theta2]\n",
    "print(theta1_num[0],theta2_num[0])\n",
    "print(theta1_num[1],theta2_num[1])\n",
    "\n"
   ]
  },
  {
   "cell_type": "code",
   "execution_count": 154,
   "metadata": {},
   "outputs": [
    {
     "data": {
      "application/vnd.jupyter.widget-view+json": {
       "model_id": "d219fa71d23a4194bde483cfca1dcbf0",
       "version_major": 2,
       "version_minor": 0
      },
      "text/plain": [
       "interactive(children=(FloatSlider(value=2.0, description='x', max=3.0, min=-3.0, step=0.01), FloatSlider(value…"
      ]
     },
     "metadata": {},
     "output_type": "display_data"
    }
   ],
   "source": [
    "from robot_kinematics import create_interactive_inverse\n",
    "create_interactive_inverse()"
   ]
  },
  {
   "cell_type": "markdown",
   "metadata": {},
   "source": [
    "### 2.1.3 运动范围分析"
   ]
  }
 ],
 "metadata": {
  "kernelspec": {
   "display_name": "Python 3",
   "language": "python",
   "name": "python3"
  },
  "language_info": {
   "codemirror_mode": {
    "name": "ipython",
    "version": 3
   },
   "file_extension": ".py",
   "mimetype": "text/x-python",
   "name": "python",
   "nbconvert_exporter": "python",
   "pygments_lexer": "ipython3",
   "version": "3.12.4"
  }
 },
 "nbformat": 4,
 "nbformat_minor": 2
}
