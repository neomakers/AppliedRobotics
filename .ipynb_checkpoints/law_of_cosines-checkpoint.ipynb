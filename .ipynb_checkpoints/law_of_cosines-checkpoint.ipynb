{
 "cells": [
  {
   "cell_type": "markdown",
   "metadata": {},
   "source": [
    "# 余弦定理(Law of consines)\n",
    "- 如果已知三角形的两条边和它们之间的夹角，第三条边可以用公式计算：\n",
    "  $$\n",
    "  c = \\sqrt{a^2 + b^2 - 2ab \\cos \\gamma}\n",
    "  $$\n",
    "\n",
    "- 如果已知三角形的三条边，可以用以下公式计算其中一个角度：\n",
    "  $$\n",
    "  \\gamma = \\arccos \\left( \\frac{a^2 + b^2 - c^2}{2ab} \\right)\n",
    "  $$\n",
    "  \n",
    "  ![low_of_cosines](law_of_cosines.png)\n",
    "  \n",
    "\n"
   ]
  }
 ],
 "metadata": {
  "kernelspec": {
   "display_name": "Python 3 (ipykernel)",
   "language": "python",
   "name": "python3"
  },
  "language_info": {
   "codemirror_mode": {
    "name": "ipython",
    "version": 3
   },
   "file_extension": ".py",
   "mimetype": "text/x-python",
   "name": "python",
   "nbconvert_exporter": "python",
   "pygments_lexer": "ipython3",
   "version": "3.9.13"
  }
 },
 "nbformat": 4,
 "nbformat_minor": 2
}
