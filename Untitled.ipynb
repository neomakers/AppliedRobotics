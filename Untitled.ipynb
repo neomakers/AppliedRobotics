{
 "cells": [
  {
   "cell_type": "markdown",
   "id": "84dd8a92",
   "metadata": {},
   "source": [
    "## 2.1 几何方法用于建立机器人运动学模型"
   ]
  }
 ],
 "metadata": {
  "celltoolbar": "Slideshow",
  "kernelspec": {
   "display_name": "Python 3 (ipykernel)",
   "language": "python",
   "name": "python3"
  },
  "language_info": {
   "codemirror_mode": {
    "name": "ipython",
    "version": 3
   },
   "file_extension": ".py",
   "mimetype": "text/x-python",
   "name": "python",
   "nbconvert_exporter": "python",
   "pygments_lexer": "ipython3",
   "version": "3.9.13"
  }
 },
 "nbformat": 4,
 "nbformat_minor": 5
}
